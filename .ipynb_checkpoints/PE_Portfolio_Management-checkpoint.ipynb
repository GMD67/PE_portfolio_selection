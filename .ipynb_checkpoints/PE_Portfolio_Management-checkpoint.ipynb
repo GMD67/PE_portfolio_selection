{
 "cells": [
  {
   "cell_type": "markdown",
   "metadata": {
    "id": "GeN5jLMqLBde"
   },
   "source": [
    "## Data Preparation"
   ]
  },
  {
   "cell_type": "markdown",
   "metadata": {
    "id": "hAHZEixfw4aa"
   },
   "source": [
    "### What data are we looking for?"
   ]
  },
  {
   "cell_type": "markdown",
   "metadata": {
    "id": "mD4BD5LBVGeS"
   },
   "source": [
    "We are working on getting the newly listed companies' fundraising and valuation data in the Information Technology sector. Getting this kind of data is a little tricky so we will first use the financial data for well-established listed companies to test the model. \n"
   ]
  },
  {
   "cell_type": "markdown",
   "metadata": {
    "id": "r-DVd_3Xx8lU"
   },
   "source": [
    "1. Pitchbook\n",
    "2. Crunchbase --- "
   ]
  },
  {
   "cell_type": "markdown",
   "metadata": {
    "id": "-RiLyhzR7H4P"
   },
   "source": [
    "### Code for Data Preparation"
   ]
  },
  {
   "cell_type": "code",
   "execution_count": null,
   "metadata": {
    "colab": {
     "base_uri": "https://localhost:8080/"
    },
    "executionInfo": {
     "elapsed": 5229,
     "status": "ok",
     "timestamp": 1660509416320,
     "user": {
      "displayName": "Deng Guanrou",
      "userId": "13037902960530104865"
     },
     "user_tz": -60
    },
    "id": "SOZA9VwutD8B",
    "outputId": "79629ca1-8bfb-4f89-8b37-5682df96111b"
   },
   "outputs": [
    {
     "name": "stdout",
     "output_type": "stream",
     "text": [
      "Looking in indexes: https://pypi.org/simple, https://us-python.pkg.dev/colab-wheels/public/simple/\n",
      "Collecting distfit\n",
      "  Downloading distfit-1.4.5-py3-none-any.whl (22 kB)\n",
      "Collecting pypickle\n",
      "  Downloading pypickle-1.1.0-py3-none-any.whl (5.1 kB)\n",
      "Requirement already satisfied: matplotlib in /usr/local/lib/python3.7/dist-packages (from distfit) (3.2.2)\n",
      "Requirement already satisfied: scipy in /usr/local/lib/python3.7/dist-packages (from distfit) (1.7.3)\n",
      "Requirement already satisfied: numpy in /usr/local/lib/python3.7/dist-packages (from distfit) (1.21.6)\n",
      "Requirement already satisfied: statsmodels in /usr/local/lib/python3.7/dist-packages (from distfit) (0.10.2)\n",
      "Requirement already satisfied: tqdm in /usr/local/lib/python3.7/dist-packages (from distfit) (4.64.0)\n",
      "Requirement already satisfied: pandas in /usr/local/lib/python3.7/dist-packages (from distfit) (1.3.5)\n",
      "Requirement already satisfied: pyparsing!=2.0.4,!=2.1.2,!=2.1.6,>=2.0.1 in /usr/local/lib/python3.7/dist-packages (from matplotlib->distfit) (3.0.9)\n",
      "Requirement already satisfied: cycler>=0.10 in /usr/local/lib/python3.7/dist-packages (from matplotlib->distfit) (0.11.0)\n",
      "Requirement already satisfied: python-dateutil>=2.1 in /usr/local/lib/python3.7/dist-packages (from matplotlib->distfit) (2.8.2)\n",
      "Requirement already satisfied: kiwisolver>=1.0.1 in /usr/local/lib/python3.7/dist-packages (from matplotlib->distfit) (1.4.4)\n",
      "Requirement already satisfied: typing-extensions in /usr/local/lib/python3.7/dist-packages (from kiwisolver>=1.0.1->matplotlib->distfit) (4.1.1)\n",
      "Requirement already satisfied: six>=1.5 in /usr/local/lib/python3.7/dist-packages (from python-dateutil>=2.1->matplotlib->distfit) (1.15.0)\n",
      "Requirement already satisfied: pytz>=2017.3 in /usr/local/lib/python3.7/dist-packages (from pandas->distfit) (2022.1)\n",
      "Requirement already satisfied: patsy>=0.4.0 in /usr/local/lib/python3.7/dist-packages (from statsmodels->distfit) (0.5.2)\n",
      "Installing collected packages: pypickle, distfit\n",
      "Successfully installed distfit-1.4.5 pypickle-1.1.0\n"
     ]
    }
   ],
   "source": [
    "pip install distfit"
   ]
  },
  {
   "cell_type": "code",
   "execution_count": null,
   "metadata": {
    "colab": {
     "base_uri": "https://localhost:8080/"
    },
    "executionInfo": {
     "elapsed": 8817,
     "status": "ok",
     "timestamp": 1660389858074,
     "user": {
      "displayName": "Deng Guanrou",
      "userId": "13037902960530104865"
     },
     "user_tz": -60
    },
    "id": "MYdLk58NNZnG",
    "outputId": "b990ffb3-a988-438c-e3d7-29998b86610f"
   },
   "outputs": [
    {
     "name": "stdout",
     "output_type": "stream",
     "text": [
      "Looking in indexes: https://pypi.org/simple, https://us-python.pkg.dev/colab-wheels/public/simple/\n",
      "Collecting GEKKO\n",
      "  Downloading gekko-1.0.4-py3-none-any.whl (14.1 MB)\n",
      "\u001b[K     |████████████████████████████████| 14.1 MB 4.1 MB/s \n",
      "\u001b[?25hRequirement already satisfied: numpy>=1.8 in /usr/local/lib/python3.7/dist-packages (from GEKKO) (1.21.6)\n",
      "Installing collected packages: GEKKO\n",
      "Successfully installed GEKKO-1.0.4\n"
     ]
    }
   ],
   "source": [
    "pip install GEKKO"
   ]
  },
  {
   "cell_type": "code",
   "execution_count": 1,
   "metadata": {
    "executionInfo": {
     "elapsed": 619,
     "status": "ok",
     "timestamp": 1660833550794,
     "user": {
      "displayName": "Deng Guanrou",
      "userId": "13037902960530104865"
     },
     "user_tz": -60
    },
    "id": "zZbw-euSXXaW"
   },
   "outputs": [],
   "source": [
    "import numpy as np\n",
    "import pandas as pd\n",
    "import matplotlib.pyplot as plt\n",
    "import scipy"
   ]
  },
  {
   "cell_type": "code",
   "execution_count": null,
   "metadata": {
    "colab": {
     "base_uri": "https://localhost:8080/",
     "height": 348
    },
    "executionInfo": {
     "elapsed": 240,
     "status": "ok",
     "timestamp": 1660301123861,
     "user": {
      "displayName": "Deng Guanrou",
      "userId": "13037902960530104865"
     },
     "user_tz": -60
    },
    "id": "mf9Dg7qN7jVg",
    "outputId": "0fadfd7f-addd-4524-e92a-906fa762942c"
   },
   "outputs": [
    {
     "data": {
      "text/html": [
       "\n",
       "  <div id=\"df-40f432c6-5390-4aa9-a5bd-71d6c9e3c525\">\n",
       "    <div class=\"colab-df-container\">\n",
       "      <div>\n",
       "<style scoped>\n",
       "    .dataframe tbody tr th:only-of-type {\n",
       "        vertical-align: middle;\n",
       "    }\n",
       "\n",
       "    .dataframe tbody tr th {\n",
       "        vertical-align: top;\n",
       "    }\n",
       "\n",
       "    .dataframe thead th {\n",
       "        text-align: right;\n",
       "    }\n",
       "</style>\n",
       "<table border=\"1\" class=\"dataframe\">\n",
       "  <thead>\n",
       "    <tr style=\"text-align: right;\">\n",
       "      <th></th>\n",
       "      <th>Corning Inc.</th>\n",
       "      <th>IBM</th>\n",
       "      <th>Motorola Solutions</th>\n",
       "      <th>Texas Instruments</th>\n",
       "      <th>Amphenol</th>\n",
       "      <th>HP Inc.</th>\n",
       "      <th>ADP</th>\n",
       "      <th>NXP Semiconductors</th>\n",
       "      <th>Visa Inc.</th>\n",
       "      <th>Teradyne</th>\n",
       "      <th>...</th>\n",
       "      <th>Salesforce</th>\n",
       "      <th>Fleetcor</th>\n",
       "      <th>Fortinet</th>\n",
       "      <th>Global Payments</th>\n",
       "      <th>Skyworks Solutions</th>\n",
       "      <th>ServiceNow</th>\n",
       "      <th>Arista Networks</th>\n",
       "      <th>Enphase</th>\n",
       "      <th>SolarEdge</th>\n",
       "      <th>TE Connectivity</th>\n",
       "    </tr>\n",
       "    <tr>\n",
       "      <th>Years</th>\n",
       "      <th></th>\n",
       "      <th></th>\n",
       "      <th></th>\n",
       "      <th></th>\n",
       "      <th></th>\n",
       "      <th></th>\n",
       "      <th></th>\n",
       "      <th></th>\n",
       "      <th></th>\n",
       "      <th></th>\n",
       "      <th></th>\n",
       "      <th></th>\n",
       "      <th></th>\n",
       "      <th></th>\n",
       "      <th></th>\n",
       "      <th></th>\n",
       "      <th></th>\n",
       "      <th></th>\n",
       "      <th></th>\n",
       "      <th></th>\n",
       "      <th></th>\n",
       "    </tr>\n",
       "  </thead>\n",
       "  <tbody>\n",
       "    <tr>\n",
       "      <th>11/12/2010</th>\n",
       "      <td>NaN</td>\n",
       "      <td>0.136121</td>\n",
       "      <td>0.005251</td>\n",
       "      <td>0.240258</td>\n",
       "      <td>0.132955</td>\n",
       "      <td>0.074381</td>\n",
       "      <td>0.040974</td>\n",
       "      <td>-0.093249</td>\n",
       "      <td>0.091387</td>\n",
       "      <td>0.240025</td>\n",
       "      <td>...</td>\n",
       "      <td>0.033765</td>\n",
       "      <td>0.081632</td>\n",
       "      <td>0.176318</td>\n",
       "      <td>0.101785</td>\n",
       "      <td>0.095866</td>\n",
       "      <td>-0.578267</td>\n",
       "      <td>NaN</td>\n",
       "      <td>-0.807992</td>\n",
       "      <td>NaN</td>\n",
       "      <td>0.064691</td>\n",
       "    </tr>\n",
       "    <tr>\n",
       "      <th>11/12/2011</th>\n",
       "      <td>0.123808</td>\n",
       "      <td>0.140188</td>\n",
       "      <td>0.037692</td>\n",
       "      <td>0.186131</td>\n",
       "      <td>0.131069</td>\n",
       "      <td>0.056683</td>\n",
       "      <td>0.037842</td>\n",
       "      <td>0.009183</td>\n",
       "      <td>0.106592</td>\n",
       "      <td>0.146762</td>\n",
       "      <td>...</td>\n",
       "      <td>0.001062</td>\n",
       "      <td>0.079739</td>\n",
       "      <td>0.106117</td>\n",
       "      <td>0.095810</td>\n",
       "      <td>0.132469</td>\n",
       "      <td>0.122787</td>\n",
       "      <td>NaN</td>\n",
       "      <td>-0.516964</td>\n",
       "      <td>NaN</td>\n",
       "      <td>0.069044</td>\n",
       "    </tr>\n",
       "    <tr>\n",
       "      <th>11/12/2012</th>\n",
       "      <td>0.069529</td>\n",
       "      <td>0.142254</td>\n",
       "      <td>0.055006</td>\n",
       "      <td>0.088370</td>\n",
       "      <td>0.114749</td>\n",
       "      <td>-0.103667</td>\n",
       "      <td>0.042815</td>\n",
       "      <td>-0.019493</td>\n",
       "      <td>0.057541</td>\n",
       "      <td>0.160719</td>\n",
       "      <td>...</td>\n",
       "      <td>-0.060609</td>\n",
       "      <td>0.080816</td>\n",
       "      <td>0.078085</td>\n",
       "      <td>0.073080</td>\n",
       "      <td>0.100609</td>\n",
       "      <td>0.122787</td>\n",
       "      <td>NaN</td>\n",
       "      <td>-0.330644</td>\n",
       "      <td>NaN</td>\n",
       "      <td>0.063011</td>\n",
       "    </tr>\n",
       "    <tr>\n",
       "      <th>11/12/2013</th>\n",
       "      <td>0.058657</td>\n",
       "      <td>0.144324</td>\n",
       "      <td>0.062913</td>\n",
       "      <td>0.096837</td>\n",
       "      <td>0.115167</td>\n",
       "      <td>-0.028941</td>\n",
       "      <td>0.032850</td>\n",
       "      <td>0.031307</td>\n",
       "      <td>0.136684</td>\n",
       "      <td>0.050831</td>\n",
       "      <td>...</td>\n",
       "      <td>-0.020822</td>\n",
       "      <td>0.092505</td>\n",
       "      <td>0.052347</td>\n",
       "      <td>0.080408</td>\n",
       "      <td>0.125773</td>\n",
       "      <td>-0.118941</td>\n",
       "      <td>0.096967</td>\n",
       "      <td>-0.260026</td>\n",
       "      <td>-0.574094</td>\n",
       "      <td>0.062681</td>\n",
       "    </tr>\n",
       "    <tr>\n",
       "      <th>11/12/2014</th>\n",
       "      <td>0.065069</td>\n",
       "      <td>0.134874</td>\n",
       "      <td>0.043885</td>\n",
       "      <td>0.135036</td>\n",
       "      <td>0.109722</td>\n",
       "      <td>0.048669</td>\n",
       "      <td>0.038232</td>\n",
       "      <td>0.085532</td>\n",
       "      <td>0.146410</td>\n",
       "      <td>0.079776</td>\n",
       "      <td>...</td>\n",
       "      <td>-0.035377</td>\n",
       "      <td>0.082143</td>\n",
       "      <td>0.025143</td>\n",
       "      <td>0.073252</td>\n",
       "      <td>0.176503</td>\n",
       "      <td>-0.143505</td>\n",
       "      <td>0.134105</td>\n",
       "      <td>-0.089832</td>\n",
       "      <td>NaN</td>\n",
       "      <td>0.085347</td>\n",
       "    </tr>\n",
       "  </tbody>\n",
       "</table>\n",
       "<p>5 rows × 67 columns</p>\n",
       "</div>\n",
       "      <button class=\"colab-df-convert\" onclick=\"convertToInteractive('df-40f432c6-5390-4aa9-a5bd-71d6c9e3c525')\"\n",
       "              title=\"Convert this dataframe to an interactive table.\"\n",
       "              style=\"display:none;\">\n",
       "        \n",
       "  <svg xmlns=\"http://www.w3.org/2000/svg\" height=\"24px\"viewBox=\"0 0 24 24\"\n",
       "       width=\"24px\">\n",
       "    <path d=\"M0 0h24v24H0V0z\" fill=\"none\"/>\n",
       "    <path d=\"M18.56 5.44l.94 2.06.94-2.06 2.06-.94-2.06-.94-.94-2.06-.94 2.06-2.06.94zm-11 1L8.5 8.5l.94-2.06 2.06-.94-2.06-.94L8.5 2.5l-.94 2.06-2.06.94zm10 10l.94 2.06.94-2.06 2.06-.94-2.06-.94-.94-2.06-.94 2.06-2.06.94z\"/><path d=\"M17.41 7.96l-1.37-1.37c-.4-.4-.92-.59-1.43-.59-.52 0-1.04.2-1.43.59L10.3 9.45l-7.72 7.72c-.78.78-.78 2.05 0 2.83L4 21.41c.39.39.9.59 1.41.59.51 0 1.02-.2 1.41-.59l7.78-7.78 2.81-2.81c.8-.78.8-2.07 0-2.86zM5.41 20L4 18.59l7.72-7.72 1.47 1.35L5.41 20z\"/>\n",
       "  </svg>\n",
       "      </button>\n",
       "      \n",
       "  <style>\n",
       "    .colab-df-container {\n",
       "      display:flex;\n",
       "      flex-wrap:wrap;\n",
       "      gap: 12px;\n",
       "    }\n",
       "\n",
       "    .colab-df-convert {\n",
       "      background-color: #E8F0FE;\n",
       "      border: none;\n",
       "      border-radius: 50%;\n",
       "      cursor: pointer;\n",
       "      display: none;\n",
       "      fill: #1967D2;\n",
       "      height: 32px;\n",
       "      padding: 0 0 0 0;\n",
       "      width: 32px;\n",
       "    }\n",
       "\n",
       "    .colab-df-convert:hover {\n",
       "      background-color: #E2EBFA;\n",
       "      box-shadow: 0px 1px 2px rgba(60, 64, 67, 0.3), 0px 1px 3px 1px rgba(60, 64, 67, 0.15);\n",
       "      fill: #174EA6;\n",
       "    }\n",
       "\n",
       "    [theme=dark] .colab-df-convert {\n",
       "      background-color: #3B4455;\n",
       "      fill: #D2E3FC;\n",
       "    }\n",
       "\n",
       "    [theme=dark] .colab-df-convert:hover {\n",
       "      background-color: #434B5C;\n",
       "      box-shadow: 0px 1px 3px 1px rgba(0, 0, 0, 0.15);\n",
       "      filter: drop-shadow(0px 1px 2px rgba(0, 0, 0, 0.3));\n",
       "      fill: #FFFFFF;\n",
       "    }\n",
       "  </style>\n",
       "\n",
       "      <script>\n",
       "        const buttonEl =\n",
       "          document.querySelector('#df-40f432c6-5390-4aa9-a5bd-71d6c9e3c525 button.colab-df-convert');\n",
       "        buttonEl.style.display =\n",
       "          google.colab.kernel.accessAllowed ? 'block' : 'none';\n",
       "\n",
       "        async function convertToInteractive(key) {\n",
       "          const element = document.querySelector('#df-40f432c6-5390-4aa9-a5bd-71d6c9e3c525');\n",
       "          const dataTable =\n",
       "            await google.colab.kernel.invokeFunction('convertToInteractive',\n",
       "                                                     [key], {});\n",
       "          if (!dataTable) return;\n",
       "\n",
       "          const docLinkHtml = 'Like what you see? Visit the ' +\n",
       "            '<a target=\"_blank\" href=https://colab.research.google.com/notebooks/data_table.ipynb>data table notebook</a>'\n",
       "            + ' to learn more about interactive tables.';\n",
       "          element.innerHTML = '';\n",
       "          dataTable['output_type'] = 'display_data';\n",
       "          await google.colab.output.renderOutput(dataTable, element);\n",
       "          const docLink = document.createElement('div');\n",
       "          docLink.innerHTML = docLinkHtml;\n",
       "          element.appendChild(docLink);\n",
       "        }\n",
       "      </script>\n",
       "    </div>\n",
       "  </div>\n",
       "  "
      ],
      "text/plain": [
       "            Corning Inc.       IBM  Motorola Solutions  Texas Instruments  \\\n",
       "Years                                                                       \n",
       "11/12/2010           NaN  0.136121            0.005251           0.240258   \n",
       "11/12/2011      0.123808  0.140188            0.037692           0.186131   \n",
       "11/12/2012      0.069529  0.142254            0.055006           0.088370   \n",
       "11/12/2013      0.058657  0.144324            0.062913           0.096837   \n",
       "11/12/2014      0.065069  0.134874            0.043885           0.135036   \n",
       "\n",
       "            Amphenol   HP Inc.       ADP  NXP Semiconductors  Visa Inc.  \\\n",
       "Years                                                                     \n",
       "11/12/2010  0.132955  0.074381  0.040974           -0.093249   0.091387   \n",
       "11/12/2011  0.131069  0.056683  0.037842            0.009183   0.106592   \n",
       "11/12/2012  0.114749 -0.103667  0.042815           -0.019493   0.057541   \n",
       "11/12/2013  0.115167 -0.028941  0.032850            0.031307   0.136684   \n",
       "11/12/2014  0.109722  0.048669  0.038232            0.085532   0.146410   \n",
       "\n",
       "            Teradyne  ...  Salesforce  Fleetcor  Fortinet  Global Payments  \\\n",
       "Years                 ...                                                    \n",
       "11/12/2010  0.240025  ...    0.033765  0.081632  0.176318         0.101785   \n",
       "11/12/2011  0.146762  ...    0.001062  0.079739  0.106117         0.095810   \n",
       "11/12/2012  0.160719  ...   -0.060609  0.080816  0.078085         0.073080   \n",
       "11/12/2013  0.050831  ...   -0.020822  0.092505  0.052347         0.080408   \n",
       "11/12/2014  0.079776  ...   -0.035377  0.082143  0.025143         0.073252   \n",
       "\n",
       "            Skyworks Solutions  ServiceNow  Arista Networks   Enphase  \\\n",
       "Years                                                                   \n",
       "11/12/2010            0.095866   -0.578267              NaN -0.807992   \n",
       "11/12/2011            0.132469    0.122787              NaN -0.516964   \n",
       "11/12/2012            0.100609    0.122787              NaN -0.330644   \n",
       "11/12/2013            0.125773   -0.118941         0.096967 -0.260026   \n",
       "11/12/2014            0.176503   -0.143505         0.134105 -0.089832   \n",
       "\n",
       "            SolarEdge  TE Connectivity  \n",
       "Years                                   \n",
       "11/12/2010        NaN         0.064691  \n",
       "11/12/2011        NaN         0.069044  \n",
       "11/12/2012        NaN         0.063011  \n",
       "11/12/2013  -0.574094         0.062681  \n",
       "11/12/2014        NaN         0.085347  \n",
       "\n",
       "[5 rows x 67 columns]"
      ]
     },
     "execution_count": 5,
     "metadata": {},
     "output_type": "execute_result"
    }
   ],
   "source": [
    "# DataSoucre --- Revenue Pitchbook S&P 500 information technology company\n",
    "# Unit 100 millions dollar\n",
    "R_df = pd.read_csv('sample_data/Pitchbook_ITCompany_revenue.csv',index_col = 0)\n",
    "R_df = R_df[::-1]\n",
    "R_df.head()"
   ]
  },
  {
   "cell_type": "code",
   "execution_count": null,
   "metadata": {
    "id": "wxM-rVfjghH-"
   },
   "outputs": [],
   "source": [
    "# Data Cleaning\n",
    "R_df.dropna(axis=1,inplace = True)"
   ]
  },
  {
   "cell_type": "code",
   "execution_count": null,
   "metadata": {
    "colab": {
     "base_uri": "https://localhost:8080/"
    },
    "executionInfo": {
     "elapsed": 6,
     "status": "ok",
     "timestamp": 1660301128743,
     "user": {
      "displayName": "Deng Guanrou",
      "userId": "13037902960530104865"
     },
     "user_tz": -60
    },
    "id": "p-E8f8JEBFSk",
    "outputId": "e7e86d81-0c5c-4054-a94b-17ee60093e64"
   },
   "outputs": [
    {
     "data": {
      "text/plain": [
       "(12, 49)"
      ]
     },
     "execution_count": 7,
     "metadata": {},
     "output_type": "execute_result"
    }
   ],
   "source": [
    "R_df.shape"
   ]
  },
  {
   "cell_type": "code",
   "execution_count": null,
   "metadata": {
    "id": "ynfIrGY_TYb9"
   },
   "outputs": [],
   "source": [
    "# # Data selection base on mean\n",
    "# not_select_company_list = []\n",
    "\n",
    "# for i in range(len(Revenue.index)):\n",
    "#   if (Revenue.mean()[i] > 1000) or (Revenue.mean()[i] < 200):\n",
    "#     not_select_company_list.append(Revenue.mean().index[i])\n",
    "# Revenue.drop(columns=not_select_company_list,inplace=True)\n",
    "# Revenue.head()"
   ]
  },
  {
   "cell_type": "code",
   "execution_count": null,
   "metadata": {
    "id": "e3KeGt29fSnL"
   },
   "outputs": [],
   "source": [
    "# Training and Testing dataset split\n",
    "R_known = R_df.iloc[:7,:]\n",
    "R_unknown = R_df.iloc[7:,:]"
   ]
  },
  {
   "cell_type": "code",
   "execution_count": null,
   "metadata": {
    "colab": {
     "base_uri": "https://localhost:8080/",
     "height": 428
    },
    "executionInfo": {
     "elapsed": 13,
     "status": "ok",
     "timestamp": 1660301132261,
     "user": {
      "displayName": "Deng Guanrou",
      "userId": "13037902960530104865"
     },
     "user_tz": -60
    },
    "id": "ACgX56Gkyk9P",
    "outputId": "0e1f83ec-8b23-4fb6-e48e-24c5f4159205"
   },
   "outputs": [
    {
     "data": {
      "text/html": [
       "\n",
       "  <div id=\"df-56d29dcd-cbea-4bfd-8a9d-26d0fc08be4e\">\n",
       "    <div class=\"colab-df-container\">\n",
       "      <div>\n",
       "<style scoped>\n",
       "    .dataframe tbody tr th:only-of-type {\n",
       "        vertical-align: middle;\n",
       "    }\n",
       "\n",
       "    .dataframe tbody tr th {\n",
       "        vertical-align: top;\n",
       "    }\n",
       "\n",
       "    .dataframe thead th {\n",
       "        text-align: right;\n",
       "    }\n",
       "</style>\n",
       "<table border=\"1\" class=\"dataframe\">\n",
       "  <thead>\n",
       "    <tr style=\"text-align: right;\">\n",
       "      <th></th>\n",
       "      <th>IBM</th>\n",
       "      <th>Motorola Solutions</th>\n",
       "      <th>Texas Instruments</th>\n",
       "      <th>Amphenol</th>\n",
       "      <th>HP Inc.</th>\n",
       "      <th>ADP</th>\n",
       "      <th>NXP Semiconductors</th>\n",
       "      <th>Visa Inc.</th>\n",
       "      <th>Teradyne</th>\n",
       "      <th>Broadcom Inc.</th>\n",
       "      <th>...</th>\n",
       "      <th>Monolithic Power Systems</th>\n",
       "      <th>Akamai</th>\n",
       "      <th>ON Semiconductor</th>\n",
       "      <th>Salesforce</th>\n",
       "      <th>Fleetcor</th>\n",
       "      <th>Fortinet</th>\n",
       "      <th>Skyworks Solutions</th>\n",
       "      <th>ServiceNow</th>\n",
       "      <th>Enphase</th>\n",
       "      <th>TE Connectivity</th>\n",
       "    </tr>\n",
       "    <tr>\n",
       "      <th>Years</th>\n",
       "      <th></th>\n",
       "      <th></th>\n",
       "      <th></th>\n",
       "      <th></th>\n",
       "      <th></th>\n",
       "      <th></th>\n",
       "      <th></th>\n",
       "      <th></th>\n",
       "      <th></th>\n",
       "      <th></th>\n",
       "      <th></th>\n",
       "      <th></th>\n",
       "      <th></th>\n",
       "      <th></th>\n",
       "      <th></th>\n",
       "      <th></th>\n",
       "      <th></th>\n",
       "      <th></th>\n",
       "      <th></th>\n",
       "      <th></th>\n",
       "      <th></th>\n",
       "    </tr>\n",
       "  </thead>\n",
       "  <tbody>\n",
       "    <tr>\n",
       "      <th>11/12/2010</th>\n",
       "      <td>0.136121</td>\n",
       "      <td>0.005251</td>\n",
       "      <td>0.240258</td>\n",
       "      <td>0.132955</td>\n",
       "      <td>0.074381</td>\n",
       "      <td>0.040974</td>\n",
       "      <td>-0.093249</td>\n",
       "      <td>0.091387</td>\n",
       "      <td>0.240025</td>\n",
       "      <td>0.219321</td>\n",
       "      <td>...</td>\n",
       "      <td>0.117108</td>\n",
       "      <td>0.074211</td>\n",
       "      <td>0.120327</td>\n",
       "      <td>0.033765</td>\n",
       "      <td>0.081632</td>\n",
       "      <td>0.176318</td>\n",
       "      <td>0.095866</td>\n",
       "      <td>-0.578267</td>\n",
       "      <td>-0.807992</td>\n",
       "      <td>0.064691</td>\n",
       "    </tr>\n",
       "    <tr>\n",
       "      <th>11/12/2011</th>\n",
       "      <td>0.140188</td>\n",
       "      <td>0.037692</td>\n",
       "      <td>0.186131</td>\n",
       "      <td>0.131069</td>\n",
       "      <td>0.056683</td>\n",
       "      <td>0.037842</td>\n",
       "      <td>0.009183</td>\n",
       "      <td>0.106592</td>\n",
       "      <td>0.146762</td>\n",
       "      <td>0.250363</td>\n",
       "      <td>...</td>\n",
       "      <td>0.052303</td>\n",
       "      <td>0.082647</td>\n",
       "      <td>0.023465</td>\n",
       "      <td>0.001062</td>\n",
       "      <td>0.079739</td>\n",
       "      <td>0.106117</td>\n",
       "      <td>0.132469</td>\n",
       "      <td>0.122787</td>\n",
       "      <td>-0.516964</td>\n",
       "      <td>0.069044</td>\n",
       "    </tr>\n",
       "    <tr>\n",
       "      <th>11/12/2012</th>\n",
       "      <td>0.142254</td>\n",
       "      <td>0.055006</td>\n",
       "      <td>0.088370</td>\n",
       "      <td>0.114749</td>\n",
       "      <td>-0.103667</td>\n",
       "      <td>0.042815</td>\n",
       "      <td>-0.019493</td>\n",
       "      <td>0.057541</td>\n",
       "      <td>0.160719</td>\n",
       "      <td>0.215247</td>\n",
       "      <td>...</td>\n",
       "      <td>0.061614</td>\n",
       "      <td>0.081259</td>\n",
       "      <td>0.011270</td>\n",
       "      <td>-0.060609</td>\n",
       "      <td>0.080816</td>\n",
       "      <td>0.078085</td>\n",
       "      <td>0.100609</td>\n",
       "      <td>0.122787</td>\n",
       "      <td>-0.330644</td>\n",
       "      <td>0.063011</td>\n",
       "    </tr>\n",
       "    <tr>\n",
       "      <th>11/12/2013</th>\n",
       "      <td>0.144324</td>\n",
       "      <td>0.062913</td>\n",
       "      <td>0.096837</td>\n",
       "      <td>0.115167</td>\n",
       "      <td>-0.028941</td>\n",
       "      <td>0.032850</td>\n",
       "      <td>0.031307</td>\n",
       "      <td>0.136684</td>\n",
       "      <td>0.050831</td>\n",
       "      <td>0.183184</td>\n",
       "      <td>...</td>\n",
       "      <td>0.049024</td>\n",
       "      <td>0.105034</td>\n",
       "      <td>-0.005592</td>\n",
       "      <td>-0.020822</td>\n",
       "      <td>0.092505</td>\n",
       "      <td>0.052347</td>\n",
       "      <td>0.125773</td>\n",
       "      <td>-0.118941</td>\n",
       "      <td>-0.260026</td>\n",
       "      <td>0.062681</td>\n",
       "    </tr>\n",
       "    <tr>\n",
       "      <th>11/12/2014</th>\n",
       "      <td>0.134874</td>\n",
       "      <td>0.043885</td>\n",
       "      <td>0.135036</td>\n",
       "      <td>0.109722</td>\n",
       "      <td>0.048669</td>\n",
       "      <td>0.038232</td>\n",
       "      <td>0.085532</td>\n",
       "      <td>0.146410</td>\n",
       "      <td>0.079776</td>\n",
       "      <td>0.071595</td>\n",
       "      <td>...</td>\n",
       "      <td>0.091124</td>\n",
       "      <td>0.092652</td>\n",
       "      <td>0.064420</td>\n",
       "      <td>-0.035377</td>\n",
       "      <td>0.082143</td>\n",
       "      <td>0.025143</td>\n",
       "      <td>0.176503</td>\n",
       "      <td>-0.143505</td>\n",
       "      <td>-0.089832</td>\n",
       "      <td>0.085347</td>\n",
       "    </tr>\n",
       "    <tr>\n",
       "      <th>11/12/2015</th>\n",
       "      <td>0.126563</td>\n",
       "      <td>-0.056909</td>\n",
       "      <td>0.171588</td>\n",
       "      <td>0.107441</td>\n",
       "      <td>0.014001</td>\n",
       "      <td>0.039743</td>\n",
       "      <td>0.106078</td>\n",
       "      <td>0.162187</td>\n",
       "      <td>0.039429</td>\n",
       "      <td>0.101789</td>\n",
       "      <td>...</td>\n",
       "      <td>0.083169</td>\n",
       "      <td>0.081874</td>\n",
       "      <td>0.039915</td>\n",
       "      <td>-0.008407</td>\n",
       "      <td>0.054986</td>\n",
       "      <td>0.011483</td>\n",
       "      <td>0.238787</td>\n",
       "      <td>-0.138076</td>\n",
       "      <td>-0.036193</td>\n",
       "      <td>0.060938</td>\n",
       "    </tr>\n",
       "    <tr>\n",
       "      <th>11/12/2016</th>\n",
       "      <td>0.103514</td>\n",
       "      <td>0.070007</td>\n",
       "      <td>0.210539</td>\n",
       "      <td>0.101566</td>\n",
       "      <td>0.062770</td>\n",
       "      <td>0.037476</td>\n",
       "      <td>0.032510</td>\n",
       "      <td>0.108308</td>\n",
       "      <td>-0.044047</td>\n",
       "      <td>-0.025408</td>\n",
       "      <td>...</td>\n",
       "      <td>0.102245</td>\n",
       "      <td>0.073892</td>\n",
       "      <td>0.026014</td>\n",
       "      <td>0.015749</td>\n",
       "      <td>0.048357</td>\n",
       "      <td>0.002418</td>\n",
       "      <td>0.256241</td>\n",
       "      <td>-0.257339</td>\n",
       "      <td>-0.419027</td>\n",
       "      <td>0.099557</td>\n",
       "    </tr>\n",
       "  </tbody>\n",
       "</table>\n",
       "<p>7 rows × 49 columns</p>\n",
       "</div>\n",
       "      <button class=\"colab-df-convert\" onclick=\"convertToInteractive('df-56d29dcd-cbea-4bfd-8a9d-26d0fc08be4e')\"\n",
       "              title=\"Convert this dataframe to an interactive table.\"\n",
       "              style=\"display:none;\">\n",
       "        \n",
       "  <svg xmlns=\"http://www.w3.org/2000/svg\" height=\"24px\"viewBox=\"0 0 24 24\"\n",
       "       width=\"24px\">\n",
       "    <path d=\"M0 0h24v24H0V0z\" fill=\"none\"/>\n",
       "    <path d=\"M18.56 5.44l.94 2.06.94-2.06 2.06-.94-2.06-.94-.94-2.06-.94 2.06-2.06.94zm-11 1L8.5 8.5l.94-2.06 2.06-.94-2.06-.94L8.5 2.5l-.94 2.06-2.06.94zm10 10l.94 2.06.94-2.06 2.06-.94-2.06-.94-.94-2.06-.94 2.06-2.06.94z\"/><path d=\"M17.41 7.96l-1.37-1.37c-.4-.4-.92-.59-1.43-.59-.52 0-1.04.2-1.43.59L10.3 9.45l-7.72 7.72c-.78.78-.78 2.05 0 2.83L4 21.41c.39.39.9.59 1.41.59.51 0 1.02-.2 1.41-.59l7.78-7.78 2.81-2.81c.8-.78.8-2.07 0-2.86zM5.41 20L4 18.59l7.72-7.72 1.47 1.35L5.41 20z\"/>\n",
       "  </svg>\n",
       "      </button>\n",
       "      \n",
       "  <style>\n",
       "    .colab-df-container {\n",
       "      display:flex;\n",
       "      flex-wrap:wrap;\n",
       "      gap: 12px;\n",
       "    }\n",
       "\n",
       "    .colab-df-convert {\n",
       "      background-color: #E8F0FE;\n",
       "      border: none;\n",
       "      border-radius: 50%;\n",
       "      cursor: pointer;\n",
       "      display: none;\n",
       "      fill: #1967D2;\n",
       "      height: 32px;\n",
       "      padding: 0 0 0 0;\n",
       "      width: 32px;\n",
       "    }\n",
       "\n",
       "    .colab-df-convert:hover {\n",
       "      background-color: #E2EBFA;\n",
       "      box-shadow: 0px 1px 2px rgba(60, 64, 67, 0.3), 0px 1px 3px 1px rgba(60, 64, 67, 0.15);\n",
       "      fill: #174EA6;\n",
       "    }\n",
       "\n",
       "    [theme=dark] .colab-df-convert {\n",
       "      background-color: #3B4455;\n",
       "      fill: #D2E3FC;\n",
       "    }\n",
       "\n",
       "    [theme=dark] .colab-df-convert:hover {\n",
       "      background-color: #434B5C;\n",
       "      box-shadow: 0px 1px 3px 1px rgba(0, 0, 0, 0.15);\n",
       "      filter: drop-shadow(0px 1px 2px rgba(0, 0, 0, 0.3));\n",
       "      fill: #FFFFFF;\n",
       "    }\n",
       "  </style>\n",
       "\n",
       "      <script>\n",
       "        const buttonEl =\n",
       "          document.querySelector('#df-56d29dcd-cbea-4bfd-8a9d-26d0fc08be4e button.colab-df-convert');\n",
       "        buttonEl.style.display =\n",
       "          google.colab.kernel.accessAllowed ? 'block' : 'none';\n",
       "\n",
       "        async function convertToInteractive(key) {\n",
       "          const element = document.querySelector('#df-56d29dcd-cbea-4bfd-8a9d-26d0fc08be4e');\n",
       "          const dataTable =\n",
       "            await google.colab.kernel.invokeFunction('convertToInteractive',\n",
       "                                                     [key], {});\n",
       "          if (!dataTable) return;\n",
       "\n",
       "          const docLinkHtml = 'Like what you see? Visit the ' +\n",
       "            '<a target=\"_blank\" href=https://colab.research.google.com/notebooks/data_table.ipynb>data table notebook</a>'\n",
       "            + ' to learn more about interactive tables.';\n",
       "          element.innerHTML = '';\n",
       "          dataTable['output_type'] = 'display_data';\n",
       "          await google.colab.output.renderOutput(dataTable, element);\n",
       "          const docLink = document.createElement('div');\n",
       "          docLink.innerHTML = docLinkHtml;\n",
       "          element.appendChild(docLink);\n",
       "        }\n",
       "      </script>\n",
       "    </div>\n",
       "  </div>\n",
       "  "
      ],
      "text/plain": [
       "                 IBM  Motorola Solutions  Texas Instruments  Amphenol  \\\n",
       "Years                                                                   \n",
       "11/12/2010  0.136121            0.005251           0.240258  0.132955   \n",
       "11/12/2011  0.140188            0.037692           0.186131  0.131069   \n",
       "11/12/2012  0.142254            0.055006           0.088370  0.114749   \n",
       "11/12/2013  0.144324            0.062913           0.096837  0.115167   \n",
       "11/12/2014  0.134874            0.043885           0.135036  0.109722   \n",
       "11/12/2015  0.126563           -0.056909           0.171588  0.107441   \n",
       "11/12/2016  0.103514            0.070007           0.210539  0.101566   \n",
       "\n",
       "             HP Inc.       ADP  NXP Semiconductors  Visa Inc.  Teradyne  \\\n",
       "Years                                                                     \n",
       "11/12/2010  0.074381  0.040974           -0.093249   0.091387  0.240025   \n",
       "11/12/2011  0.056683  0.037842            0.009183   0.106592  0.146762   \n",
       "11/12/2012 -0.103667  0.042815           -0.019493   0.057541  0.160719   \n",
       "11/12/2013 -0.028941  0.032850            0.031307   0.136684  0.050831   \n",
       "11/12/2014  0.048669  0.038232            0.085532   0.146410  0.079776   \n",
       "11/12/2015  0.014001  0.039743            0.106078   0.162187  0.039429   \n",
       "11/12/2016  0.062770  0.037476            0.032510   0.108308 -0.044047   \n",
       "\n",
       "            Broadcom Inc.  ...  Monolithic Power Systems    Akamai  \\\n",
       "Years                      ...                                       \n",
       "11/12/2010       0.219321  ...                  0.117108  0.074211   \n",
       "11/12/2011       0.250363  ...                  0.052303  0.082647   \n",
       "11/12/2012       0.215247  ...                  0.061614  0.081259   \n",
       "11/12/2013       0.183184  ...                  0.049024  0.105034   \n",
       "11/12/2014       0.071595  ...                  0.091124  0.092652   \n",
       "11/12/2015       0.101789  ...                  0.083169  0.081874   \n",
       "11/12/2016      -0.025408  ...                  0.102245  0.073892   \n",
       "\n",
       "            ON Semiconductor  Salesforce  Fleetcor  Fortinet  \\\n",
       "Years                                                          \n",
       "11/12/2010          0.120327    0.033765  0.081632  0.176318   \n",
       "11/12/2011          0.023465    0.001062  0.079739  0.106117   \n",
       "11/12/2012          0.011270   -0.060609  0.080816  0.078085   \n",
       "11/12/2013         -0.005592   -0.020822  0.092505  0.052347   \n",
       "11/12/2014          0.064420   -0.035377  0.082143  0.025143   \n",
       "11/12/2015          0.039915   -0.008407  0.054986  0.011483   \n",
       "11/12/2016          0.026014    0.015749  0.048357  0.002418   \n",
       "\n",
       "            Skyworks Solutions  ServiceNow   Enphase  TE Connectivity  \n",
       "Years                                                                  \n",
       "11/12/2010            0.095866   -0.578267 -0.807992         0.064691  \n",
       "11/12/2011            0.132469    0.122787 -0.516964         0.069044  \n",
       "11/12/2012            0.100609    0.122787 -0.330644         0.063011  \n",
       "11/12/2013            0.125773   -0.118941 -0.260026         0.062681  \n",
       "11/12/2014            0.176503   -0.143505 -0.089832         0.085347  \n",
       "11/12/2015            0.238787   -0.138076 -0.036193         0.060938  \n",
       "11/12/2016            0.256241   -0.257339 -0.419027         0.099557  \n",
       "\n",
       "[7 rows x 49 columns]"
      ]
     },
     "execution_count": 9,
     "metadata": {},
     "output_type": "execute_result"
    }
   ],
   "source": [
    "R_known"
   ]
  },
  {
   "cell_type": "code",
   "execution_count": null,
   "metadata": {
    "id": "L2M3LjXXpibJ"
   },
   "outputs": [],
   "source": [
    "R_unknown"
   ]
  },
  {
   "cell_type": "code",
   "execution_count": null,
   "metadata": {
    "colab": {
     "base_uri": "https://localhost:8080/",
     "height": 530
    },
    "executionInfo": {
     "elapsed": 2366,
     "status": "ok",
     "timestamp": 1660301138791,
     "user": {
      "displayName": "Deng Guanrou",
      "userId": "13037902960530104865"
     },
     "user_tz": -60
    },
    "id": "a13PyybrbqR0",
    "outputId": "0f49924e-eed9-4b30-bc1c-6e296127fab7"
   },
   "outputs": [
    {
     "data": {
      "text/plain": [
       "<matplotlib.legend.Legend at 0x7fda3c7d6a10>"
      ]
     },
     "execution_count": 10,
     "metadata": {},
     "output_type": "execute_result"
    },
    {
     "data": {
      "image/png": "[encoded data removed]",
      "text/plain": [
       "<Figure size 864x576 with 1 Axes>"
      ]
     },
     "metadata": {
      "needs_background": "light"
     },
     "output_type": "display_data"
    }
   ],
   "source": [
    "# Data domenstarte\n",
    "plt.rcParams['figure.figsize'] = [12, 8]\n",
    "R_known.plot(title=\"ROA for selected IT companies\").legend(loc='best',ncol=3)"
   ]
  },
  {
   "cell_type": "code",
   "execution_count": null,
   "metadata": {
    "id": "Bw_Z6rZSdddJ"
   },
   "outputs": [],
   "source": [
    "# Calculate revenue increment\n",
    "# Date --- the increment in the last 6 months ended with that date\n",
    "# ROA_increase = ROA_known.diff(-1)\n",
    "# ROA_increase = ROA_increase.dropna()"
   ]
  },
  {
   "cell_type": "markdown",
   "metadata": {
    "id": "ia0vr6NdJqGv"
   },
   "source": [
    "Code for data simulation\n",
    "\n",
    "Problems:\n",
    "1. Using current method, we need around 10 years historical data to simulate the data or the \n"
   ]
  },
  {
   "cell_type": "code",
   "execution_count": null,
   "metadata": {
    "colab": {
     "base_uri": "https://localhost:8080/"
    },
    "executionInfo": {
     "elapsed": 584,
     "status": "ok",
     "timestamp": 1660301143929,
     "user": {
      "displayName": "Deng Guanrou",
      "userId": "13037902960530104865"
     },
     "user_tz": -60
    },
    "id": "6IkQtPtdmLRP",
    "outputId": "3e3d80d1-c163-4159-b7c0-727928358ae9"
   },
   "outputs": [
    {
     "name": "stderr",
     "output_type": "stream",
     "text": [
      "/usr/local/lib/python3.7/dist-packages/statsmodels/tools/_testing.py:19: FutureWarning: pandas.util.testing is deprecated. Use the functions in the public API at pandas.testing instead.\n",
      "  import pandas.util.testing as tm\n"
     ]
    }
   ],
   "source": [
    "from distfit import distfit"
   ]
  },
  {
   "cell_type": "code",
   "execution_count": null,
   "metadata": {
    "colab": {
     "base_uri": "https://localhost:8080/"
    },
    "executionInfo": {
     "elapsed": 250,
     "status": "ok",
     "timestamp": 1660301146616,
     "user": {
      "displayName": "Deng Guanrou",
      "userId": "13037902960530104865"
     },
     "user_tz": -60
    },
    "id": "o85HupQ5Sv_X",
    "outputId": "0c05a3c6-efb6-4ca4-f605-6f1179e3d186"
   },
   "outputs": [
    {
     "data": {
      "text/plain": [
       "Years\n",
       "11/12/2010    13.612136\n",
       "11/12/2011    14.018750\n",
       "11/12/2012    14.225402\n",
       "11/12/2013    14.432368\n",
       "11/12/2014    13.487414\n",
       "11/12/2015    12.656317\n",
       "11/12/2016    10.351396\n",
       "Name: IBM, dtype: float64"
      ]
     },
     "execution_count": 12,
     "metadata": {},
     "output_type": "execute_result"
    }
   ],
   "source": [
    "R_known['IBM']*100"
   ]
  },
  {
   "cell_type": "code",
   "execution_count": null,
   "metadata": {
    "colab": {
     "base_uri": "https://localhost:8080/"
    },
    "executionInfo": {
     "elapsed": 1518,
     "status": "ok",
     "timestamp": 1660262464676,
     "user": {
      "displayName": "Deng Guanrou",
      "userId": "13037902960530104865"
     },
     "user_tz": -60
    },
    "id": "q9C8t4btH-3f",
    "outputId": "ded43e76-0bbf-48b1-eefb-a8f53617ec1f"
   },
   "outputs": [
    {
     "name": "stdout",
     "output_type": "stream",
     "text": [
      "[distfit] >fit..\n",
      "[distfit] >transform..\n",
      "[distfit] >[norm      ] [0.00 sec] [RSS: 18.2068] [loc=13.255 scale=1.303]\n",
      "[distfit] >[expon     ] [0.00 sec] [RSS: 19.9295] [loc=10.351 scale=2.903]\n",
      "[distfit] >[pareto    ] [0.06 sec] [RSS: 20.1269] [loc=-0.054 scale=10.405]\n",
      "[distfit] >[dweibull  ] [0.05 sec] [RSS: 17.1607] [loc=13.612 scale=0.974]\n",
      "[distfit] >[t         ] [0.14 sec] [RSS: 17.6875] [loc=13.586 scale=1.220]\n",
      "[distfit] >[genextreme] [0.31 sec] [RSS: 15.4296] [loc=13.165 scale=1.448]\n",
      "[distfit] >[gamma     ] [0.11 sec] [RSS: 18.3759] [loc=-10.563 scale=0.080]\n",
      "[distfit] >[lognorm   ] [0.30 sec] [RSS: 18.2121] [loc=-640.922 scale=654.175]\n",
      "[distfit] >[beta      ] [0.21 sec] [RSS: 15.6536] [loc=9.475 scale=4.957]\n",
      "[distfit] >[uniform   ] [0.00 sec] [RSS: 18.4422] [loc=10.351 scale=4.081]\n",
      "[distfit] >[loggamma  ] [0.06 sec] [RSS: 15.6949] [loc=14.432 scale=0.000]\n",
      "[distfit] >Compute confidence interval [parametric]\n"
     ]
    },
    {
     "data": {
      "text/plain": [
       "15.429618254528599"
      ]
     },
     "execution_count": 33,
     "metadata": {},
     "output_type": "execute_result"
    }
   ],
   "source": [
    "# Check which disturbution is the best fit for the data\n",
    "# !!!!! could write a function to study on average which disturbution fit best\n",
    "\n",
    "dist = distfit()        # Initialize \n",
    "result = dist.fit_transform(R_known['IBM']*100)   "
   ]
  },
  {
   "cell_type": "code",
   "execution_count": null,
   "metadata": {
    "colab": {
     "base_uri": "https://localhost:8080/",
     "height": 682
    },
    "executionInfo": {
     "elapsed": 1043,
     "status": "ok",
     "timestamp": 1660261488471,
     "user": {
      "displayName": "Deng Guanrou",
      "userId": "13037902960530104865"
     },
     "user_tz": -60
    },
    "id": "FnjryNFf3ng3",
    "outputId": "9ec25d19-0df3-4d60-d06b-15e2dc813be4"
   },
   "outputs": [
    {
     "name": "stdout",
     "output_type": "stream",
     "text": [
      "[distfit] >fit..\n",
      "[distfit] >transform..\n",
      "[smoothline] >Smoothing by interpolation..\n",
      "[distfit] >[beta] [0.18 sec] [RSS: 2.76249] [loc=9.475 scale=4.957]\n",
      "[distfit] >Compute confidence interval [parametric]\n",
      "[distfit] >plot..\n"
     ]
    },
    {
     "data": {
      "text/plain": [
       "(<Figure size 720x576 with 1 Axes>,\n",
       " <matplotlib.axes._subplots.AxesSubplot at 0x7f7321fb3050>)"
      ]
     },
     "execution_count": 32,
     "metadata": {},
     "output_type": "execute_result"
    },
    {
     "data": {
      "image/png": "[encoded data removed]",
      "text/plain": [
       "<Figure size 720x576 with 1 Axes>"
      ]
     },
     "metadata": {
      "needs_background": "light"
     },
     "output_type": "display_data"
    }
   ],
   "source": [
    "# dist = distfit(distr='beta',smooth = 10)  \n",
    "# # Revenue Simulation Example --- Test for one company Amphenol (K=1)\n",
    "# # 1. Fit t dis parameters\n",
    "# model_result = dist.fit_transform(R_known['IBM']*100)\n",
    "# params = dist.model['params']\n",
    "# score = dist.model['score']\n",
    "# dist.plot()"
   ]
  },
  {
   "cell_type": "code",
   "execution_count": null,
   "metadata": {
    "colab": {
     "base_uri": "https://localhost:8080/"
    },
    "executionInfo": {
     "elapsed": 198,
     "status": "ok",
     "timestamp": 1660176787711,
     "user": {
      "displayName": "Deng Guanrou",
      "userId": "13037902960530104865"
     },
     "user_tz": -60
    },
    "id": "zTbJoRqsNpyE",
    "outputId": "f12d6f53-acb1-4c50-8188-e97e8363f3d4"
   },
   "outputs": [
    {
     "data": {
      "text/plain": [
       "10.565220845433524"
      ]
     },
     "execution_count": 25,
     "metadata": {},
     "output_type": "execute_result"
    }
   ],
   "source": [
    "# scipy.stats.beta.rvs(params[0],params[1],loc=params[2],scale=params[3])"
   ]
  },
  {
   "cell_type": "code",
   "execution_count": null,
   "metadata": {
    "id": "BMxq5yELzaJV"
   },
   "outputs": [],
   "source": [
    "# Revenue Simulation --- Test for one company example \n",
    "# 2. Simulate future increment for that company 'Amphenol'\n",
    "# 3. Calculated Simulated revenue company 1 data future six months\n",
    "# rand_revenue_one_company = []\n",
    "# for k in range(20):\n",
    "#   rand_revenue_k = scipy.stats.t.rvs(params[0],loc = params[1],scale=params[2], size=20)\n",
    "#   rand_revenue_k[0] = Revenue_known['Amphenol'][0] + rand_revenue_k[0]\n",
    "#   rand_revenue_one_company.append(np.cumsum(rand_revenue_k))"
   ]
  },
  {
   "cell_type": "code",
   "execution_count": null,
   "metadata": {
    "id": "4cLUy9ZGfJJl"
   },
   "outputs": [],
   "source": [
    "# Revenue Simulation --- Test for one company example \n",
    "# 4. Plot Simulated revenue\n",
    "# plt.title(\"Predicted Revenue For Amphenol for the next 10 years\")\n",
    "# plt.plot(rand_revenue_one_company)"
   ]
  },
  {
   "cell_type": "code",
   "execution_count": null,
   "metadata": {
    "id": "7m-UR885HqnW"
   },
   "outputs": [],
   "source": [
    "# Define function generate simulated R follow beta dis\n",
    "def sim_dis_func(R_df,K):\n",
    "  #First calculated increment\n",
    "  dist = distfit(distr= 'beta',smooth = 10) \n",
    "  score = []\n",
    "  rand_r = []\n",
    "\n",
    "  for company in R_df.columns:\n",
    "    model_result = dist.fit_transform(R_df[company])\n",
    "    params = dist.model['params']\n",
    "    score.append(dist.model['score'])\n",
    "    rand_r_one_company = []\n",
    "    for k in range(K):\n",
    "      rand_r_k = scipy.stats.beta.rvs(params[0],params[1],loc=params[2],scale=params[3], size=5)\n",
    "      rand_r_one_company.append(rand_r_k)\n",
    "      \n",
    "    rand_r.append(np.array(rand_r_one_company))\n",
    "\n",
    "  return np.transpose(np.array(rand_r),(1,2,0)),score"
   ]
  },
  {
   "cell_type": "code",
   "execution_count": null,
   "metadata": {
    "id": "T7oJlXgf67DA"
   },
   "outputs": [],
   "source": [
    "# Define function generate simulated revenue\n",
    "def sim_revenue_func_dweibull_dis(Revenue_df,Revenue_incre_df,K):\n",
    "  #First calculated increment\n",
    "  dist = distfit(distr='dweibull',smooth = 10) \n",
    "  score = []\n",
    "  rand_revenue = []\n",
    "  for company in Revenue_incre_df.columns:\n",
    "    model_result = dist.fit_transform(Revenue_increase[company])\n",
    "    params = dist.model['params']\n",
    "    score.append(dist.model['score'])\n",
    "    rand_revenue_one_company = []\n",
    "    for k in range(K):\n",
    "      rand_revenue_k = scipy.stats.t.rvs(params[0],loc = params[1],scale=params[2], size=5)\n",
    "      rand_revenue_k[0] = Revenue_df[company][0] + rand_revenue_k[0]\n",
    "      rand_revenue_one_company.append(np.cumsum(rand_revenue_k))\n",
    "      \n",
    "    rand_revenue.append(np.array(rand_revenue_one_company))\n",
    "\n",
    "  return np.transpose(np.array(rand_revenue),(1,2,0)),score"
   ]
  },
  {
   "cell_type": "code",
   "execution_count": null,
   "metadata": {
    "id": "PbU2dZl9JcaJ"
   },
   "outputs": [],
   "source": [
    "sim_revenue,sim_revenue_score = sim_revenue_func_dweibull_dis(Revenue_known,Revenue_increase,10)"
   ]
  },
  {
   "cell_type": "code",
   "execution_count": null,
   "metadata": {
    "id": "YA-CO04jY1d6"
   },
   "outputs": [],
   "source": [
    "# Simplest way to generated return\n",
    "# Parameters generated by random guess\n",
    "def sim_return(unicorn_size):\n",
    "  uni_size = unicorn_size\n",
    "  xixi = np.random.power(4.0,(Round,I))-0.8\n",
    "  unicorn_index = np.random.choice(range(I), uni_size, replace=False)\n",
    "  #print('unicorn_index',unicorn_index)\n",
    "  start_boost_time = 1\n",
    "  for i in unicorn_index:\n",
    "    for t in range(start_boost_time,Round):\n",
    "        xixi[t,i] = xixi[t,i] + np.random.randint(1,3)\n",
    "  return np.cumsum(xixi,axis=1)"
   ]
  },
  {
   "cell_type": "markdown",
   "metadata": {
    "id": "IulGdePM7IRS"
   },
   "source": [
    "### Model Explanation"
   ]
  },
  {
   "cell_type": "markdown",
   "metadata": {
    "id": "J0UgLZPUyQpx"
   },
   "source": [
    "***4 parameters need to define***\n",
    "$\\phi$,$c$,$I_t$,$R$\n",
    "\n",
    "**Function 1.1**\n",
    "\n",
    "Start with the **first investment round**, $t = \\tau = 1$, T = {1}\\\n",
    "For each scenario $ k \\in {1,\\cdots,500}$, we find $x$ that solves below optimization problem \n",
    "\n",
    "$\\max_{x}$ $\\sum_{i \\in I}x_{i,1,k}*ROA_{i,1,k}$  \\\\\n",
    "s.t. $\\sum_{i \\in I}x_{i,1,k} = I_{1}$ \\\\\n",
    "$\\quad$ $x \\in \\mathcal{R+}$\n",
    "\n",
    "\n",
    "Calculate the number of scenarios when the maximum result is larger than a fixed level $R$, if the number is smaller than $500*p$ (p could be 0.95), then we haven't reached satisfy return level and we will process to the next round. Finally, When the number of scenarios is larger than 500*p, take the average of $x$ over $k$ and it is the optimal investment strategy that we deduce. \n",
    "\n",
    "\n",
    "\n",
    "\\\\\n",
    "Function 1.2\n",
    "\n",
    "In round t, add covariance into the model\n",
    "\n",
    "$\\max_{x}$ $\\sum_{i \\in I}x_{i,t,k}ROA_{i,t,k} - \\sum_{i \\in I}\\sum_{j \\in I}x_{i,t,k}x_{j,t,k}\\sigma_{i,j,t}$  \\\\\n",
    "s.t. $\\sum_{i \\in I}x_{i,t,k} = I_t$ \\\\\n",
    "$\\quad$ $x \\in \\mathcal{R+}$\n",
    "\n"
   ]
  },
  {
   "cell_type": "markdown",
   "metadata": {
    "id": "kd45ZxcVtH1i"
   },
   "source": [
    "Problem:\n",
    "1. No profit in the first (second, third) rounds -> $x_{i,1} =0$ means we give up on that company immediately without consider the future return"
   ]
  },
  {
   "cell_type": "markdown",
   "metadata": {
    "id": "mbdFKtXmxhAI"
   },
   "source": [
    "### Code for Model"
   ]
  },
  {
   "cell_type": "code",
   "execution_count": null,
   "metadata": {
    "id": "hwP-tojzik9X"
   },
   "outputs": [],
   "source": [
    "I = R_known.shape[1]\n",
    "T = R_unknown.shape[0]\n",
    "F = 40\n",
    "T = 20\n",
    "K = 50 \n",
    "Investamount = 200\n",
    "Target_R = 250"
   ]
  },
  {
   "cell_type": "code",
   "execution_count": null,
   "metadata": {
    "id": "bO0K26nxXbhm"
   },
   "outputs": [],
   "source": [
    "# Data Assumptions\n",
    "# I = 20 #number of companies\n",
    "# K = 20 #Number of Scenarios index set \n",
    "\n",
    "# F = 40 # Fund invested in the portfoilo in each rounds in millions $\n",
    "# T = 10 # Maximun number of rounds\n",
    "\n",
    "# Assumptions: Return of companies follow log-normal\n",
    "# Assumptions: Only consider the initial 50 compines, no company exits only give up companies with return smaller than -1 millions $"
   ]
  },
  {
   "cell_type": "code",
   "execution_count": null,
   "metadata": {
    "id": "-ABZZpTnX_nY"
   },
   "outputs": [],
   "source": [
    "from gekko import GEKKO\n",
    "\n",
    "m = GEKKO()"
   ]
  },
  {
   "cell_type": "code",
   "execution_count": null,
   "metadata": {
    "colab": {
     "base_uri": "https://localhost:8080/",
     "height": 165
    },
    "executionInfo": {
     "elapsed": 19,
     "status": "error",
     "timestamp": 1658157201807,
     "user": {
      "displayName": "Deng Guanrou",
      "userId": "13037902960530104865"
     },
     "user_tz": -60
    },
    "id": "9wHYWpJQDghy",
    "outputId": "d4939510-cb11-4c7b-ef09-59fe7e3dde9a"
   },
   "outputs": [
    {
     "ename": "NameError",
     "evalue": "ignored",
     "output_type": "error",
     "traceback": [
      "\u001b[0;31m---------------------------------------------------------------------------\u001b[0m",
      "\u001b[0;31mNameError\u001b[0m                                 Traceback (most recent call last)",
      "\u001b[0;32m<ipython-input-18-380f41583018>\u001b[0m in \u001b[0;36m<module>\u001b[0;34m()\u001b[0m\n\u001b[0;32m----> 1\u001b[0;31m \u001b[0msim_revenue\u001b[0m\u001b[0;34m,\u001b[0m\u001b[0msim_revenue_score\u001b[0m \u001b[0;34m=\u001b[0m \u001b[0msim_revenue_func_dweibull_dis\u001b[0m\u001b[0;34m(\u001b[0m\u001b[0mRevenue_known\u001b[0m\u001b[0;34m,\u001b[0m\u001b[0mRevenue_increase\u001b[0m\u001b[0;34m,\u001b[0m\u001b[0mK\u001b[0m\u001b[0;34m)\u001b[0m\u001b[0;34m\u001b[0m\u001b[0;34m\u001b[0m\u001b[0m\n\u001b[0m",
      "\u001b[0;31mNameError\u001b[0m: name 'sim_revenue_func_dweibull_dis' is not defined"
     ]
    }
   ],
   "source": [
    "# sim_revenue,sim_revenue_score = sim_revenue_func_dweibull_dis(Revenue_known,Revenue_increase,K)"
   ]
  },
  {
   "cell_type": "code",
   "execution_count": null,
   "metadata": {
    "colab": {
     "base_uri": "https://localhost:8080/",
     "height": 165
    },
    "executionInfo": {
     "elapsed": 25,
     "status": "error",
     "timestamp": 1660319152466,
     "user": {
      "displayName": "Deng Guanrou",
      "userId": "13037902960530104865"
     },
     "user_tz": -60
    },
    "id": "HJVbEZyVPF98",
    "outputId": "1c300c70-fead-4ba3-c01c-e9484cf5b066"
   },
   "outputs": [
    {
     "ename": "NameError",
     "evalue": "ignored",
     "output_type": "error",
     "traceback": [
      "\u001b[0;31m---------------------------------------------------------------------------\u001b[0m",
      "\u001b[0;31mNameError\u001b[0m                                 Traceback (most recent call last)",
      "\u001b[0;32m<ipython-input-1-752789cecac6>\u001b[0m in \u001b[0;36m<module>\u001b[0;34m()\u001b[0m\n\u001b[0;32m----> 1\u001b[0;31m \u001b[0msim_r\u001b[0m\u001b[0;34m,\u001b[0m\u001b[0msim_r_score\u001b[0m \u001b[0;34m=\u001b[0m \u001b[0msim_dis_func\u001b[0m\u001b[0;34m(\u001b[0m\u001b[0mR_known\u001b[0m\u001b[0;34m,\u001b[0m\u001b[0mK\u001b[0m\u001b[0;34m)\u001b[0m\u001b[0;34m\u001b[0m\u001b[0;34m\u001b[0m\u001b[0m\n\u001b[0m",
      "\u001b[0;31mNameError\u001b[0m: name 'sim_dis_func' is not defined"
     ]
    }
   ],
   "source": [
    "sim_r,sim_r_score = sim_dis_func(R_known,K)"
   ]
  },
  {
   "cell_type": "code",
   "execution_count": null,
   "metadata": {
    "id": "lXP1jMbnXwW3"
   },
   "outputs": [],
   "source": [
    "Round = 1 "
   ]
  },
  {
   "cell_type": "code",
   "execution_count": null,
   "metadata": {
    "id": "rMNSx_c8DbfZ"
   },
   "outputs": [],
   "source": [
    "def PEportfolio_DecInvestAmount(Round,sim_r,yy,Investamount,I,K,Target_R):\n",
    "\n",
    "  yy = [] #allocate result \n",
    "  satisfy_result_count = 0\n",
    "  tau = Round -1 \n",
    "\n",
    "  for k in range(K):\n",
    "    yy_ti = [m.Var(1,lb=0,ub=1,integer=False) for i in range(I)]\n",
    "    m.Equation(np.sum(yy_ti) == Investamount)\n",
    "    m.Maximize(np.sum([yy_ti[i]*sim_r[k][tau][i] for i in range(I)]) - np.sum([np.matmul(np.matmul(yy_ti,np.cov(sim_r[k][tau],sim_r[k][tau])),yy_ti.T)]))\n",
    "\n",
    "    m.options.SOLVER=1 \n",
    "    m.solve()\n",
    "    \n",
    "    max_result = np.sum([yy_ti[i]*sim_r[k][tau][i] for i in range(I)]) - np.sum([np.matmul(np.matmul(yy_ti,np.cov(sim_r[k][tau],sim_r[k][tau])),yy_ti.T)])\n",
    "    \n",
    "    if max_result > R:\n",
    "      satisfy_result_count = satisfy_result_count + 1\n",
    "\n",
    "    yy.append(yy_ti)\n",
    "\n",
    "  return yy,satisfy_result_count\n"
   ]
  },
  {
   "cell_type": "code",
   "execution_count": null,
   "metadata": {
    "colab": {
     "base_uri": "https://localhost:8080/",
     "height": 304
    },
    "executionInfo": {
     "elapsed": 241,
     "status": "error",
     "timestamp": 1660303400680,
     "user": {
      "displayName": "Deng Guanrou",
      "userId": "13037902960530104865"
     },
     "user_tz": -60
    },
    "id": "mtkw6Fsex-U4",
    "outputId": "86111706-6f8d-40b0-cd80-ce0ebd213084"
   },
   "outputs": [
    {
     "ename": "IndexError",
     "evalue": "ignored",
     "output_type": "error",
     "traceback": [
      "\u001b[0;31m---------------------------------------------------------------------------\u001b[0m",
      "\u001b[0;31mIndexError\u001b[0m                                Traceback (most recent call last)",
      "\u001b[0;32m<ipython-input-25-54caecfbbbd5>\u001b[0m in \u001b[0;36m<module>\u001b[0;34m()\u001b[0m\n\u001b[0;32m----> 1\u001b[0;31m \u001b[0mportfoilo_result\u001b[0m\u001b[0;34m,\u001b[0m \u001b[0mportfoilo_result_count\u001b[0m \u001b[0;34m=\u001b[0m \u001b[0mPEportfolio_DecInvestAmount\u001b[0m\u001b[0;34m(\u001b[0m\u001b[0mRound\u001b[0m\u001b[0;34m,\u001b[0m\u001b[0msim_r\u001b[0m\u001b[0;34m,\u001b[0m\u001b[0mInvestamount\u001b[0m\u001b[0;34m,\u001b[0m\u001b[0mI\u001b[0m\u001b[0;34m,\u001b[0m\u001b[0mK\u001b[0m\u001b[0;34m,\u001b[0m\u001b[0mTarget_R\u001b[0m\u001b[0;34m)\u001b[0m\u001b[0;34m\u001b[0m\u001b[0;34m\u001b[0m\u001b[0m\n\u001b[0m",
      "\u001b[0;32m<ipython-input-23-2225f4cd6b7c>\u001b[0m in \u001b[0;36mPEportfolio_DecInvestAmount\u001b[0;34m(Round, sim_r, Investamount, I, K, Target_R)\u001b[0m\n\u001b[1;32m      6\u001b[0m   \u001b[0;32mfor\u001b[0m \u001b[0mk\u001b[0m \u001b[0;32min\u001b[0m \u001b[0mrange\u001b[0m\u001b[0;34m(\u001b[0m\u001b[0mK\u001b[0m\u001b[0;34m)\u001b[0m\u001b[0;34m:\u001b[0m\u001b[0;34m\u001b[0m\u001b[0;34m\u001b[0m\u001b[0m\n\u001b[1;32m      7\u001b[0m     \u001b[0myy_ti\u001b[0m \u001b[0;34m=\u001b[0m \u001b[0;34m[\u001b[0m\u001b[0;34m[\u001b[0m\u001b[0mm\u001b[0m\u001b[0;34m.\u001b[0m\u001b[0mVar\u001b[0m\u001b[0;34m(\u001b[0m\u001b[0;36m1\u001b[0m\u001b[0;34m,\u001b[0m\u001b[0mlb\u001b[0m\u001b[0;34m=\u001b[0m\u001b[0;36m0\u001b[0m\u001b[0;34m,\u001b[0m\u001b[0mub\u001b[0m\u001b[0;34m=\u001b[0m\u001b[0;36m1\u001b[0m\u001b[0;34m,\u001b[0m\u001b[0minteger\u001b[0m\u001b[0;34m=\u001b[0m\u001b[0;32mFalse\u001b[0m\u001b[0;34m)\u001b[0m \u001b[0;32mfor\u001b[0m \u001b[0mi\u001b[0m \u001b[0;32min\u001b[0m \u001b[0mrange\u001b[0m\u001b[0;34m(\u001b[0m\u001b[0mI\u001b[0m\u001b[0;34m)\u001b[0m\u001b[0;34m]\u001b[0m \u001b[0;32mfor\u001b[0m \u001b[0mt\u001b[0m \u001b[0;32min\u001b[0m \u001b[0mrange\u001b[0m\u001b[0;34m(\u001b[0m\u001b[0mRound\u001b[0m\u001b[0;34m)\u001b[0m\u001b[0;34m]\u001b[0m\u001b[0;34m\u001b[0m\u001b[0;34m\u001b[0m\u001b[0m\n\u001b[0;32m----> 8\u001b[0;31m     \u001b[0mm\u001b[0m\u001b[0;34m.\u001b[0m\u001b[0mEquation\u001b[0m\u001b[0;34m(\u001b[0m\u001b[0mnp\u001b[0m\u001b[0;34m.\u001b[0m\u001b[0msum\u001b[0m\u001b[0;34m(\u001b[0m\u001b[0myy_ti\u001b[0m\u001b[0;34m[\u001b[0m\u001b[0mRound\u001b[0m\u001b[0;34m]\u001b[0m\u001b[0;34m)\u001b[0m \u001b[0;34m==\u001b[0m \u001b[0mI_t\u001b[0m\u001b[0;34m)\u001b[0m\u001b[0;34m\u001b[0m\u001b[0;34m\u001b[0m\u001b[0m\n\u001b[0m\u001b[1;32m      9\u001b[0m     \u001b[0mm\u001b[0m\u001b[0;34m.\u001b[0m\u001b[0mMaximize\u001b[0m\u001b[0;34m(\u001b[0m\u001b[0mnp\u001b[0m\u001b[0;34m.\u001b[0m\u001b[0msum\u001b[0m\u001b[0;34m(\u001b[0m\u001b[0;34m[\u001b[0m\u001b[0;34m[\u001b[0m\u001b[0myy_ti\u001b[0m\u001b[0;34m[\u001b[0m\u001b[0mt\u001b[0m\u001b[0;34m]\u001b[0m\u001b[0;34m[\u001b[0m\u001b[0mi\u001b[0m\u001b[0;34m]\u001b[0m\u001b[0;34m*\u001b[0m\u001b[0msim_r\u001b[0m\u001b[0;34m[\u001b[0m\u001b[0mk\u001b[0m\u001b[0;34m]\u001b[0m\u001b[0;34m[\u001b[0m\u001b[0mt\u001b[0m\u001b[0;34m]\u001b[0m\u001b[0;34m[\u001b[0m\u001b[0mi\u001b[0m\u001b[0;34m]\u001b[0m \u001b[0;32mfor\u001b[0m \u001b[0mi\u001b[0m \u001b[0;32min\u001b[0m \u001b[0mrange\u001b[0m\u001b[0;34m(\u001b[0m\u001b[0mI\u001b[0m\u001b[0;34m)\u001b[0m\u001b[0;34m]\u001b[0m \u001b[0;32mfor\u001b[0m \u001b[0mt\u001b[0m \u001b[0;32min\u001b[0m \u001b[0mrange\u001b[0m\u001b[0;34m(\u001b[0m\u001b[0mRound\u001b[0m\u001b[0;34m)\u001b[0m\u001b[0;34m]\u001b[0m\u001b[0;34m)\u001b[0m \u001b[0;34m-\u001b[0m \u001b[0mnp\u001b[0m\u001b[0;34m.\u001b[0m\u001b[0msum\u001b[0m\u001b[0;34m(\u001b[0m\u001b[0;34m[\u001b[0m\u001b[0mnp\u001b[0m\u001b[0;34m.\u001b[0m\u001b[0mmatmul\u001b[0m\u001b[0;34m(\u001b[0m\u001b[0mnp\u001b[0m\u001b[0;34m.\u001b[0m\u001b[0mmatmul\u001b[0m\u001b[0;34m(\u001b[0m\u001b[0myy_ti\u001b[0m\u001b[0;34m[\u001b[0m\u001b[0mt\u001b[0m\u001b[0;34m]\u001b[0m\u001b[0;34m,\u001b[0m\u001b[0mnp\u001b[0m\u001b[0;34m.\u001b[0m\u001b[0mcov\u001b[0m\u001b[0;34m(\u001b[0m\u001b[0msim_r\u001b[0m\u001b[0;34m[\u001b[0m\u001b[0mk\u001b[0m\u001b[0;34m]\u001b[0m\u001b[0;34m[\u001b[0m\u001b[0mt\u001b[0m\u001b[0;34m]\u001b[0m\u001b[0;34m,\u001b[0m\u001b[0msim_r\u001b[0m\u001b[0;34m[\u001b[0m\u001b[0mk\u001b[0m\u001b[0;34m]\u001b[0m\u001b[0;34m[\u001b[0m\u001b[0mt\u001b[0m\u001b[0;34m]\u001b[0m\u001b[0;34m)\u001b[0m\u001b[0;34m)\u001b[0m\u001b[0;34m,\u001b[0m\u001b[0myy_ti\u001b[0m\u001b[0;34m.\u001b[0m\u001b[0mT\u001b[0m\u001b[0;34m)\u001b[0m \u001b[0;32mfor\u001b[0m \u001b[0mt\u001b[0m \u001b[0;32min\u001b[0m \u001b[0mrange\u001b[0m\u001b[0;34m(\u001b[0m\u001b[0mRound\u001b[0m\u001b[0;34m)\u001b[0m\u001b[0;34m]\u001b[0m\u001b[0;34m)\u001b[0m\u001b[0;34m)\u001b[0m\u001b[0;34m\u001b[0m\u001b[0;34m\u001b[0m\u001b[0m\n\u001b[1;32m     10\u001b[0m \u001b[0;34m\u001b[0m\u001b[0m\n",
      "\u001b[0;31mIndexError\u001b[0m: list index out of range"
     ]
    }
   ],
   "source": [
    "portfoilo_result, portfoilo_result_count = PEportfolio_DecInvestAmount(Round,sim_r,Investamount,I,K,Target_R)"
   ]
  },
  {
   "cell_type": "code",
   "execution_count": null,
   "metadata": {
    "id": "JHhN-OsWBmoW"
   },
   "outputs": [],
   "source": [
    "selection_result,selection_result_summary = portfolio_selection(Round,sim_revenue)"
   ]
  },
  {
   "cell_type": "markdown",
   "metadata": {
    "id": "ce-AEEj86Xo9"
   },
   "source": [
    "Conduct this test K times with different simulated revenue/valuation \\\\\n",
    "K times decision result with K different return for the whole portfolio\n",
    "Assume the investment is equally separated among companies while we define the final result by the accumulated decision"
   ]
  },
  {
   "cell_type": "markdown",
   "metadata": {
    "id": "LXwp1ZpqAK0c"
   },
   "source": [
    "Two general way to simulated revenue:\n",
    "1. start from the eailest avaliable date revenue\n",
    "2. start from the terminal/ exit value"
   ]
  },
  {
   "cell_type": "code",
   "execution_count": null,
   "metadata": {
    "id": "1f1I-gN8ZXVW"
   },
   "outputs": [],
   "source": [
    "\n",
    "# Code for using the simplest way to generate \n",
    "yy = [] #result \n",
    "\n",
    "for k in range(K):\n",
    "  xixi = sim_return(5) #simu return\n",
    "\n",
    "  # 0-1 optimize\n",
    "  yy_ti = [[m.Var(1,lb=0,ub=1,integer=True) for i in range(I)] for t in range(Round)]\n",
    "  m.Equations([[yy_ti[t][i] >= yy_ti[t+1][i] for i in range(I)] for t in range(Round-1)])\n",
    "  m.Maximize(np.sum([[yy_ti[t][i]*xixi[t][i] for i in range(I)] for t in range(Round)]))\n",
    "  m.options.SOLVER=1\n",
    "  m.solve()\n",
    "\n",
    "  yy.append(yy_ti)\n"
   ]
  },
  {
   "cell_type": "code",
   "execution_count": null,
   "metadata": {
    "id": "nbZUWUj6Y767"
   },
   "outputs": [],
   "source": [
    "# Selection result summary\n",
    "yy_sum = np.mean(np.array(yy),axis=0)"
   ]
  },
  {
   "cell_type": "code",
   "execution_count": null,
   "metadata": {
    "id": "yPstIlUlgyX5"
   },
   "outputs": [],
   "source": [
    "# k = 0 example\n",
    "\n",
    "# xixi = sim_return(5)\n",
    "\n",
    "# yy_ti = [[m.Var(1,lb=0,ub=1,integer=True) for i in range(I)] for t in range(Round)]\n",
    "    \n",
    "# m.Equations([[yy_ti[t][i] >= yy_ti[t+1][i] for i in range(I)] for t in range(Round-1)])\n",
    "\n",
    "# m.Maximize(np.sum([[yy_ti[t][i]*xixi[t][i] for i in range(I)] for t in range(Round)]))\n",
    "    \n",
    "# m.options.SOLVER=1\n",
    "# m.solve()"
   ]
  },
  {
   "cell_type": "code",
   "execution_count": null,
   "metadata": {
    "id": "yZM1krJs46JD"
   },
   "outputs": [],
   "source": [
    "# def portfolio_11(Round,xixi):\n",
    "#   yy = [] #selection result \n",
    "#   # 0-1 optimize\n",
    "#   for k in range(K):\n",
    "#     yy_ti = [[m.Var(1,lb=0,ub=1,integer=False) for i in range(I)] for t in range(Round)]\n",
    "#     m.Equations([[yy_ti[t][i] >= yy_ti[t+1][i] for i in range(I)] for t in range(Round-1)])\n",
    "#     m.Maximize(np.sum([[yy_ti[t][i]*xixi[k][t][i] for i in range(I)] for t in range(Round)]))\n",
    "#     m.options.SOLVER=1\n",
    "#     m.solve()\n",
    "    \n",
    "#     yy.append(yy_ti)\n",
    "#   # Selection result summary\n",
    "#   yy_sum = np.mean(np.array(yy),axis=0)\n",
    "\n",
    "#   return yy,yy_sum"
   ]
  },
  {
   "cell_type": "code",
   "execution_count": null,
   "metadata": {
    "id": "gHji-ahCtHzg"
   },
   "outputs": [],
   "source": []
  }
 ],
 "metadata": {
  "colab": {
   "authorship_tag": "ABX9TyNohxVLKKCc60snf7tTGznp",
   "name": "PE_Portfolio_Management.ipynb",
   "provenance": []
  },
  "kernelspec": {
   "display_name": "Python 3 (ipykernel)",
   "language": "python",
   "name": "python3"
  },
  "language_info": {
   "codemirror_mode": {
    "name": "ipython",
    "version": 3
   },
   "file_extension": ".py",
   "mimetype": "text/x-python",
   "name": "python",
   "nbconvert_exporter": "python",
   "pygments_lexer": "ipython3",
   "version": "3.9.7"
  },
  "toc": {
   "base_numbering": 1,
   "nav_menu": {},
   "number_sections": true,
   "sideBar": true,
   "skip_h1_title": false,
   "title_cell": "Table of Contents",
   "title_sidebar": "Contents",
   "toc_cell": false,
   "toc_position": {},
   "toc_section_display": true,
   "toc_window_display": false
  }
 },
 "nbformat": 4,
 "nbformat_minor": 1
}
