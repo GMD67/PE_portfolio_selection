{
 "cells": [
  {
   "cell_type": "markdown",
   "id": "9c0b7742",
   "metadata": {},
   "source": [
    "Aim:\n",
    "\n",
    "Studying the relationship between investment amount and exit value for each company. \n",
    "\n",
    "Simulate the investment amount and exit value for 20 companies and find out the earliest stopping time when the net return of the fund ( sum of exit value - investment discounted by the time of 20 companies) reaches a certain level. "
   ]
  },
  {
   "cell_type": "code",
   "execution_count": 113,
   "id": "d74b7790",
   "metadata": {
    "executionInfo": {
     "elapsed": 2145,
     "status": "ok",
     "timestamp": 1665691393804,
     "user": {
      "displayName": "Millie",
      "userId": "13037902960530104865"
     },
     "user_tz": -60
    },
    "id": "2fbb08c6"
   },
   "outputs": [],
   "source": [
    "import numpy as np\n",
    "import pandas as pd\n",
    "import matplotlib.pyplot as plt\n",
    "import scipy\n",
    "from scipy.optimize import minimize\n",
    "import seaborn as sns\n",
    "import statsmodels.formula.api as sm\n",
    "from scipy.stats import pearsonr\n",
    "from distfit import distfit\n",
    "import scipy\n",
    "\n",
    "# Apply the default theme\n",
    "sns.set_theme()\n",
    "import warnings\n",
    "warnings.filterwarnings('ignore')"
   ]
  },
  {
   "cell_type": "code",
   "execution_count": 114,
   "id": "af0515ee",
   "metadata": {},
   "outputs": [
    {
     "data": {
      "text/html": [
       "<div>\n",
       "<style scoped>\n",
       "    .dataframe tbody tr th:only-of-type {\n",
       "        vertical-align: middle;\n",
       "    }\n",
       "\n",
       "    .dataframe tbody tr th {\n",
       "        vertical-align: top;\n",
       "    }\n",
       "\n",
       "    .dataframe thead th {\n",
       "        text-align: right;\n",
       "    }\n",
       "</style>\n",
       "<table border=\"1\" class=\"dataframe\">\n",
       "  <thead>\n",
       "    <tr style=\"text-align: right;\">\n",
       "      <th></th>\n",
       "      <th>Target/Issuer Name</th>\n",
       "      <th>MI Transaction ID</th>\n",
       "      <th>Transaction Status</th>\n",
       "      <th>Total Transaction Value ($M)</th>\n",
       "      <th>Transaction Geography</th>\n",
       "      <th>Announced Date (dd/mm/yyyy)</th>\n",
       "      <th>Transaction Type</th>\n",
       "      <th>Buyers/Investors</th>\n",
       "      <th>Sellers</th>\n",
       "    </tr>\n",
       "  </thead>\n",
       "  <tbody>\n",
       "    <tr>\n",
       "      <th>53757</th>\n",
       "      <td>Zya, Inc.</td>\n",
       "      <td>SPTRO271550</td>\n",
       "      <td>Completed</td>\n",
       "      <td>4.60</td>\n",
       "      <td>United States and Canada</td>\n",
       "      <td>09/09/2014</td>\n",
       "      <td>ROF - Growth - Series 5-7 Yrs</td>\n",
       "      <td>NaN</td>\n",
       "      <td>NaN</td>\n",
       "    </tr>\n",
       "    <tr>\n",
       "      <th>53758</th>\n",
       "      <td>Zya, Inc.</td>\n",
       "      <td>SPTRO361374</td>\n",
       "      <td>Completed</td>\n",
       "      <td>18.17</td>\n",
       "      <td>United States and Canada</td>\n",
       "      <td>15/04/2013</td>\n",
       "      <td>ROF - Growth - Series 5-7 Yrs</td>\n",
       "      <td>Intel Capital Corporation; Liberty Global Vent...</td>\n",
       "      <td>NaN</td>\n",
       "    </tr>\n",
       "    <tr>\n",
       "      <th>53759</th>\n",
       "      <td>Zydacron, Inc.</td>\n",
       "      <td>SPTRD698131</td>\n",
       "      <td>Completed</td>\n",
       "      <td>10.69</td>\n",
       "      <td>United States and Canada</td>\n",
       "      <td>22/06/2007</td>\n",
       "      <td>M&amp;A - Whole</td>\n",
       "      <td>NaN</td>\n",
       "      <td>SCOTTY Group SE</td>\n",
       "    </tr>\n",
       "    <tr>\n",
       "      <th>53760</th>\n",
       "      <td>Zydacron, Inc.</td>\n",
       "      <td>SPTRO398422</td>\n",
       "      <td>Completed</td>\n",
       "      <td>3.10</td>\n",
       "      <td>United States and Canada</td>\n",
       "      <td>12/03/2008</td>\n",
       "      <td>ROF - Growth - Series 5-7 Yrs</td>\n",
       "      <td>Oddo Private Equity; GL Invest GmbH</td>\n",
       "      <td>NaN</td>\n",
       "    </tr>\n",
       "    <tr>\n",
       "      <th>53761</th>\n",
       "      <td>ZyloMed Corporation</td>\n",
       "      <td>SPTRD614933</td>\n",
       "      <td>Completed</td>\n",
       "      <td>10.00</td>\n",
       "      <td>United States and Canada</td>\n",
       "      <td>02/11/2010</td>\n",
       "      <td>M&amp;A - Whole</td>\n",
       "      <td>Accentus Inc.</td>\n",
       "      <td>ZyloMed Corporation</td>\n",
       "    </tr>\n",
       "  </tbody>\n",
       "</table>\n",
       "</div>"
      ],
      "text/plain": [
       "       Target/Issuer Name  MI Transaction ID  Transaction Status   \\\n",
       "53757            Zya, Inc.        SPTRO271550           Completed   \n",
       "53758            Zya, Inc.        SPTRO361374           Completed   \n",
       "53759       Zydacron, Inc.        SPTRD698131           Completed   \n",
       "53760       Zydacron, Inc.        SPTRO398422           Completed   \n",
       "53761  ZyloMed Corporation        SPTRD614933           Completed   \n",
       "\n",
       "       Total Transaction Value ($M)    Transaction Geography   \\\n",
       "53757                          4.60  United States and Canada   \n",
       "53758                         18.17  United States and Canada   \n",
       "53759                         10.69  United States and Canada   \n",
       "53760                          3.10  United States and Canada   \n",
       "53761                         10.00  United States and Canada   \n",
       "\n",
       "      Announced Date (dd/mm/yyyy)              Transaction Type   \\\n",
       "53757                  09/09/2014  ROF - Growth - Series 5-7 Yrs   \n",
       "53758                  15/04/2013  ROF - Growth - Series 5-7 Yrs   \n",
       "53759                  22/06/2007                    M&A - Whole   \n",
       "53760                  12/03/2008  ROF - Growth - Series 5-7 Yrs   \n",
       "53761                  02/11/2010                    M&A - Whole   \n",
       "\n",
       "                                       Buyers/Investors              Sellers   \n",
       "53757                                                NaN                  NaN  \n",
       "53758  Intel Capital Corporation; Liberty Global Vent...                  NaN  \n",
       "53759                                                NaN      SCOTTY Group SE  \n",
       "53760                Oddo Private Equity; GL Invest GmbH                  NaN  \n",
       "53761                                      Accentus Inc.  ZyloMed Corporation  "
      ]
     },
     "execution_count": 114,
     "metadata": {},
     "output_type": "execute_result"
    }
   ],
   "source": [
    "Deal_US_df = pd.read_csv('SPGlobal_Export_UScompanies_ROF_Exit_deals.csv',thousands=\",\",decimal=\".\")\n",
    "Deal_US_df.tail()"
   ]
  },
  {
   "cell_type": "code",
   "execution_count": 115,
   "id": "c020fb5a",
   "metadata": {},
   "outputs": [
    {
     "data": {
      "text/plain": [
       "Target/Issuer Name                  0\n",
       "MI Transaction ID                   0\n",
       "Transaction Status                  0\n",
       "Total Transaction Value ($M)        0\n",
       "Transaction Geography               0\n",
       "Announced Date (dd/mm/yyyy)         0\n",
       "Transaction Type                    0\n",
       "Buyers/Investors                17408\n",
       "Sellers                         22391\n",
       "dtype: int64"
      ]
     },
     "execution_count": 115,
     "metadata": {},
     "output_type": "execute_result"
    }
   ],
   "source": [
    "Deal_US_df.isna().sum()"
   ]
  },
  {
   "cell_type": "code",
   "execution_count": 116,
   "id": "269d6c94",
   "metadata": {
    "colab": {
     "base_uri": "https://localhost:8080/",
     "height": 346
    },
    "executionInfo": {
     "elapsed": 244,
     "status": "error",
     "timestamp": 1665691576716,
     "user": {
      "displayName": "Millie",
      "userId": "13037902960530104865"
     },
     "user_tz": -60
    },
    "id": "466cd81c",
    "outputId": "3b305840-858e-420a-d307-57206ed8fdab"
   },
   "outputs": [
    {
     "data": {
      "text/html": [
       "<div>\n",
       "<style scoped>\n",
       "    .dataframe tbody tr th:only-of-type {\n",
       "        vertical-align: middle;\n",
       "    }\n",
       "\n",
       "    .dataframe tbody tr th {\n",
       "        vertical-align: top;\n",
       "    }\n",
       "\n",
       "    .dataframe thead th {\n",
       "        text-align: right;\n",
       "    }\n",
       "</style>\n",
       "<table border=\"1\" class=\"dataframe\">\n",
       "  <thead>\n",
       "    <tr style=\"text-align: right;\">\n",
       "      <th></th>\n",
       "      <th>Target/Issuer Name</th>\n",
       "      <th>MI Transaction ID</th>\n",
       "      <th>Announced Date (dd/mm/yyyy)</th>\n",
       "      <th>Transaction Type</th>\n",
       "      <th>Transaction STATUS</th>\n",
       "      <th>Total Transaction Value ($M)</th>\n",
       "      <th>Transaction Geography</th>\n",
       "      <th>Buyers/Investors</th>\n",
       "      <th>Sellers</th>\n",
       "    </tr>\n",
       "  </thead>\n",
       "  <tbody>\n",
       "    <tr>\n",
       "      <th>8950</th>\n",
       "      <td>Zuto Holdings Limited</td>\n",
       "      <td>SPTRO1654603</td>\n",
       "      <td>7/31/2019</td>\n",
       "      <td>ROF - Mature - &gt;7 Yrs</td>\n",
       "      <td>Completed</td>\n",
       "      <td>8.91</td>\n",
       "      <td>Europe</td>\n",
       "      <td>Scottish Equity Partners LLP; Columbia Lake Pa...</td>\n",
       "      <td>NaN</td>\n",
       "    </tr>\n",
       "    <tr>\n",
       "      <th>8951</th>\n",
       "      <td>Zuto Limited</td>\n",
       "      <td>SPTRO593729</td>\n",
       "      <td>2/5/2014</td>\n",
       "      <td>ROF - Mature - &gt;7 Yrs</td>\n",
       "      <td>Completed</td>\n",
       "      <td>13.04</td>\n",
       "      <td>Europe</td>\n",
       "      <td>Scottish Equity Partners LLP</td>\n",
       "      <td>NaN</td>\n",
       "    </tr>\n",
       "    <tr>\n",
       "      <th>8952</th>\n",
       "      <td>Zygon Systems Limited</td>\n",
       "      <td>SPTRD534469</td>\n",
       "      <td>12/12/2002</td>\n",
       "      <td>M&amp;A - Whole</td>\n",
       "      <td>Completed</td>\n",
       "      <td>9.40</td>\n",
       "      <td>Europe</td>\n",
       "      <td>Itim Limited</td>\n",
       "      <td>Taylor Young Investment Management Limited; In...</td>\n",
       "    </tr>\n",
       "    <tr>\n",
       "      <th>8953</th>\n",
       "      <td>Zype TV Ltd</td>\n",
       "      <td>SPTRO2237955</td>\n",
       "      <td>9/19/2014</td>\n",
       "      <td>ROF - Growth - Series 5-7 Yrs</td>\n",
       "      <td>Completed</td>\n",
       "      <td>1.96</td>\n",
       "      <td>Europe</td>\n",
       "      <td>NaN</td>\n",
       "      <td>NaN</td>\n",
       "    </tr>\n",
       "    <tr>\n",
       "      <th>8954</th>\n",
       "      <td>Zyqad Limited</td>\n",
       "      <td>SPTRD632602</td>\n",
       "      <td>3/16/1998</td>\n",
       "      <td>M&amp;A - Whole</td>\n",
       "      <td>Completed</td>\n",
       "      <td>6.30</td>\n",
       "      <td>Europe</td>\n",
       "      <td>AspenTech Corporation</td>\n",
       "      <td>Zyqad Limited</td>\n",
       "    </tr>\n",
       "  </tbody>\n",
       "</table>\n",
       "</div>"
      ],
      "text/plain": [
       "        Target/Issuer Name  MI Transaction ID  Announced Date (dd/mm/yyyy)  \\\n",
       "8950  Zuto Holdings Limited       SPTRO1654603                   7/31/2019   \n",
       "8951           Zuto Limited        SPTRO593729                    2/5/2014   \n",
       "8952  Zygon Systems Limited        SPTRD534469                  12/12/2002   \n",
       "8953            Zype TV Ltd       SPTRO2237955                   9/19/2014   \n",
       "8954          Zyqad Limited        SPTRD632602                   3/16/1998   \n",
       "\n",
       "                  Transaction Type  Transaction STATUS  \\\n",
       "8950          ROF - Mature - >7 Yrs          Completed   \n",
       "8951          ROF - Mature - >7 Yrs          Completed   \n",
       "8952                    M&A - Whole          Completed   \n",
       "8953  ROF - Growth - Series 5-7 Yrs          Completed   \n",
       "8954                    M&A - Whole          Completed   \n",
       "\n",
       "      Total Transaction Value ($M) Transaction Geography   \\\n",
       "8950                          8.91                 Europe   \n",
       "8951                         13.04                 Europe   \n",
       "8952                          9.40                 Europe   \n",
       "8953                          1.96                 Europe   \n",
       "8954                          6.30                 Europe   \n",
       "\n",
       "                                      Buyers/Investors   \\\n",
       "8950  Scottish Equity Partners LLP; Columbia Lake Pa...   \n",
       "8951                       Scottish Equity Partners LLP   \n",
       "8952                                       Itim Limited   \n",
       "8953                                                NaN   \n",
       "8954                              AspenTech Corporation   \n",
       "\n",
       "                                               Sellers   \n",
       "8950                                                NaN  \n",
       "8951                                                NaN  \n",
       "8952  Taylor Young Investment Management Limited; In...  \n",
       "8953                                                NaN  \n",
       "8954                                      Zyqad Limited  "
      ]
     },
     "execution_count": 116,
     "metadata": {},
     "output_type": "execute_result"
    }
   ],
   "source": [
    "Deal_UK_df = pd.read_csv('SPGlobal_Export_deals_ROF_Exit_UK.csv',thousands=\",\",decimal=\".\")\n",
    "Deal_UK_df.tail()"
   ]
  },
  {
   "cell_type": "code",
   "execution_count": 117,
   "id": "8aacfe38",
   "metadata": {},
   "outputs": [],
   "source": [
    "def data_preprocess(Deal_df):\n",
    "    Deal_df.drop(Deal_df.loc[Deal_df['Announced Date (dd/mm/yyyy)']=='#INVALID COMPANY ID'].index, inplace=True)\n",
    "    Deal_df['Announced Date (dd/mm/yyyy)'] = pd.to_datetime(Deal_df['Announced Date (dd/mm/yyyy)'])\n",
    "    Deal_df['Total Transaction Value ($M)'] = pd.to_numeric(Deal_df['Total Transaction Value ($M)'],errors='coerce')\n",
    "    \n",
    "    # Delete those before 2000\n",
    "    idx_ealier = Deal_df[Deal_df['Announced Date (dd/mm/yyyy)'] < '2000-01-01 00:00:00'].index\n",
    "    Deal_df.drop(idx_ealier, inplace=True)\n",
    "    Deal_df.reset_index()\n",
    "    \n",
    "    return Deal_df"
   ]
  },
  {
   "cell_type": "code",
   "execution_count": 118,
   "id": "77f53f31",
   "metadata": {},
   "outputs": [],
   "source": [
    "Deal_US_df = data_preprocess(Deal_US_df)\n",
    "Deal_UK_df = data_preprocess(Deal_UK_df)"
   ]
  },
  {
   "cell_type": "markdown",
   "id": "eff524e3",
   "metadata": {
    "id": "a1caecf4"
   },
   "source": [
    "### Select company go through ROF, M&A whole/IPO and known deal amount"
   ]
  },
  {
   "cell_type": "markdown",
   "id": "21354580",
   "metadata": {},
   "source": [
    "#### Problem 1:  Might drop to many exit value"
   ]
  },
  {
   "cell_type": "code",
   "execution_count": 119,
   "id": "9872f32a",
   "metadata": {},
   "outputs": [],
   "source": [
    "def data_select_ROF_exit(Deal_df):\n",
    "    counts = Deal_df['Target/Issuer Name '].value_counts()\n",
    "    Deal_df_select = Deal_df[Deal_df['Target/Issuer Name '].isin(counts.index[counts > 1])]\n",
    "    Deal_df_select.dropna(subset=['Total Transaction Value ($M)'],inplace=True)\n",
    "    \n",
    "    Deal_df_select_Groupby= Deal_df_select.groupby('Target/Issuer Name ')\n",
    "    Deal_df_select['Select'] = Deal_df_select_Groupby['Transaction Type '].transform(lambda x: x.str.contains('ROF').any() & (x.str.contains('M&A - Whole').any() | x.str.contains('IPO').any()))\n",
    "    \n",
    "    Deal_df_select.drop(Deal_df_select[Deal_df_select['Select']== False].index, inplace =True)\n",
    "    Deal_df_select.index =  range(len(Deal_df_select.index))\n",
    "    \n",
    "    Deal_df_select_ROF = Deal_df_select[Deal_df_select['Transaction Type '].str.contains('ROF')]\n",
    "    Deal_df_select_exit = Deal_df_select[Deal_df_select['Transaction Type '].str.contains('M&A - Whole') | Deal_df_select['Transaction Type '].str.contains('IPO') ].drop_duplicates(subset=['Target/Issuer Name '])\n",
    "    \n",
    "    # 1. Select useful columns\n",
    "    # 2. sum all transcations one the same date\n",
    "    \n",
    "    Deal_df_select_ROF_1 = Deal_df_select_ROF.filter(items=['Target/Issuer Name ','Total Transaction Value ($M)','Announced Date (dd/mm/yyyy)'])\n",
    "    Deal_df_select_ROF_2 = pd.DataFrame({'Total Transaction Value ($M)' : Deal_df_select_ROF_1.groupby(['Target/Issuer Name ','Announced Date (dd/mm/yyyy)'])['Total Transaction Value ($M)'].sum()}).reset_index()\n",
    "    Deal_df_select_ROF_2.sort_values(by = ['Target/Issuer Name ','Announced Date (dd/mm/yyyy)'],inplace = True)\n",
    "    \n",
    "    Deal_df_select_exit_1 = Deal_df_select_exit.filter(items=['Target/Issuer Name ','Transaction Type ','Total Transaction Value ($M)','Announced Date (dd/mm/yyyy)'])\n",
    "    unique_company_name = Deal_df_select_ROF_2['Target/Issuer Name '].unique()\n",
    "    # Need to add date check\n",
    "    \n",
    "    return Deal_df_select_ROF_2,Deal_df_select_exit_1,unique_company_name"
   ]
  },
  {
   "cell_type": "code",
   "execution_count": 120,
   "id": "19eea55d",
   "metadata": {},
   "outputs": [],
   "source": [
    "# Clean including: ( one problem ,ight drop to many exit value)\n",
    "# 1. including include investment before exit \n",
    "# !!!!! in above equation --- 2. sum all transcations one the same date\n",
    "# !!!!! in above equation --- 3. rank the investments following investment time\n",
    "# 4. exit value not 0\n",
    "# 5. add time to exit colnum / time-diff\n",
    "\n",
    "def clean_data_select_ROF_exit(Deal_df_select_ROF,Deal_df_select_exit,unique_company_name):\n",
    "    Year_to_exit = []\n",
    "    Round_diff = []\n",
    "    #count_check = 0\n",
    "    \n",
    "    # 1 & 4 \n",
    "    for i in unique_company_name:\n",
    "        Exit_row = Deal_df_select_exit[Deal_df_select_exit['Target/Issuer Name '] == i]\n",
    "        ROF_investment_date_DF = Deal_df_select_ROF[Deal_df_select_ROF['Target/Issuer Name '] == i]\n",
    "        \n",
    "        rounds = 0\n",
    "        year_to_exit_one_company = []\n",
    "        \n",
    "        for index,row in ROF_investment_date_DF.iterrows():\n",
    "            exit_date = Exit_row['Announced Date (dd/mm/yyyy)'].values[0]\n",
    "            rof_investment_date = row['Announced Date (dd/mm/yyyy)']\n",
    "            \n",
    "            exit_value = row['Total Transaction Value ($M)']\n",
    "            \n",
    "            # Valid round of financing : 1. investment before exit 2. exit value != 0\n",
    "            if (exit_date > rof_investment_date) & (exit_value > 0):\n",
    "                    rounds = rounds + 1\n",
    "                    #count_check = count_check + 1\n",
    "                    year_to_exit_one_company.append((exit_date - rof_investment_date)/np.timedelta64(1, 'D') / 365)\n",
    "            else:\n",
    "                # Drop the investments that happen after the exit\n",
    "                 Deal_df_select_ROF.drop(index,inplace = True)\n",
    "                    \n",
    "        # For company that all rof after exit\n",
    "        if rounds == 0:\n",
    "            Deal_df_select_exit.drop(Exit_row.index,inplace = True)\n",
    "            unique_company_name = unique_company_name[unique_company_name != i]\n",
    "        else:\n",
    "            Year_to_exit = Year_to_exit + year_to_exit_one_company\n",
    "            \n",
    "    Deal_df_select_ROF.index =  range(len(Deal_df_select_ROF.index))\n",
    "    Deal_df_select_exit.index =  range(len(Deal_df_select_exit.index))\n",
    "    \n",
    "    Deal_df_select_ROF['Year_to_exit'] = pd.Series(Year_to_exit)\n",
    "        \n",
    "    for i in unique_company_name:\n",
    "        ROF_investment_date_DF = Deal_df_select_ROF[Deal_df_select_ROF['Target/Issuer Name '] == i]\n",
    "            \n",
    "        if ROF_investment_date_DF.shape[0] > 1:\n",
    "            Round_diff.extend(ROF_investment_date_DF['Year_to_exit'].diff(periods=-1).to_list())\n",
    "        else:\n",
    "            Round_diff.append('NaN')\n",
    "    \n",
    "    Deal_df_select_ROF['Round_diff'] = pd.Series(Round_diff)\n",
    "    Deal_df_select_ROF['Round_diff'] = pd.to_numeric(Deal_df_select_ROF['Round_diff'],errors='coerce')\n",
    "    \n",
    "    return Deal_df_select_ROF,Deal_df_select_exit,unique_company_name"
   ]
  },
  {
   "cell_type": "code",
   "execution_count": 121,
   "id": "2cdb42f5",
   "metadata": {},
   "outputs": [],
   "source": [
    "def print_data_ROF_exit(Deal_df_select_ROF,Deal_df_select_exit,unique_company_name):\n",
    "    print('Total number of companies: ',len(unique_company_name),'\\n')\n",
    "    print('Total number of RoF deals per company: ',Deal_df_select_ROF.shape[0]/len(unique_company_name),'\\n')\n",
    "    print('Summary of Round of financing:')\n",
    "    print(Deal_df_select_ROF.describe())\n",
    "    print('\\n','Summary of Exit:')\n",
    "    print(Deal_df_select_exit.describe())\n",
    "    print('\\n','Summary of Exit via different methods:')\n",
    "    print(Deal_df_select_exit.groupby('Transaction Type ').describe())"
   ]
  },
  {
   "cell_type": "markdown",
   "id": "c5930b77",
   "metadata": {},
   "source": [
    "Summary:\n",
    "1. Companies --- total number\n",
    "2. RoF deals number --- Total number / average per company / std\n",
    "3. RoF deals amount --- Total number / average per company / std\n",
    "4. RoF time difference --- avg per company/ std\n",
    "5. Exit value -- Total number / average per company / std\n",
    "6. Exit via IPO -- Total number / average per company / std\n",
    "7. Exit via M&A --- Total number / average per company / std\n",
    "8. First round to exit duation --- average / std"
   ]
  },
  {
   "cell_type": "markdown",
   "id": "ddc81594",
   "metadata": {},
   "source": [
    "#### ! Need to compare the second round amount to the first"
   ]
  },
  {
   "cell_type": "markdown",
   "id": "169c5b92",
   "metadata": {},
   "source": [
    "#### Summary statistics"
   ]
  },
  {
   "cell_type": "code",
   "execution_count": 122,
   "id": "aecadd30",
   "metadata": {},
   "outputs": [],
   "source": [
    "Deal_US_ROF,Deal_US_Exit,US_compname = data_select_ROF_exit(Deal_US_df)"
   ]
  },
  {
   "cell_type": "code",
   "execution_count": 123,
   "id": "7969795e",
   "metadata": {},
   "outputs": [],
   "source": [
    "Deal_US_ROF,Deal_US_Exit,US_compname = clean_data_select_ROF_exit(Deal_US_ROF,Deal_US_Exit,US_compname)"
   ]
  },
  {
   "cell_type": "code",
   "execution_count": 124,
   "id": "472bbf13",
   "metadata": {},
   "outputs": [
    {
     "name": "stdout",
     "output_type": "stream",
     "text": [
      "Total number of companies:  1450 \n",
      "\n",
      "Total number of RoF deals per company:  1.7089655172413794 \n",
      "\n",
      "Summary of Round of financing:\n",
      "       Total Transaction Value ($M)  Year_to_exit   Round_diff\n",
      "count                   2478.000000   2478.000000  1028.000000\n",
      "mean                      48.563713      4.771654     1.798404\n",
      "std                      287.005542      3.869385     1.642656\n",
      "min                        0.010000      0.002740     0.002740\n",
      "25%                        5.000000      1.706849     0.747945\n",
      "50%                       11.000000      3.950685     1.335616\n",
      "75%                       26.000000      7.021918     2.243836\n",
      "max                     7500.000000     21.641096    11.117808\n",
      "\n",
      " Summary of Exit:\n",
      "       Total Transaction Value ($M)\n",
      "count                   1450.000000\n",
      "mean                     520.194807\n",
      "std                     1775.662957\n",
      "min                        0.100000\n",
      "25%                       42.887500\n",
      "50%                      133.780000\n",
      "75%                      398.295000\n",
      "max                    48584.850000\n",
      "\n",
      " Summary of Exit via different methods:\n",
      "                  Total Transaction Value ($M)                                \\\n",
      "                                         count        mean          std  min   \n",
      "Transaction Type                                                               \n",
      "ECM - IPO                                259.0  323.540965   656.958649  1.0   \n",
      "M&A - Whole                             1191.0  562.960000  1932.717129  0.1   \n",
      "\n",
      "                                                   \n",
      "                    25%     50%     75%       max  \n",
      "Transaction Type                                   \n",
      "ECM - IPO          80.0  170.00  295.82   8100.00  \n",
      "M&A - Whole        35.0  127.92  427.77  48584.85  \n"
     ]
    }
   ],
   "source": [
    "print_data_ROF_exit(Deal_US_ROF,Deal_US_Exit,US_compname)"
   ]
  },
  {
   "cell_type": "code",
   "execution_count": 125,
   "id": "33d3a31d",
   "metadata": {},
   "outputs": [],
   "source": [
    "Deal_UK_ROF,Deal_UK_Exit,UK_compname = data_select_ROF_exit(Deal_UK_df)"
   ]
  },
  {
   "cell_type": "code",
   "execution_count": 126,
   "id": "4f83cc77",
   "metadata": {},
   "outputs": [],
   "source": [
    "Deal_UK_ROF,Deal_UK_Exit,UK_compname = clean_data_select_ROF_exit(Deal_UK_ROF,Deal_UK_Exit,UK_compname)"
   ]
  },
  {
   "cell_type": "code",
   "execution_count": 127,
   "id": "d1090898",
   "metadata": {},
   "outputs": [
    {
     "name": "stdout",
     "output_type": "stream",
     "text": [
      "Total number of companies:  112 \n",
      "\n",
      "Total number of RoF deals per company:  1.4375 \n",
      "\n",
      "Summary of Round of financing:\n",
      "       Total Transaction Value ($M)  Year_to_exit  Round_diff\n",
      "count                    161.000000    161.000000   49.000000\n",
      "mean                      35.316087      4.837216    2.023204\n",
      "std                      109.743380      3.555641    1.990825\n",
      "min                        0.010000      0.109589    0.172603\n",
      "25%                        2.510000      2.071233    1.000000\n",
      "50%                        5.610000      3.753425    1.558904\n",
      "75%                       29.770000      6.882192    2.263014\n",
      "max                     1089.060000     17.041096   12.545205\n",
      "\n",
      " Summary of Exit:\n",
      "       Total Transaction Value ($M)\n",
      "count                    113.000000\n",
      "mean                     352.109735\n",
      "std                      746.270093\n",
      "min                        0.170000\n",
      "25%                       15.200000\n",
      "50%                       55.490000\n",
      "75%                      404.980000\n",
      "max                     5489.030000\n",
      "\n",
      " Summary of Exit via different methods:\n",
      "                  Total Transaction Value ($M)                                \\\n",
      "                                         count        mean         std   min   \n",
      "Transaction Type                                                               \n",
      "ECM - IPO                                 14.0  150.895000  189.379010  1.84   \n",
      "M&A - Whole                               99.0  380.564343  790.645025  0.17   \n",
      "\n",
      "                                                      \n",
      "                       25%    50%       75%      max  \n",
      "Transaction Type                                      \n",
      "ECM - IPO           8.2225  39.73  246.0625   567.46  \n",
      "M&A - Whole        15.3250  65.31  441.9250  5489.03  \n"
     ]
    }
   ],
   "source": [
    "print_data_ROF_exit(Deal_UK_ROF,Deal_UK_Exit,UK_compname)"
   ]
  },
  {
   "cell_type": "markdown",
   "id": "a5425061",
   "metadata": {},
   "source": [
    "### Reform Data"
   ]
  },
  {
   "cell_type": "markdown",
   "id": "5b9a474d",
   "metadata": {},
   "source": [
    "#### Creat df that all RoF for one company "
   ]
  },
  {
   "cell_type": "code",
   "execution_count": 128,
   "id": "2f95dfe2",
   "metadata": {},
   "outputs": [],
   "source": [
    "def reform_dataset_by_company(Deal_df_select_ROF,Deal_df_select_exit,unique_company_name):\n",
    "    \n",
    "    max_rounds = Deal_df_select_ROF.groupby('Target/Issuer Name ').size().max()\n",
    "    RoF_invest_matrix = []\n",
    "    \n",
    "    extreme_company_name = []\n",
    "    for i in unique_company_name:\n",
    "        Exit_row = Deal_df_select_exit[Deal_df_select_exit['Target/Issuer Name '] == i]\n",
    "        ROF_investment_date_DF = Deal_df_select_ROF[Deal_df_select_ROF['Target/Issuer Name '] == i]\n",
    "        \n",
    "        investment_amount_comp = np.zeros(max_rounds)\n",
    "        rounds = 0\n",
    "        \n",
    "        if ROF_investment_date_DF.shape[0] > 7:\n",
    "            extreme_company_name.append(i)\n",
    "            \n",
    "        for index,row in ROF_investment_date_DF.iterrows():\n",
    "            investment_amount_comp[rounds] = row['Total Transaction Value ($M)']\n",
    "            rounds = rounds + 1\n",
    "        RoF_invest_matrix.append(investment_amount_comp)\n",
    "    RoF_invest_matrix = np.array(RoF_invest_matrix)\n",
    "    \n",
    "    df_col_name = [\"Rounds {}\".format(i) for i in range(max_rounds)]\n",
    "    df = pd.DataFrame(RoF_invest_matrix,columns=df_col_name) #    df = pd.DataFrame(RoF_invest_matrix) \n",
    "    \n",
    "    return df,extreme_company_name"
   ]
  },
  {
   "cell_type": "code",
   "execution_count": 129,
   "id": "2358a1c4",
   "metadata": {},
   "outputs": [],
   "source": [
    "df,extrem_name = reform_dataset_by_company(Deal_US_ROF,Deal_US_Exit,US_compname )"
   ]
  },
  {
   "cell_type": "markdown",
   "id": "427fecdb",
   "metadata": {},
   "source": [
    "#### Company as a row with Adjusted sum of investment"
   ]
  },
  {
   "cell_type": "markdown",
   "id": "9ccfde2a",
   "metadata": {},
   "source": [
    "For each company, the adjusted investment amount = $\\sum_{t \\in \\{1,\\cdots, T\\}} I_t * (1+r)^{(T-t)} $"
   ]
  },
  {
   "cell_type": "code",
   "execution_count": 205,
   "id": "568dfd55",
   "metadata": {},
   "outputs": [],
   "source": [
    "# Return use adjusted return \n",
    "def adjuested_investment_company_df(Deal_df_select_ROF,Deal_df_select_exit,company_name):\n",
    "    exit_value = []\n",
    "    adjust_investment_amount = []\n",
    "    sum_investment_amount = []\n",
    "    duration = []\n",
    "    number_of_rounds = []\n",
    "    \n",
    "    for i in company_name:\n",
    "        ROF_investment_date_DF = Deal_df_select_ROF[Deal_df_select_ROF['Target/Issuer Name '] == i]\n",
    "        Exit_DF = Deal_df_select_exit[Deal_df_select_exit['Target/Issuer Name '] == i]\n",
    "        \n",
    "        exit_value.append(Exit_DF['Total Transaction Value ($M)'].values[0])\n",
    "        number_of_rounds.append(ROF_investment_date_DF.shape[0])\n",
    "        \n",
    "        duration.append(ROF_investment_date_DF['Year_to_exit'].min())\n",
    "        \n",
    "        sum_investment_amount.append(ROF_investment_date_DF['Total Transaction Value ($M)'].sum())\n",
    "        \n",
    "        adjust_investment_amount_value = 0\n",
    "        \n",
    "        for index,row in ROF_investment_date_DF.iterrows():\n",
    "            time_in_years = row['Year_to_exit']\n",
    "            investment_amount = row['Total Transaction Value ($M)']\n",
    "            adjust_investment_amount_value = adjust_investment_amount_value + investment_amount*np.power(1.05,time_in_years)\n",
    "            \n",
    "        adjust_investment_amount.append(adjust_investment_amount_value)\n",
    "    \n",
    "    df = pd.DataFrame({'exit_value':exit_value,'adjust_investment_amount':adjust_investment_amount,\n",
    "                       'sum_invest_amount':sum_investment_amount,\n",
    "                       'net_adj_return': np.array(exit_value) - np.array(adjust_investment_amount),\n",
    "                       'Time_to_exit':duration,'number_of_rounds':number_of_rounds,\n",
    "                       'log_exit_value':np.log(exit_value),'log_adjust_investment_amount':np.log(adjust_investment_amount),\n",
    "                       'log_sum_invest_amount':np.log(sum_investment_amount),\n",
    "                       'log_Time_to_exit':np.log(duration),'log_number_of_rounds':np.log(number_of_rounds)})\n",
    "    \n",
    "    return df"
   ]
  },
  {
   "cell_type": "code",
   "execution_count": 206,
   "id": "c15b9e8d",
   "metadata": {},
   "outputs": [],
   "source": [
    "Aj_US_ROF_exit_df = adjuested_investment_company_df(Deal_US_ROF,Deal_US_Exit,US_compname)"
   ]
  },
  {
   "cell_type": "code",
   "execution_count": 207,
   "id": "3f9b2363",
   "metadata": {},
   "outputs": [
    {
     "data": {
      "text/html": [
       "<div>\n",
       "<style scoped>\n",
       "    .dataframe tbody tr th:only-of-type {\n",
       "        vertical-align: middle;\n",
       "    }\n",
       "\n",
       "    .dataframe tbody tr th {\n",
       "        vertical-align: top;\n",
       "    }\n",
       "\n",
       "    .dataframe thead th {\n",
       "        text-align: right;\n",
       "    }\n",
       "</style>\n",
       "<table border=\"1\" class=\"dataframe\">\n",
       "  <thead>\n",
       "    <tr style=\"text-align: right;\">\n",
       "      <th></th>\n",
       "      <th>exit_value</th>\n",
       "      <th>adjust_investment_amount</th>\n",
       "      <th>sum_invest_amount</th>\n",
       "      <th>net_adj_return</th>\n",
       "      <th>Time_to_exit</th>\n",
       "      <th>number_of_rounds</th>\n",
       "      <th>log_exit_value</th>\n",
       "      <th>log_adjust_investment_amount</th>\n",
       "      <th>log_sum_invest_amount</th>\n",
       "      <th>log_Time_to_exit</th>\n",
       "      <th>log_number_of_rounds</th>\n",
       "    </tr>\n",
       "  </thead>\n",
       "  <tbody>\n",
       "    <tr>\n",
       "      <th>count</th>\n",
       "      <td>1450.000000</td>\n",
       "      <td>1450.000000</td>\n",
       "      <td>1450.000000</td>\n",
       "      <td>1450.000000</td>\n",
       "      <td>1450.000000</td>\n",
       "      <td>1450.000000</td>\n",
       "      <td>1450.000000</td>\n",
       "      <td>1450.000000</td>\n",
       "      <td>1450.000000</td>\n",
       "      <td>1450.000000</td>\n",
       "      <td>1450.000000</td>\n",
       "    </tr>\n",
       "    <tr>\n",
       "      <th>mean</th>\n",
       "      <td>520.194807</td>\n",
       "      <td>99.924013</td>\n",
       "      <td>82.993710</td>\n",
       "      <td>420.270794</td>\n",
       "      <td>3.620255</td>\n",
       "      <td>1.708966</td>\n",
       "      <td>4.815511</td>\n",
       "      <td>2.910583</td>\n",
       "      <td>2.703988</td>\n",
       "      <td>0.685555</td>\n",
       "      <td>0.359996</td>\n",
       "    </tr>\n",
       "    <tr>\n",
       "      <th>std</th>\n",
       "      <td>1775.662957</td>\n",
       "      <td>708.938429</td>\n",
       "      <td>614.626805</td>\n",
       "      <td>1810.267582</td>\n",
       "      <td>3.523433</td>\n",
       "      <td>1.296378</td>\n",
       "      <td>1.791479</td>\n",
       "      <td>1.703434</td>\n",
       "      <td>1.680341</td>\n",
       "      <td>1.343079</td>\n",
       "      <td>0.535060</td>\n",
       "    </tr>\n",
       "    <tr>\n",
       "      <th>min</th>\n",
       "      <td>0.100000</td>\n",
       "      <td>0.010770</td>\n",
       "      <td>0.010000</td>\n",
       "      <td>-11645.627337</td>\n",
       "      <td>0.002740</td>\n",
       "      <td>1.000000</td>\n",
       "      <td>-2.302585</td>\n",
       "      <td>-4.530982</td>\n",
       "      <td>-4.605170</td>\n",
       "      <td>-5.899897</td>\n",
       "      <td>0.000000</td>\n",
       "    </tr>\n",
       "    <tr>\n",
       "      <th>25%</th>\n",
       "      <td>42.887500</td>\n",
       "      <td>7.162052</td>\n",
       "      <td>6.000000</td>\n",
       "      <td>19.860399</td>\n",
       "      <td>0.957534</td>\n",
       "      <td>1.000000</td>\n",
       "      <td>3.758580</td>\n",
       "      <td>1.968795</td>\n",
       "      <td>1.791759</td>\n",
       "      <td>-0.043397</td>\n",
       "      <td>0.000000</td>\n",
       "    </tr>\n",
       "    <tr>\n",
       "      <th>50%</th>\n",
       "      <td>133.780000</td>\n",
       "      <td>18.361494</td>\n",
       "      <td>15.000000</td>\n",
       "      <td>91.659866</td>\n",
       "      <td>2.538356</td>\n",
       "      <td>1.000000</td>\n",
       "      <td>4.896196</td>\n",
       "      <td>2.910256</td>\n",
       "      <td>2.708050</td>\n",
       "      <td>0.931515</td>\n",
       "      <td>0.000000</td>\n",
       "    </tr>\n",
       "    <tr>\n",
       "      <th>75%</th>\n",
       "      <td>398.295000</td>\n",
       "      <td>51.147212</td>\n",
       "      <td>40.000000</td>\n",
       "      <td>324.138530</td>\n",
       "      <td>5.176027</td>\n",
       "      <td>2.000000</td>\n",
       "      <td>5.987190</td>\n",
       "      <td>3.934707</td>\n",
       "      <td>3.688879</td>\n",
       "      <td>1.644037</td>\n",
       "      <td>0.693147</td>\n",
       "    </tr>\n",
       "    <tr>\n",
       "      <th>max</th>\n",
       "      <td>48584.850000</td>\n",
       "      <td>18562.578192</td>\n",
       "      <td>15405.280000</td>\n",
       "      <td>48572.598777</td>\n",
       "      <td>21.126027</td>\n",
       "      <td>14.000000</td>\n",
       "      <td>10.791067</td>\n",
       "      <td>9.828903</td>\n",
       "      <td>9.642466</td>\n",
       "      <td>3.050506</td>\n",
       "      <td>2.639057</td>\n",
       "    </tr>\n",
       "  </tbody>\n",
       "</table>\n",
       "</div>"
      ],
      "text/plain": [
       "         exit_value  adjust_investment_amount  sum_invest_amount  \\\n",
       "count   1450.000000               1450.000000        1450.000000   \n",
       "mean     520.194807                 99.924013          82.993710   \n",
       "std     1775.662957                708.938429         614.626805   \n",
       "min        0.100000                  0.010770           0.010000   \n",
       "25%       42.887500                  7.162052           6.000000   \n",
       "50%      133.780000                 18.361494          15.000000   \n",
       "75%      398.295000                 51.147212          40.000000   \n",
       "max    48584.850000              18562.578192       15405.280000   \n",
       "\n",
       "       net_adj_return  Time_to_exit  number_of_rounds  log_exit_value  \\\n",
       "count     1450.000000   1450.000000       1450.000000     1450.000000   \n",
       "mean       420.270794      3.620255          1.708966        4.815511   \n",
       "std       1810.267582      3.523433          1.296378        1.791479   \n",
       "min     -11645.627337      0.002740          1.000000       -2.302585   \n",
       "25%         19.860399      0.957534          1.000000        3.758580   \n",
       "50%         91.659866      2.538356          1.000000        4.896196   \n",
       "75%        324.138530      5.176027          2.000000        5.987190   \n",
       "max      48572.598777     21.126027         14.000000       10.791067   \n",
       "\n",
       "       log_adjust_investment_amount  log_sum_invest_amount  log_Time_to_exit  \\\n",
       "count                   1450.000000            1450.000000       1450.000000   \n",
       "mean                       2.910583               2.703988          0.685555   \n",
       "std                        1.703434               1.680341          1.343079   \n",
       "min                       -4.530982              -4.605170         -5.899897   \n",
       "25%                        1.968795               1.791759         -0.043397   \n",
       "50%                        2.910256               2.708050          0.931515   \n",
       "75%                        3.934707               3.688879          1.644037   \n",
       "max                        9.828903               9.642466          3.050506   \n",
       "\n",
       "       log_number_of_rounds  \n",
       "count           1450.000000  \n",
       "mean               0.359996  \n",
       "std                0.535060  \n",
       "min                0.000000  \n",
       "25%                0.000000  \n",
       "50%                0.000000  \n",
       "75%                0.693147  \n",
       "max                2.639057  "
      ]
     },
     "execution_count": 207,
     "metadata": {},
     "output_type": "execute_result"
    }
   ],
   "source": [
    "Aj_US_ROF_exit_df.describe()"
   ]
  },
  {
   "cell_type": "code",
   "execution_count": 209,
   "id": "7766c7b5",
   "metadata": {},
   "outputs": [
    {
     "data": {
      "text/plain": [
       "<AxesSubplot:>"
      ]
     },
     "execution_count": 209,
     "metadata": {},
     "output_type": "execute_result"
    },
    {
     "data": {
      "image/png": "[encoded data removed]",
      "text/plain": [
       "<Figure size 432x288 with 1 Axes>"
      ]
     },
     "metadata": {},
     "output_type": "display_data"
    }
   ],
   "source": [
    "Aj_US_ROF_exit_df['net_adj_return'].hist(bins=100)"
   ]
  },
  {
   "cell_type": "code",
   "execution_count": 133,
   "id": "616dd439",
   "metadata": {},
   "outputs": [],
   "source": [
    "Aj_UK_ROF_exit_df = adjuested_investment_company_df(Deal_UK_ROF,Deal_UK_Exit,UK_compname)"
   ]
  },
  {
   "cell_type": "code",
   "execution_count": 134,
   "id": "0601ffa0",
   "metadata": {},
   "outputs": [
    {
     "data": {
      "text/html": [
       "<div>\n",
       "<style scoped>\n",
       "    .dataframe tbody tr th:only-of-type {\n",
       "        vertical-align: middle;\n",
       "    }\n",
       "\n",
       "    .dataframe tbody tr th {\n",
       "        vertical-align: top;\n",
       "    }\n",
       "\n",
       "    .dataframe thead th {\n",
       "        text-align: right;\n",
       "    }\n",
       "</style>\n",
       "<table border=\"1\" class=\"dataframe\">\n",
       "  <thead>\n",
       "    <tr style=\"text-align: right;\">\n",
       "      <th></th>\n",
       "      <th>exit_value</th>\n",
       "      <th>adjust_investment_amount</th>\n",
       "      <th>sum_invest_amount</th>\n",
       "      <th>Time_to_exit</th>\n",
       "      <th>number_of_rounds</th>\n",
       "      <th>log_exit_value</th>\n",
       "      <th>log_adjust_investment_amount</th>\n",
       "      <th>log_sum_invest_amount</th>\n",
       "      <th>log_Time_to_exit</th>\n",
       "      <th>log_number_of_rounds</th>\n",
       "    </tr>\n",
       "  </thead>\n",
       "  <tbody>\n",
       "    <tr>\n",
       "      <th>count</th>\n",
       "      <td>112.000000</td>\n",
       "      <td>112.000000</td>\n",
       "      <td>112.000000</td>\n",
       "      <td>112.000000</td>\n",
       "      <td>112.000000</td>\n",
       "      <td>112.000000</td>\n",
       "      <td>112.000000</td>\n",
       "      <td>112.000000</td>\n",
       "      <td>112.000000</td>\n",
       "      <td>112.000000</td>\n",
       "    </tr>\n",
       "    <tr>\n",
       "      <th>mean</th>\n",
       "      <td>355.184643</td>\n",
       "      <td>60.106446</td>\n",
       "      <td>50.766875</td>\n",
       "      <td>4.254868</td>\n",
       "      <td>1.437500</td>\n",
       "      <td>4.187672</td>\n",
       "      <td>2.483133</td>\n",
       "      <td>2.254523</td>\n",
       "      <td>1.096839</td>\n",
       "      <td>0.238805</td>\n",
       "    </tr>\n",
       "    <tr>\n",
       "      <th>std</th>\n",
       "      <td>748.904729</td>\n",
       "      <td>156.273697</td>\n",
       "      <td>141.394225</td>\n",
       "      <td>3.581055</td>\n",
       "      <td>0.918099</td>\n",
       "      <td>2.101151</td>\n",
       "      <td>1.971002</td>\n",
       "      <td>1.976033</td>\n",
       "      <td>0.901824</td>\n",
       "      <td>0.445613</td>\n",
       "    </tr>\n",
       "    <tr>\n",
       "      <th>min</th>\n",
       "      <td>0.170000</td>\n",
       "      <td>0.010984</td>\n",
       "      <td>0.010000</td>\n",
       "      <td>0.109589</td>\n",
       "      <td>1.000000</td>\n",
       "      <td>-1.771957</td>\n",
       "      <td>-4.511333</td>\n",
       "      <td>-4.605170</td>\n",
       "      <td>-2.211018</td>\n",
       "      <td>0.000000</td>\n",
       "    </tr>\n",
       "    <tr>\n",
       "      <th>25%</th>\n",
       "      <td>15.282500</td>\n",
       "      <td>4.316469</td>\n",
       "      <td>3.455000</td>\n",
       "      <td>1.865068</td>\n",
       "      <td>1.000000</td>\n",
       "      <td>2.726704</td>\n",
       "      <td>1.462438</td>\n",
       "      <td>1.239434</td>\n",
       "      <td>0.623298</td>\n",
       "      <td>0.000000</td>\n",
       "    </tr>\n",
       "    <tr>\n",
       "      <th>50%</th>\n",
       "      <td>60.400000</td>\n",
       "      <td>10.950627</td>\n",
       "      <td>8.860000</td>\n",
       "      <td>3.234247</td>\n",
       "      <td>1.000000</td>\n",
       "      <td>4.097674</td>\n",
       "      <td>2.393397</td>\n",
       "      <td>2.181340</td>\n",
       "      <td>1.173660</td>\n",
       "      <td>0.000000</td>\n",
       "    </tr>\n",
       "    <tr>\n",
       "      <th>75%</th>\n",
       "      <td>412.760000</td>\n",
       "      <td>47.547360</td>\n",
       "      <td>37.045000</td>\n",
       "      <td>5.521233</td>\n",
       "      <td>1.250000</td>\n",
       "      <td>6.022346</td>\n",
       "      <td>3.860123</td>\n",
       "      <td>3.612131</td>\n",
       "      <td>1.708595</td>\n",
       "      <td>0.173287</td>\n",
       "    </tr>\n",
       "    <tr>\n",
       "      <th>max</th>\n",
       "      <td>5489.030000</td>\n",
       "      <td>1147.954407</td>\n",
       "      <td>1089.060000</td>\n",
       "      <td>17.041096</td>\n",
       "      <td>6.000000</td>\n",
       "      <td>8.610507</td>\n",
       "      <td>7.045737</td>\n",
       "      <td>6.993070</td>\n",
       "      <td>2.835628</td>\n",
       "      <td>1.791759</td>\n",
       "    </tr>\n",
       "  </tbody>\n",
       "</table>\n",
       "</div>"
      ],
      "text/plain": [
       "        exit_value  adjust_investment_amount  sum_invest_amount  Time_to_exit  \\\n",
       "count   112.000000                112.000000         112.000000    112.000000   \n",
       "mean    355.184643                 60.106446          50.766875      4.254868   \n",
       "std     748.904729                156.273697         141.394225      3.581055   \n",
       "min       0.170000                  0.010984           0.010000      0.109589   \n",
       "25%      15.282500                  4.316469           3.455000      1.865068   \n",
       "50%      60.400000                 10.950627           8.860000      3.234247   \n",
       "75%     412.760000                 47.547360          37.045000      5.521233   \n",
       "max    5489.030000               1147.954407        1089.060000     17.041096   \n",
       "\n",
       "       number_of_rounds  log_exit_value  log_adjust_investment_amount  \\\n",
       "count        112.000000      112.000000                    112.000000   \n",
       "mean           1.437500        4.187672                      2.483133   \n",
       "std            0.918099        2.101151                      1.971002   \n",
       "min            1.000000       -1.771957                     -4.511333   \n",
       "25%            1.000000        2.726704                      1.462438   \n",
       "50%            1.000000        4.097674                      2.393397   \n",
       "75%            1.250000        6.022346                      3.860123   \n",
       "max            6.000000        8.610507                      7.045737   \n",
       "\n",
       "       log_sum_invest_amount  log_Time_to_exit  log_number_of_rounds  \n",
       "count             112.000000        112.000000            112.000000  \n",
       "mean                2.254523          1.096839              0.238805  \n",
       "std                 1.976033          0.901824              0.445613  \n",
       "min                -4.605170         -2.211018              0.000000  \n",
       "25%                 1.239434          0.623298              0.000000  \n",
       "50%                 2.181340          1.173660              0.000000  \n",
       "75%                 3.612131          1.708595              0.173287  \n",
       "max                 6.993070          2.835628              1.791759  "
      ]
     },
     "execution_count": 134,
     "metadata": {},
     "output_type": "execute_result"
    }
   ],
   "source": [
    "Aj_UK_ROF_exit_df.describe()"
   ]
  },
  {
   "cell_type": "markdown",
   "id": "ab78d0a5",
   "metadata": {},
   "source": [
    "### Relationship between the exit value and other variables"
   ]
  },
  {
   "cell_type": "markdown",
   "id": "9cdf1134",
   "metadata": {},
   "source": [
    "#### Checked dependent"
   ]
  },
  {
   "cell_type": "code",
   "execution_count": 135,
   "id": "018d7f11",
   "metadata": {},
   "outputs": [
    {
     "name": "stdout",
     "output_type": "stream",
     "text": [
      "p value is 0.0\n",
      "Dependent (reject H0)\n"
     ]
    }
   ],
   "source": [
    "from scipy.stats import chi2_contingency\n",
    "  \n",
    "# defining the table\n",
    "\n",
    "stat, p, dof, expected = chi2_contingency(Aj_US_ROF_exit_df[['exit_value','sum_invest_amount']])\n",
    "  \n",
    "# interpret p-value\n",
    "alpha = 0.01\n",
    "print(\"p value is \" + str(p))\n",
    "if p <= alpha:\n",
    "    print('Dependent (reject H0)')\n",
    "else:\n",
    "    print('Independent (H0 holds true)')"
   ]
  },
  {
   "cell_type": "code",
   "execution_count": 136,
   "id": "eabb49fb",
   "metadata": {},
   "outputs": [
    {
     "name": "stdout",
     "output_type": "stream",
     "text": [
      "p value is 0.0\n",
      "Dependent (reject H0)\n"
     ]
    }
   ],
   "source": [
    "stat, p, dof, expected = chi2_contingency(Aj_US_ROF_exit_df[['exit_value','Time_to_exit']])\n",
    "  \n",
    "# interpret p-value\n",
    "alpha = 0.01\n",
    "print(\"p value is \" + str(p))\n",
    "if p <= alpha:\n",
    "    print('Dependent (reject H0)')\n",
    "else:\n",
    "    print('Independent (H0 holds true)')"
   ]
  },
  {
   "cell_type": "markdown",
   "id": "ef3c2100",
   "metadata": {},
   "source": [
    "#### Linear relationship: Not good Exit value  ~ adj investment amount + number of rounds "
   ]
  },
  {
   "cell_type": "code",
   "execution_count": 137,
   "id": "0a265d46",
   "metadata": {},
   "outputs": [
    {
     "data": {
      "text/plain": [
       "[Text(0.5, 1.0, 'Correlation Matrix')]"
      ]
     },
     "execution_count": 137,
     "metadata": {},
     "output_type": "execute_result"
    },
    {
     "data": {
      "image/png": "[encoded data removed]",
      "text/plain": [
       "<Figure size 792x648 with 2 Axes>"
      ]
     },
     "metadata": {},
     "output_type": "display_data"
    }
   ],
   "source": [
    "sns.set_theme(style=\"white\")\n",
    "\n",
    "# Compute the correlation matrix\n",
    "corr = Aj_US_ROF_exit_df[['exit_value','adjust_investment_amount','Time_to_exit','number_of_rounds']].corr()\n",
    "\n",
    "# Generate a mask for the upper triangle\n",
    "mask = np.triu(np.ones_like(corr, dtype=bool))\n",
    "\n",
    "# Set up the matplotlib figure\n",
    "f, ax = plt.subplots(figsize=(11, 9))\n",
    "\n",
    "# Generate a custom diverging colormap\n",
    "cmap = sns.diverging_palette(230, 20, as_cmap=True)\n",
    "\n",
    "# Draw the heatmap with the mask and correct aspect ratio\n",
    "sns.heatmap(corr, mask=mask, cmap=cmap, vmax=.3, center=0,\n",
    "            square=True, linewidths=.5, cbar_kws={\"shrink\": .5}).set(title='Correlation Matrix')"
   ]
  },
  {
   "cell_type": "code",
   "execution_count": 138,
   "id": "01c80cbb",
   "metadata": {},
   "outputs": [
    {
     "data": {
      "text/plain": [
       "[Text(0.5, 1.0, 'Correlation Matrix')]"
      ]
     },
     "execution_count": 138,
     "metadata": {},
     "output_type": "execute_result"
    },
    {
     "data": {
      "image/png": "[encoded data removed]",
      "text/plain": [
       "<Figure size 792x648 with 2 Axes>"
      ]
     },
     "metadata": {},
     "output_type": "display_data"
    }
   ],
   "source": [
    "sns.set_theme(style=\"white\")\n",
    "\n",
    "# Compute the correlation matrix\n",
    "corr = Aj_UK_ROF_exit_df[['exit_value','adjust_investment_amount','Time_to_exit','number_of_rounds']].corr()\n",
    "\n",
    "# Generate a mask for the upper triangle\n",
    "mask = np.triu(np.ones_like(corr, dtype=bool))\n",
    "\n",
    "# Set up the matplotlib figure\n",
    "f, ax = plt.subplots(figsize=(11, 9))\n",
    "\n",
    "# Generate a custom diverging colormap\n",
    "cmap = sns.diverging_palette(230, 20, as_cmap=True)\n",
    "\n",
    "# Draw the heatmap with the mask and correct aspect ratio\n",
    "sns.heatmap(corr, mask=mask, cmap=cmap, vmax=.3, center=0,\n",
    "            square=True, linewidths=.5, cbar_kws={\"shrink\": .5}).set(title='Correlation Matrix')"
   ]
  },
  {
   "cell_type": "code",
   "execution_count": 139,
   "id": "6aca0ae8",
   "metadata": {},
   "outputs": [],
   "source": [
    "# Exit value uncorrlated with investment length \n",
    "# corr_duration, _ = pearsonr(reg_US_ROF_exit_df['exit_value'], reg_US_ROF_exit_df['duration'])\n",
    "# print('Pearsons correlation: %.3f' % corr_duration)"
   ]
  },
  {
   "cell_type": "code",
   "execution_count": 140,
   "id": "a910bb8e",
   "metadata": {},
   "outputs": [],
   "source": [
    "# corr_duration_UK, _ = pearsonr(reg_UK_ROF_exit_df['exit_value'], reg_UK_ROF_exit_df['duration'])\n",
    "# print('Pearsons correlation: %.3f' % corr_duration_UK)"
   ]
  },
  {
   "cell_type": "code",
   "execution_count": 141,
   "id": "a4462987",
   "metadata": {},
   "outputs": [],
   "source": [
    "# corr_investamount, _ = pearsonr(reg_US_ROF_exit_df['exit_value'], reg_US_ROF_exit_df['adjust_investment_amount'])\n",
    "# print('Pearsons correlation: %.3f' % corr_investamount)"
   ]
  },
  {
   "cell_type": "code",
   "execution_count": 142,
   "id": "8bdb5e32",
   "metadata": {},
   "outputs": [],
   "source": [
    "# corr_numb_of_rounds, _ = pearsonr(reg_US_ROF_exit_df['exit_value'], reg_US_ROF_exit_df['number_of_rounds'])\n",
    "# print('Pearsons correlation: %.3f' % corr_numb_of_rounds)"
   ]
  },
  {
   "cell_type": "markdown",
   "id": "7caf8d89",
   "metadata": {},
   "source": [
    "##### Result : Resgression result for log_exit_value ~ log_adjust_investment_amount +  number_of_rounds"
   ]
  },
  {
   "cell_type": "code",
   "execution_count": 145,
   "id": "1b69c69a",
   "metadata": {},
   "outputs": [
    {
     "name": "stdout",
     "output_type": "stream",
     "text": [
      "                            OLS Regression Results                            \n",
      "==============================================================================\n",
      "Dep. Variable:         log_exit_value   R-squared:                       0.146\n",
      "Model:                            OLS   Adj. R-squared:                  0.145\n",
      "Method:                 Least Squares   F-statistic:                     124.1\n",
      "Date:                Fri, 18 Nov 2022   Prob (F-statistic):           1.83e-50\n",
      "Time:                        21:26:01   Log-Likelihood:                -2787.6\n",
      "No. Observations:                1450   AIC:                             5581.\n",
      "Df Residuals:                    1447   BIC:                             5597.\n",
      "Df Model:                           2                                         \n",
      "Covariance Type:            nonrobust                                         \n",
      "================================================================================================\n",
      "                                   coef    std err          t      P>|t|      [0.025      0.975]\n",
      "------------------------------------------------------------------------------------------------\n",
      "Intercept                        3.6455      0.087     41.906      0.000       3.475       3.816\n",
      "log_adjust_investment_amount     0.4628      0.030     15.336      0.000       0.404       0.522\n",
      "log_number_of_rounds            -0.4914      0.096     -5.115      0.000      -0.680      -0.303\n",
      "==============================================================================\n",
      "Omnibus:                       63.425   Durbin-Watson:                   1.988\n",
      "Prob(Omnibus):                  0.000   Jarque-Bera (JB):              109.698\n",
      "Skew:                          -0.342   Prob(JB):                     1.51e-24\n",
      "Kurtosis:                       4.160   Cond. No.                         8.25\n",
      "==============================================================================\n",
      "\n",
      "Notes:\n",
      "[1] Standard Errors assume that the covariance matrix of the errors is correctly specified.\n"
     ]
    }
   ],
   "source": [
    "adjust_invest_result = sm.ols(formula=\"log_exit_value ~ log_adjust_investment_amount + log_number_of_rounds\", data=Aj_US_ROF_exit_df).fit()\n",
    "print(adjust_invest_result.summary())"
   ]
  },
  {
   "cell_type": "code",
   "execution_count": 149,
   "id": "08b28d65",
   "metadata": {},
   "outputs": [
    {
     "data": {
      "text/plain": [
       "Intercept                       3.645460\n",
       "log_adjust_investment_amount    0.462772\n",
       "log_number_of_rounds           -0.491353\n",
       "dtype: float64"
      ]
     },
     "execution_count": 149,
     "metadata": {},
     "output_type": "execute_result"
    }
   ],
   "source": [
    "adjust_invest_result.params"
   ]
  },
  {
   "cell_type": "code",
   "execution_count": 150,
   "id": "58174adf",
   "metadata": {},
   "outputs": [],
   "source": [
    "adjust_invest_reg_params = adjust_invest_result.params = [3.645460,0.462772,-0.491353]"
   ]
  },
  {
   "cell_type": "markdown",
   "id": "d3b39644",
   "metadata": {},
   "source": [
    "##### Result : Resgression result for log_exit_value ~ log_investment_amount + number_of_rounds"
   ]
  },
  {
   "cell_type": "code",
   "execution_count": 146,
   "id": "c0edd384",
   "metadata": {},
   "outputs": [
    {
     "name": "stdout",
     "output_type": "stream",
     "text": [
      "                            OLS Regression Results                            \n",
      "==============================================================================\n",
      "Dep. Variable:         log_exit_value   R-squared:                       0.135\n",
      "Model:                            OLS   Adj. R-squared:                  0.134\n",
      "Method:                 Least Squares   F-statistic:                     113.0\n",
      "Date:                Fri, 18 Nov 2022   Prob (F-statistic):           2.56e-46\n",
      "Time:                        21:26:38   Log-Likelihood:                -2797.2\n",
      "No. Observations:                1450   AIC:                             5600.\n",
      "Df Residuals:                    1447   BIC:                             5616.\n",
      "Df Model:                           2                                         \n",
      "Covariance Type:            nonrobust                                         \n",
      "=========================================================================================\n",
      "                            coef    std err          t      P>|t|      [0.025      0.975]\n",
      "-----------------------------------------------------------------------------------------\n",
      "Intercept                 3.8528      0.087     44.241      0.000       3.682       4.024\n",
      "log_sum_invest_amount     0.4273      0.030     14.265      0.000       0.369       0.486\n",
      "number_of_rounds         -0.1127      0.039     -2.904      0.004      -0.189      -0.037\n",
      "==============================================================================\n",
      "Omnibus:                       62.503   Durbin-Watson:                   1.991\n",
      "Prob(Omnibus):                  0.000   Jarque-Bera (JB):              107.293\n",
      "Skew:                          -0.340   Prob(JB):                     5.03e-24\n",
      "Kurtosis:                       4.146   Cond. No.                         7.77\n",
      "==============================================================================\n",
      "\n",
      "Notes:\n",
      "[1] Standard Errors assume that the covariance matrix of the errors is correctly specified.\n"
     ]
    }
   ],
   "source": [
    "nonadjust_invest_result = sm.ols(formula=\"log_exit_value ~ log_sum_invest_amount + number_of_rounds\", data=Aj_US_ROF_exit_df).fit()\n",
    "print(nonadjust_invest_result.summary())"
   ]
  },
  {
   "cell_type": "markdown",
   "id": "7a168b07",
   "metadata": {},
   "source": [
    "####  Exit value follows a jump-diffusion process"
   ]
  },
  {
   "cell_type": "code",
   "execution_count": 35,
   "id": "479218db",
   "metadata": {},
   "outputs": [
    {
     "data": {
      "text/plain": [
       "<matplotlib.legend.Legend at 0x1f513debb20>"
      ]
     },
     "execution_count": 35,
     "metadata": {},
     "output_type": "execute_result"
    },
    {
     "data": {
      "image/png": "[encoded data removed]",
      "text/plain": [
       "<Figure size 432x288 with 1 Axes>"
      ]
     },
     "metadata": {},
     "output_type": "display_data"
    }
   ],
   "source": [
    "g = sns.scatterplot(data=Aj_US_ROF_exit_df, x=\"Time_to_exit\", y=\"log_exit_value\", hue='log_adjust_investment_amount',size='log_adjust_investment_amount',sizes=(20, 100))\n",
    "g.legend(loc='center left', bbox_to_anchor=(1, 0.5),title='Adjusted Investment')\n"
   ]
  },
  {
   "cell_type": "code",
   "execution_count": 36,
   "id": "1dc9ddd1",
   "metadata": {
    "scrolled": true
   },
   "outputs": [
    {
     "data": {
      "text/plain": [
       "<AxesSubplot:xlabel='Time_to_exit', ylabel='log_exit_value'>"
      ]
     },
     "execution_count": 36,
     "metadata": {},
     "output_type": "execute_result"
    },
    {
     "data": {
      "image/png": "[encoded data removed]",
      "text/plain": [
       "<Figure size 432x288 with 1 Axes>"
      ]
     },
     "metadata": {},
     "output_type": "display_data"
    }
   ],
   "source": [
    "sns.scatterplot(data=Aj_US_ROF_exit_df, x=\"Time_to_exit\", y=\"log_exit_value\", hue='log_adjust_investment_amount')"
   ]
  },
  {
   "cell_type": "code",
   "execution_count": null,
   "id": "b10b9bd9",
   "metadata": {},
   "outputs": [],
   "source": []
  },
  {
   "cell_type": "markdown",
   "id": "bfa6d5bd",
   "metadata": {},
   "source": [
    "#### ! Need firm value in the beginning also in between"
   ]
  },
  {
   "cell_type": "code",
   "execution_count": 37,
   "id": "7580e032",
   "metadata": {},
   "outputs": [
    {
     "data": {
      "text/plain": [
       "Text(0.5, 1.0, 'Jump Diffusion Process')"
      ]
     },
     "execution_count": 37,
     "metadata": {},
     "output_type": "execute_result"
    },
    {
     "data": {
      "image/png": "[encoded data removed]",
      "text/plain": [
       "<Figure size 432x288 with 1 Axes>"
      ]
     },
     "metadata": {},
     "output_type": "display_data"
    }
   ],
   "source": [
    "def merton_jump_paths(S, T, r, sigma,  lam, m, v, steps, Npaths):\n",
    "    size=(steps,Npaths)\n",
    "    dt = T/steps \n",
    "    poi_rv = np.multiply(np.random.poisson( lam*dt, size=size),\n",
    "                         np.random.normal(m,v, size=size)).cumsum(axis=0)\n",
    "    geo = np.cumsum(((r -  sigma**2/2 -lam*(m  + v**2*0.5))*dt +\\\n",
    "                              sigma*np.sqrt(dt) * \\\n",
    "                              np.random.normal(size=size)), axis=0)\n",
    "    \n",
    "    return np.exp(geo+poi_rv)*S\n",
    "\n",
    "\n",
    "S = 10 # current firm value\n",
    "T = 5 # time to maturity\n",
    "r = 0.025 # risk free rate\n",
    "m = 0.2*np.log(1.3) # meean of jump size\n",
    "v = 0.3 # standard deviation of jump\n",
    "lam =0.2 # intensity of jump --  giving an expected time to exit of five years\n",
    "steps =10 # time steps\n",
    "Npaths = 1 # number of paths to simulate\n",
    "sigma = 0.9 # following Cochrane (2005), Metrick and Yasuda (2010a), and Gornall and Strebulaev (2020).\n",
    "\n",
    "j = merton_jump_paths(S, T, r, sigma, lam, m, v, steps, Npaths)\n",
    "\n",
    "plt.plot(j)\n",
    "plt.xlabel('Years')\n",
    "plt.ylabel('Firm value')\n",
    "plt.title('Jump Diffusion Process')"
   ]
  },
  {
   "cell_type": "code",
   "execution_count": null,
   "id": "f178720f",
   "metadata": {},
   "outputs": [],
   "source": []
  },
  {
   "cell_type": "code",
   "execution_count": 38,
   "id": "f28fafa4",
   "metadata": {},
   "outputs": [],
   "source": [
    "# def divided_RoF_by_quarter(Deal_df_select_ROF,Deal_df_select_exit,company_name):\n",
    "    \n",
    "    \n",
    "#     for i in company_name:\n",
    "#         ROF_DF = Deal_df_select_ROF[Deal_df_select_ROF['Target/Issuer Name '] == i]\n",
    "#         Exit_DF = Deal_df_select_exit[Deal_df_select_exit['Target/Issuer Name '] == i]\n",
    "        \n",
    "#         for index,row in ROF_investment_date_DF.iterrows():\n",
    "#             year_to_exit_value = row['Year_to_exit']\n",
    "            \n",
    "        "
   ]
  },
  {
   "cell_type": "code",
   "execution_count": null,
   "id": "84b14f67",
   "metadata": {},
   "outputs": [],
   "source": []
  },
  {
   "cell_type": "markdown",
   "id": "21c40ead",
   "metadata": {},
   "source": [
    "#### Machines learning but highly sparse?"
   ]
  },
  {
   "cell_type": "code",
   "execution_count": null,
   "id": "2d4030d6",
   "metadata": {},
   "outputs": [],
   "source": []
  },
  {
   "cell_type": "markdown",
   "id": "63dd6e88",
   "metadata": {},
   "source": [
    "#### Disturbution for investment amount"
   ]
  },
  {
   "cell_type": "code",
   "execution_count": 216,
   "id": "799e19ec",
   "metadata": {},
   "outputs": [
    {
     "name": "stdout",
     "output_type": "stream",
     "text": [
      "[distfit] >fit..\n",
      "[distfit] >transform..\n",
      "[distfit] >[norm      ] [0.00 sec] [RSS: 2.65718e-05] [loc=48.564 scale=286.948]\n",
      "[distfit] >[expon     ] [0.00 sec] [RSS: 3.95467e-06] [loc=0.010 scale=48.554]\n",
      "[distfit] >[pareto    ] [0.08 sec] [RSS: 2.65546e-05] [loc=-3.246 scale=3.256]\n",
      "[distfit] >[dweibull  ] [0.05 sec] [RSS: 2.98488e-05] [loc=7.000 scale=14.596]\n",
      "[distfit] >[t         ] [0.04 sec] [RSS: 3.41945e-05] [loc=8.799 scale=6.639]\n",
      "[distfit] >[genextreme] [0.10 sec] [RSS: 3.83354e-05] [loc=4.215 scale=3.745]\n",
      "[distfit] >[gamma     ] [0.07 sec] [RSS: 4.07468e-05] [loc=0.010 scale=4.001]\n",
      "[distfit] >[lognorm   ] [0.06 sec] [RSS: 2.25982e-05] [loc=-0.250 scale=11.908]\n",
      "[distfit] >[beta      ] [0.12 sec] [RSS: 1.35785e-05] [loc=0.010 scale=85882.446]\n",
      "[distfit] >[uniform   ] [0.0 sec] [RSS: 3.98579e-05] [loc=0.010 scale=7499.990]\n",
      "[distfit] >[loggamma  ] [0.06 sec] [RSS: 2.80101e-05] [loc=-81718.777 scale=11451.149]\n",
      "[distfit] >Compute confidence interval [parametric]\n"
     ]
    },
    {
     "data": {
      "text/plain": [
       "{'model': {'distr': <scipy.stats._continuous_distns.expon_gen at 0x1f5109ce1f0>,\n",
       "  'stats': 'RSS',\n",
       "  'params': (0.01, 48.55371267150928),\n",
       "  'name': 'expon',\n",
       "  'model': <scipy.stats._distn_infrastructure.rv_frozen at 0x1f51748aa00>,\n",
       "  'score': 3.9546719850134356e-06,\n",
       "  'loc': 0.01,\n",
       "  'scale': 48.55371267150928,\n",
       "  'arg': (),\n",
       "  'CII_min_alpha': 2.500479877668268,\n",
       "  'CII_max_alpha': 145.46392405090765},\n",
       " 'summary':          distr     score  LLE           loc         scale  \\\n",
       " 0        expon  0.000004  NaN          0.01     48.553713   \n",
       " 1         beta  0.000014  NaN          0.01  85882.445656   \n",
       " 2      lognorm  0.000023  NaN      -0.24974     11.907734   \n",
       " 3       pareto  0.000027  NaN     -3.245709      3.255709   \n",
       " 4         norm  0.000027  NaN     48.563713    286.947626   \n",
       " 5     loggamma  0.000028  NaN -81718.776772  11451.148763   \n",
       " 6     dweibull   0.00003  NaN           7.0     14.596162   \n",
       " 7            t  0.000034  NaN      8.798908      6.639349   \n",
       " 8   genextreme  0.000038  NaN      4.215123      3.744563   \n",
       " 9      uniform   0.00004  NaN          0.01       7499.99   \n",
       " 10       gamma  0.000041  NaN          0.01      4.001028   \n",
       " \n",
       "                                         arg  \n",
       " 0                                        ()  \n",
       " 1   (0.4428203390022616, 929.7301831777404)  \n",
       " 2                     (1.4485398643998029,)  \n",
       " 3                     (0.5456704267564497,)  \n",
       " 4                                        ()  \n",
       " 5                     (1262.1519214207478,)  \n",
       " 6                     (0.5170665261507885,)  \n",
       " 7                     (0.8970752690720595,)  \n",
       " 8                     (-0.455198688178729,)  \n",
       " 9                                        ()  \n",
       " 10                 (0.0016056791055963566,)  ,\n",
       " 'histdata': (array([6.38149896e-03, 1.37207608e-04, 5.64972505e-05, 2.15227621e-05,\n",
       "         1.34517263e-05, 2.69034526e-06, 2.15227621e-05, 5.38069052e-06,\n",
       "         0.00000000e+00, 2.69034526e-06, 2.69034526e-06, 5.38069052e-06,\n",
       "         0.00000000e+00, 2.69034526e-06, 0.00000000e+00, 0.00000000e+00,\n",
       "         0.00000000e+00, 0.00000000e+00, 2.69034526e-06, 0.00000000e+00,\n",
       "         0.00000000e+00, 0.00000000e+00, 0.00000000e+00, 0.00000000e+00,\n",
       "         0.00000000e+00, 0.00000000e+00, 0.00000000e+00, 0.00000000e+00,\n",
       "         0.00000000e+00, 0.00000000e+00, 0.00000000e+00, 0.00000000e+00,\n",
       "         0.00000000e+00, 2.69034526e-06, 0.00000000e+00, 2.69034526e-06,\n",
       "         0.00000000e+00, 0.00000000e+00, 0.00000000e+00, 0.00000000e+00,\n",
       "         0.00000000e+00, 0.00000000e+00, 0.00000000e+00, 0.00000000e+00,\n",
       "         0.00000000e+00, 0.00000000e+00, 0.00000000e+00, 0.00000000e+00,\n",
       "         2.69034526e-06, 2.69034526e-06]),\n",
       "  array([  75.0099,  225.0097,  375.0095,  525.0093,  675.0091,  825.0089,\n",
       "          975.0087, 1125.0085, 1275.0083, 1425.0081, 1575.0079, 1725.0077,\n",
       "         1875.0075, 2025.0073, 2175.0071, 2325.0069, 2475.0067, 2625.0065,\n",
       "         2775.0063, 2925.0061, 3075.0059, 3225.0057, 3375.0055, 3525.0053,\n",
       "         3675.0051, 3825.0049, 3975.0047, 4125.0045, 4275.0043, 4425.0041,\n",
       "         4575.0039, 4725.0037, 4875.0035, 5025.0033, 5175.0031, 5325.0029,\n",
       "         5475.0027, 5625.0025, 5775.0023, 5925.0021, 6075.0019, 6225.0017,\n",
       "         6375.0015, 6525.0013, 6675.0011, 6825.0009, 6975.0007, 7125.0005,\n",
       "         7275.0003, 7425.0001])),\n",
       " 'size': 2478,\n",
       " 'alpha': 0.05,\n",
       " 'stats': 'RSS',\n",
       " 'bins': 50,\n",
       " 'bound': 'both',\n",
       " 'distr': 'popular',\n",
       " 'method': 'parametric',\n",
       " 'multtest': 'fdr_bh',\n",
       " 'n_perm': 10000,\n",
       " 'smooth': None,\n",
       " 'weighted': True,\n",
       " 'f': 1.5}"
      ]
     },
     "execution_count": 216,
     "metadata": {},
     "output_type": "execute_result"
    }
   ],
   "source": [
    "dist = distfit()\n",
    "dist.fit_transform(Deal_US_ROF['Total Transaction Value ($M)'])"
   ]
  },
  {
   "cell_type": "code",
   "execution_count": 217,
   "id": "6ed3d316",
   "metadata": {},
   "outputs": [
    {
     "data": {
      "text/plain": [
       "(0.01, 48.55371267150928)"
      ]
     },
     "execution_count": 217,
     "metadata": {},
     "output_type": "execute_result"
    }
   ],
   "source": [
    "Invest_amount_params = dist.model['params']\n",
    "Invest_amount_params"
   ]
  },
  {
   "cell_type": "code",
   "execution_count": 218,
   "id": "c3c16611",
   "metadata": {},
   "outputs": [
    {
     "data": {
      "text/plain": [
       "45.209653813865856"
      ]
     },
     "execution_count": 218,
     "metadata": {},
     "output_type": "execute_result"
    }
   ],
   "source": [
    "test_rand_exit_aj = scipy.stats.expon.rvs(Invest_amount_params[0],Invest_amount_params[1], size=10)\n",
    "np.mean(test_rand_exit_aj)"
   ]
  },
  {
   "cell_type": "markdown",
   "id": "fd261b7b",
   "metadata": {},
   "source": [
    "##### Second add 10"
   ]
  },
  {
   "cell_type": "markdown",
   "id": "7f9d3057",
   "metadata": {},
   "source": [
    "#### Investment time"
   ]
  },
  {
   "cell_type": "code",
   "execution_count": 41,
   "id": "de813e6e",
   "metadata": {},
   "outputs": [
    {
     "data": {
      "text/plain": [
       "<AxesSubplot:>"
      ]
     },
     "execution_count": 41,
     "metadata": {},
     "output_type": "execute_result"
    },
    {
     "data": {
      "image/png": "[encoded data removed]",
      "text/plain": [
       "<Figure size 432x288 with 1 Axes>"
      ]
     },
     "metadata": {},
     "output_type": "display_data"
    }
   ],
   "source": [
    "Deal_US_ROF.Round_diff.hist(bins = 30)"
   ]
  },
  {
   "cell_type": "code",
   "execution_count": 42,
   "id": "699e8ceb",
   "metadata": {},
   "outputs": [],
   "source": [
    "elements = [0.5,1.0,1.5,2.0,3.0,4.0,5.0,8.0,10.0]\n",
    "probabilities = [0.2,0.3,0.25,0.15,0.06,0.03,0.005,0.005]\n"
   ]
  },
  {
   "cell_type": "markdown",
   "id": "8e76266b",
   "metadata": {},
   "source": [
    "#### Disturbution for Exit value/ adjuested investment amount"
   ]
  },
  {
   "cell_type": "code",
   "execution_count": 60,
   "id": "05ad1e22",
   "metadata": {},
   "outputs": [
    {
     "name": "stdout",
     "output_type": "stream",
     "text": [
      "[distfit] >fit..\n",
      "[distfit] >transform..\n",
      "[smoothline] >Smoothing by interpolation..\n",
      "[distfit] >[t] [0.02 sec] [RSS: 7.55902e-08] [loc=3.274 scale=3.193]\n",
      "[distfit] >Compute confidence interval [parametric]\n"
     ]
    }
   ],
   "source": [
    "dist = distfit(distr = 't',smooth = 10)        # Initialize \n",
    "disfit_result_exit_adj_invest = dist.fit_transform(Aj_US_ROF_exit_df['exit_value']/Aj_US_ROF_exit_df['adjust_investment_amount'] )"
   ]
  },
  {
   "cell_type": "markdown",
   "id": "8d30ba39",
   "metadata": {},
   "source": [
    "exit_divid_adj_invest_params = dist.model['params']\n",
    "exit_divid_adj_invest_params"
   ]
  },
  {
   "cell_type": "code",
   "execution_count": 61,
   "id": "8c0af650",
   "metadata": {},
   "outputs": [
    {
     "data": {
      "text/plain": [
       "(0.6036857436259997, 3.273780072151344, 3.193492397782016)"
      ]
     },
     "execution_count": 61,
     "metadata": {},
     "output_type": "execute_result"
    }
   ],
   "source": [
    "Exit_adj_invest_params = dist.model['params']\n",
    "Exit_adj_invest_params"
   ]
  },
  {
   "cell_type": "code",
   "execution_count": 62,
   "id": "0b6cc139",
   "metadata": {},
   "outputs": [
    {
     "data": {
      "text/plain": [
       "array([ 6.0947991 , 10.90749418,  6.95532449,  5.26440045,  6.39029515,\n",
       "        6.66736088,  5.65544863,  8.69652472,  5.39748699,  5.72997027])"
      ]
     },
     "execution_count": 62,
     "metadata": {},
     "output_type": "execute_result"
    }
   ],
   "source": [
    "test_rand_exit_aj = scipy.stats.lognorm.rvs(disfit_exit_adj_invest_params[0],loc=disfit_exit_adj_invest_params[1],scale=disfit_exit_adj_invest_params[2], size=10)\n",
    "test_rand_exit_aj"
   ]
  },
  {
   "cell_type": "markdown",
   "id": "cc6273e0",
   "metadata": {},
   "source": [
    "#### Distribution for Time to exit"
   ]
  },
  {
   "cell_type": "code",
   "execution_count": 191,
   "id": "3aee98b7",
   "metadata": {
    "scrolled": true
   },
   "outputs": [
    {
     "data": {
      "text/plain": [
       "<AxesSubplot:>"
      ]
     },
     "execution_count": 191,
     "metadata": {},
     "output_type": "execute_result"
    },
    {
     "data": {
      "image/png": "[encoded data removed]",
      "text/plain": [
       "<Figure size 432x288 with 1 Axes>"
      ]
     },
     "metadata": {},
     "output_type": "display_data"
    }
   ],
   "source": [
    "Aj_US_ROF_exit_df['Time_to_exit'].hist(bins =20)"
   ]
  },
  {
   "cell_type": "code",
   "execution_count": 193,
   "id": "0cd00fbb",
   "metadata": {
    "scrolled": true
   },
   "outputs": [
    {
     "name": "stdout",
     "output_type": "stream",
     "text": [
      "[distfit] >fit..\n",
      "[distfit] >transform..\n",
      "[smoothline] >Smoothing by interpolation..\n",
      "[distfit] >[lognorm] [0.06 sec] [RSS: 0.0520579] [loc=-0.251 scale=2.520]\n",
      "[distfit] >Compute confidence interval [parametric]\n"
     ]
    }
   ],
   "source": [
    "dist = distfit(distr = 'lognorm',smooth = 10)        # Initialize \n",
    "disfit_result_duration = dist.fit_transform(Aj_US_ROF_exit_df['Time_to_exit'])"
   ]
  },
  {
   "cell_type": "code",
   "execution_count": 194,
   "id": "b6e576b2",
   "metadata": {},
   "outputs": [
    {
     "data": {
      "text/plain": [
       "(0.9907360625882979, -0.2510879964450745, 2.5201460311724015)"
      ]
     },
     "execution_count": 194,
     "metadata": {},
     "output_type": "execute_result"
    }
   ],
   "source": [
    "Time_to_exit_params = dist.model['params']\n",
    "Time_to_exit_params"
   ]
  },
  {
   "cell_type": "code",
   "execution_count": 195,
   "id": "9fafe6b2",
   "metadata": {
    "scrolled": true
   },
   "outputs": [
    {
     "data": {
      "text/plain": [
       "array([ 1.19637441, 10.71625198,  0.9342712 ,  4.77852183,  1.20604628,\n",
       "        0.9123913 ,  2.67343985,  0.58988957,  2.935061  ,  0.49178578])"
      ]
     },
     "execution_count": 195,
     "metadata": {},
     "output_type": "execute_result"
    }
   ],
   "source": [
    "test_rand_duration = scipy.stats.lognorm.rvs(Time_to_exit_params[0],loc=Time_to_exit_params[1],scale=Time_to_exit_params[2], size=10)\n",
    "test_rand_duration"
   ]
  },
  {
   "cell_type": "code",
   "execution_count": 196,
   "id": "e178764b",
   "metadata": {},
   "outputs": [
    {
     "data": {
      "text/plain": [
       "array([ 1., 11.,  1.,  5.,  1.,  1.,  3.,  1.,  3.,  0.])"
      ]
     },
     "execution_count": 196,
     "metadata": {},
     "output_type": "execute_result"
    }
   ],
   "source": [
    "np.rint(test_rand_duration)"
   ]
  },
  {
   "cell_type": "markdown",
   "id": "5610c4cb",
   "metadata": {
    "id": "635fb40d"
   },
   "source": [
    "### Selection Model"
   ]
  },
  {
   "cell_type": "markdown",
   "id": "0a7ba5bc",
   "metadata": {},
   "source": [
    "#### Confirm the parameters value"
   ]
  },
  {
   "cell_type": "code",
   "execution_count": null,
   "id": "b8d5fc0d",
   "metadata": {},
   "outputs": [],
   "source": [
    "I = 20\n",
    "K = 1000\n",
    "Max_investment_length = 10 # In years\n",
    "Number_of_rounds = 2 # suppose all invested in two rounds\n",
    "Invest_per_round = 40 \n",
    "Expacted_exit_value_per_company = 400"
   ]
  },
  {
   "cell_type": "markdown",
   "id": "fce4bf02",
   "metadata": {},
   "source": [
    "#### Two methods using class with adjusted investment amount"
   ]
  },
  {
   "cell_type": "code",
   "execution_count": 33,
   "id": "d600b27f",
   "metadata": {},
   "outputs": [
    {
     "data": {
      "text/plain": [
       "array([ 1,  2, 10,  4,  5, 10, 10,  5, 10, 10])"
      ]
     },
     "execution_count": 33,
     "metadata": {},
     "output_type": "execute_result"
    }
   ],
   "source": [
    "# 1. Generate completion time\n",
    "# 2. Adjusted sum of investment investment amount, time, freq --- defined by the investors\n",
    "# 3. exit value "
   ]
  },
  {
   "cell_type": "code",
   "execution_count": null,
   "id": "7dfa5362",
   "metadata": {},
   "outputs": [],
   "source": [
    "# Test of creating class\n",
    "class selection_problem():\n",
    "    def __init__(self, I=20, K=1000, Max_investment_length=10,Expacted_exit_value_per_company=3,duration_params = [3.1678816394371356, 2.742974039423639, 2.3446702170311653], adjust_invest_reg_params = [3.645460,0.462772,-0.491353]):\n",
    "        self.I = I #number of companies\n",
    "        self.K = K #number of iterations\n",
    "        self.Max_investment_length = Max_investment_length \n",
    "        self.Expacted_exit_value_per_company = Expacted_exit_value_per_company\n",
    "        self.adjust_invest_reg_params = adjust_invest_reg_params # parameters fitted from regression\n",
    "        self.duration_params = duration_params\n",
    "        \n",
    "    def k_times_terminated_rounds(self):\n",
    "        # Simulate completion time\n",
    "#         elements = [4,5,6,7,8]\n",
    "#         probabilities = [0.1,0.3,0.3,0.2,0.1]\n",
    "#         completion_time = np.random.choice(elements, self.I, p=probabilities)\n",
    "\n",
    "        completion_time_fra = scipy.stats.lognorm.rvs(self.duration_params[0],loc=self.duration_params[1],scale=self.duration_params[2], size=self.I)\n",
    "        completion_time_int = np.rint(completion_time_fra)\n",
    "        completion_time = np.array([i if i < Max_investment_length else Max_investment_length for i in completion_time_int])\n",
    "        \n",
    "\n",
    "        rand_numbe_lognorm = scipy.stats.lognorm.rvs(self.params_exit_adjinvest[0],loc=self.params_exit_adjinvest[1],scale=self.params_exit_adjinvest[2], size=self.I)\n",
    "        # simulation: rand_numbe_lognorm = exit_value/sum_of_investment\n",
    "        sum_of_investment = (np.power(1.05,completion_time-1) - 1)/0.05 \n",
    "        \n",
    "        exit_value_of_companies = rand_numbe_lognorm*sum_of_investment\n",
    "\n",
    "        \n",
    "        sum_exit_return = 0\n",
    "        total_number_of_exit_companies = 0\n",
    "        for invest_rounds in range(self.Max_investment_length):\n",
    "            invest_each_round = np.power(1.05,invest_rounds)\n",
    "            for company_i in range(self.I):\n",
    "                # Complete = reach completion rounds\n",
    "                if invest_rounds >= completion_time[company_i]:\n",
    "                    # Only when net return>1 then we exit,or we terminate the investment in that company\n",
    "                    if ((exit_value_of_companies[company_i] - sum_of_investment[company_i]) > 1) & (invest_rounds == completion_time[company_i]):\n",
    "                        sum_exit_return = sum_exit_return + exit_value_of_companies[company_i] \n",
    "                        total_number_of_exit_companies = total_number_of_exit_companies + 1\n",
    "                        #print('Company',company_i,'Finish at rounds',completion_time[company_i],':',exit_value_of_companies[company_i])\n",
    "                # Not reaching completion rounds\n",
    "                else:\n",
    "                    sum_exit_return = sum_exit_return - invest_each_round\n",
    "            if sum_exit_return > self.Expacted_exit_value_per_company*self.I:\n",
    "                break\n",
    "\n",
    "        return invest_rounds,sum_exit_return,total_number_of_exit_companies\n",
    "    \n",
    "    def k_times_terminated_rounds_resultDF(self):\n",
    "        investment_terminated_time = []\n",
    "        sum_of_return = []\n",
    "        n_comp = []\n",
    "        for k in range(self.K):\n",
    "            t,r,n = self.k_times_terminated_rounds()\n",
    "            investment_terminated_time.append(t)\n",
    "            sum_of_return.append(r)\n",
    "            n_comp.append(n)\n",
    "        selection_result_df = pd.DataFrame({'terminal_round':investment_terminated_time,'sum_of_return':sum_of_return,'number_of_exit_companies':n_comp})\n",
    "        return selection_result_df\n",
    "    \n",
    "    def k_times_terminated_rounds_hist(self):\n",
    "        selection_result_df = self.k_times_terminated_rounds_resultDF()\n",
    "        plt.hist(selection_result_df.terminal_round)\n",
    "        plt.title('The investment rounds when portfoilo reaches the expected return {} for PE in {} simulation times'.format(self.I*self.Expacted_exit_value_per_company,self.K))\n",
    "        plt.xlabel('investment rounds')\n",
    "        plt.show()\n",
    "    \n",
    "    def k_times_terminated_rounds_hist_sum_return(self):\n",
    "        selection_result_df = self.k_times_terminated_rounds_resultDF()\n",
    "        \n",
    "        print(selection_result_df.groupby('terminal_round').agg({'sum_of_return':['mean', 'max', 'min','var']}))\n",
    "        \n",
    "        selection_result_df['sum_of_return'].hist(by=selection_result_df['terminal_round'],figsize =(10,8))\n",
    "        plt.show()\n",
    "        "
   ]
  },
  {
   "cell_type": "code",
   "execution_count": null,
   "id": "b08353d7",
   "metadata": {},
   "outputs": [],
   "source": [
    "# First define the value you use I=20, K=1000, Max_investment_length=10,Expacted_exit_value_per_company=3,params=[1.8926501807066645, 0.0013935829239333539, 1.6564777495637903]\n",
    "test_1 = selection_problem()\n",
    "test_1_df = test_1.k_times_terminated_rounds_resultDF()\n",
    "test_1.k_times_terminated_rounds_hist()"
   ]
  },
  {
   "cell_type": "code",
   "execution_count": null,
   "id": "7bdaada8",
   "metadata": {},
   "outputs": [],
   "source": [
    "test_1.k_times_terminated_rounds_hist_sum_return()"
   ]
  },
  {
   "cell_type": "code",
   "execution_count": 86,
   "id": "2bb7d709",
   "metadata": {},
   "outputs": [],
   "source": [
    "# Simulate the completion time use disturbution \n",
    "# Simulate the investment amount use disturbution \n",
    "# Simulate the investment time use dist\n",
    "# Simulate the exit value use dist of exit/adj_sum_invest"
   ]
  },
  {
   "cell_type": "code",
   "execution_count": null,
   "id": "ef1c098b",
   "metadata": {},
   "outputs": [],
   "source": [
    "adjust_invest_reg_params"
   ]
  },
  {
   "cell_type": "markdown",
   "id": "c4f1a3e6",
   "metadata": {},
   "source": [
    "#### Current result: Data simulation using regression"
   ]
  },
  {
   "cell_type": "code",
   "execution_count": 225,
   "id": "5c6b19f6",
   "metadata": {},
   "outputs": [],
   "source": [
    "class selection_problem_ARM_method():\n",
    "    def __init__(self, I=20, K=1000, Max_investment_length=10,Expacted_exit_value_per_company= 100,Time_to_exit_params= [0.9907360625882979, -0.2510879964450745, 2.5201460311724015],Invest_amount_params = [0.01, 48.55371267150928],adjust_invest_reg_params = [3.645460,0.462772,-0.491353],p=0.95):\n",
    "        self.I = I #number of companies\n",
    "        self.K = K #number of iterations\n",
    "        self.Max_investment_length = Max_investment_length \n",
    "        self.Expacted_exit_value_per_company = Expacted_exit_value_per_company\n",
    "        self.Time_to_exit_params = Time_to_exit_params\n",
    "        self.Invest_amount_params = Invest_amount_params\n",
    "        self.adjust_invest_reg_params = adjust_invest_reg_params # parameters fitted for exit/investment return\n",
    "        self.p = p\n",
    "        \n",
    "    def simu_k_scenairos(self):\n",
    "# Simulate the completion time use disturbution \n",
    "# Simulate the investment amount use disturbution \n",
    "# Simulate the investment time use dist\n",
    "# Simulate the exit value use regression result\n",
    "\n",
    "#         elements = [4,5,6,7,8]\n",
    "#         probabilities = [0.1,0.3,0.3,0.2,0.1]\n",
    "\n",
    "        completion_time_Ktimes = []\n",
    "        invest_amount_Ktimes = []\n",
    "        invest_2_time_Ktimes = []\n",
    "#         exit_value_Ktimes = []\n",
    "#         sum_of_invest_Ktimes = []\n",
    "        \n",
    "\n",
    "        for k in range(self.K):\n",
    "#             completion_time = np.random.choice(elements, self.I, p=probabilities)\n",
    "#             completion_time_Ktimes.append(completion_time)\n",
    "            \n",
    "            completion_time_lognorm = scipy.stats.lognorm.rvs(self.Time_to_exit_params[0],loc=self.Time_to_exit_params[1],scale=self.Time_to_exit_params[2], size=self.I)\n",
    "            completion_time_int = np.rint(completion_time_lognorm)\n",
    "            completion_time = np.array([i if i < self.Max_investment_length else self.Max_investment_length for i in completion_time_int])\n",
    "            completion_time_Ktimes.append(completion_time)\n",
    "            \n",
    "#             rand_numbe_lognorm = scipy.stats.lognorm.rvs(self.params[0],loc=self.params[1],scale=self.params[2], size=self.I)  \n",
    "#             sum_of_investment = (np.power(1.05,completion_time-1) - 1)/0.05 \n",
    "#             sum_of_investment_Ktimes.append(sum_of_investment)\n",
    "            \n",
    "            invest_1 = scipy.stats.expon.rvs(self.Invest_amount_params[0],self.Invest_amount_params[1], size=self.I)\n",
    "            invest_2 = invest_1 + (scipy.stats.binom.rvs(1, p=0.85,size=self.I) - 0.5)*10\n",
    "        \n",
    "            elements = [1.0,2.0,3.0,4.0,7.0,9.0]\n",
    "            probabilities = [0.4,0.3,0.2,0.09,0.005,0.005]\n",
    "            second_invest_time = np.random.choice(elements, self.I, p=probabilities)\n",
    "            \n",
    "#             # Make sure second investment time before the completion\n",
    "#             for comp in rang(self.I):\n",
    "#                 if second_invest_time[comp] > completion_time[comp]:\n",
    "#                     second_invest_time[comp] = completion_time[comp]\n",
    "            \n",
    "            invest_amount_Ktimes.append(np.array([invest_1,invest_2]))\n",
    "            invest_2_time_Ktimes.append(second_invest_time)\n",
    "\n",
    "#             exit_value_of_companies = rand_numbe_lognorm*sum_of_investment\n",
    "#             exit_value_of_companies_Ktimes.append(exit_value_of_companies)\n",
    "        \n",
    "            \n",
    "#         completion_time_Ktimes = np.array(completion_time_Ktimes)\n",
    "#         sum_of_investment_Ktimes = np.array(sum_of_investment_Ktimes)\n",
    "#         exit_value_of_companies_Ktimes = np.array(exit_value_of_companies_Ktimes)\n",
    "        \n",
    "        completion_time_Ktimes = np.array(completion_time_Ktimes)\n",
    "        invest_amount_Ktimes = np.array(invest_amount_Ktimes)\n",
    "        invest_2_time_Ktimes = np.array(invest_2_time_Ktimes)\n",
    "#         sum_of_invest_Ktimes = np.array(sum_of_invest_Ktimes)\n",
    "#         exit_value_Ktimes = np.array(exit_value_Ktimes)\n",
    "        \n",
    "\n",
    "        return completion_time_Ktimes,invest_amount_Ktimes,invest_2_time_Ktimes\n",
    "    \n",
    "        \n",
    "\n",
    "    def ARM_mini_investments_rounds(self):\n",
    "    \n",
    "        completion_time_Ktimes,invest_amount_Ktimes,invest_2_time_Ktimes= self.simu_k_scenairos()\n",
    "        \n",
    "        # Net return vetor --- Start with deducing the first investment \n",
    "        # Example: Investment_time = 2, I = 3, k = 4\n",
    "        # x = np.array([[[2,3],[4,5],[4,7]],[[1,3],[4,5],[4,7]],[[2,4],[4,5],[4,7]],[[1,4],[4,5],[4,7]]])\n",
    "        # np.sum(x,axis=1).T[0]\n",
    "        sum_exit_return_list = np.zeros((self.K))\n",
    "        \n",
    "        # Company's status in the portfolio\n",
    "        company_invest_status = np.zeros((self.Max_investment_length,self.K,self.I))\n",
    "        \n",
    "        # Companies go though second round\n",
    "        company_rounds = np.ones((self.K,self.I))\n",
    "        \n",
    "        for invest_rounds in range(self.Max_investment_length):\n",
    "#             invest_each_round = np.power(1.05,invest_rounds)\n",
    "            beta = 0 # number of simulation when the sum of return > threshold\n",
    "    # Every round calculate a new sum \n",
    "            sum_exit_return_list = -np.sum(invest_amount_Ktimes,axis =1).T[0] * np.power(1.05,invest_rounds)\n",
    "        \n",
    "            for k in range(self.K):\n",
    "                for company_i in range(self.I):\n",
    "            \n",
    "                    # Second investment --- time & company no exit\n",
    "                    if (invest_rounds >= invest_2_time_Ktimes[k][company_i]) & (company_invest_status[invest_rounds][k][company_i] == 0):\n",
    "                        company_rounds[k][company_i] = 2\n",
    "                        sum_exit_return_list[k] = sum_exit_return_list[k] - invest_amount_Ktimes[k][1][company_i]* np.power(1.05,invest_rounds - invest_2_time_Ktimes[k][company_i])\n",
    "                    \n",
    "                    # Complete = reach completion rounds ( exit or give up)\n",
    "                    if invest_rounds >= completion_time_Ktimes[k][company_i]:\n",
    "                        company_invest_status[invest_rounds][k][company_i] = 1\n",
    "                        \n",
    "                        # Number of rounds company go through\n",
    "                        if company_rounds[k][company_i] == 2:\n",
    "                            # Calulate the adj investment\n",
    "                            adj_invest = invest_amount_Ktimes[k][0][company_i]*np.power(1.05,invest_rounds) + invest_amount_Ktimes[k][1][company_i]*np.power(1.05,invest_rounds-invest_2_time_Ktimes[k][company_i])\n",
    "                            exit_value = np.exp(self.adjust_invest_reg_params[0] + self.adjust_invest_reg_params[1]*np.log(adj_invest) + self.adjust_invest_reg_params[2]*np.log(2))\n",
    "                        else:\n",
    "                            adj_invest = invest_amount_Ktimes[k][0][company_i]*np.power(1.05,invest_rounds)\n",
    "                            exit_value = np.exp(self.adjust_invest_reg_params[0] + self.adjust_invest_reg_params[1]*np.log(adj_invest))\n",
    "                        \n",
    "                        # Exit > Invest then Success Exit\n",
    "                        if exit_value > adj_invest:\n",
    "                            sum_exit_return_list[k] = sum_exit_return_list[k] + exit_value\n",
    "                        \n",
    "                        \n",
    "                if sum_exit_return_list[k] > self.Expacted_exit_value_per_company*self.I:\n",
    "                    beta = beta + 1\n",
    "            if beta >= self.K*self.p:\n",
    "                break\n",
    "\n",
    "        return invest_rounds"
   ]
  },
  {
   "cell_type": "code",
   "execution_count": 226,
   "id": "0ef3db24",
   "metadata": {},
   "outputs": [
    {
     "data": {
      "text/plain": [
       "8"
      ]
     },
     "execution_count": 226,
     "metadata": {},
     "output_type": "execute_result"
    }
   ],
   "source": [
    "test_2 = selection_problem_ARM_method(p = 0.8)\n",
    "test_2.ARM_mini_investments_rounds()"
   ]
  },
  {
   "cell_type": "code",
   "execution_count": 249,
   "id": "46852732",
   "metadata": {},
   "outputs": [
    {
     "data": {
      "text/html": [
       "<div>\n",
       "<style scoped>\n",
       "    .dataframe tbody tr th:only-of-type {\n",
       "        vertical-align: middle;\n",
       "    }\n",
       "\n",
       "    .dataframe tbody tr th {\n",
       "        vertical-align: top;\n",
       "    }\n",
       "\n",
       "    .dataframe thead th {\n",
       "        text-align: right;\n",
       "    }\n",
       "</style>\n",
       "<table border=\"1\" class=\"dataframe\">\n",
       "  <thead>\n",
       "    <tr style=\"text-align: right;\">\n",
       "      <th></th>\n",
       "      <th>Expected Net Return</th>\n",
       "      <th>t 1</th>\n",
       "    </tr>\n",
       "  </thead>\n",
       "  <tbody>\n",
       "    <tr>\n",
       "      <th>0</th>\n",
       "      <td>50</td>\n",
       "      <td>50</td>\n",
       "    </tr>\n",
       "    <tr>\n",
       "      <th>1</th>\n",
       "      <td>60</td>\n",
       "      <td>60</td>\n",
       "    </tr>\n",
       "    <tr>\n",
       "      <th>2</th>\n",
       "      <td>70</td>\n",
       "      <td>70</td>\n",
       "    </tr>\n",
       "    <tr>\n",
       "      <th>3</th>\n",
       "      <td>80</td>\n",
       "      <td>80</td>\n",
       "    </tr>\n",
       "    <tr>\n",
       "      <th>4</th>\n",
       "      <td>90</td>\n",
       "      <td>90</td>\n",
       "    </tr>\n",
       "    <tr>\n",
       "      <th>5</th>\n",
       "      <td>100</td>\n",
       "      <td>100</td>\n",
       "    </tr>\n",
       "    <tr>\n",
       "      <th>6</th>\n",
       "      <td>110</td>\n",
       "      <td>110</td>\n",
       "    </tr>\n",
       "    <tr>\n",
       "      <th>7</th>\n",
       "      <td>120</td>\n",
       "      <td>120</td>\n",
       "    </tr>\n",
       "  </tbody>\n",
       "</table>\n",
       "</div>"
      ],
      "text/plain": [
       "   Expected Net Return  t 1\n",
       "0                   50   50\n",
       "1                   60   60\n",
       "2                   70   70\n",
       "3                   80   80\n",
       "4                   90   90\n",
       "5                  100  100\n",
       "6                  110  110\n",
       "7                  120  120"
      ]
     },
     "execution_count": 249,
     "metadata": {},
     "output_type": "execute_result"
    }
   ],
   "source": [
    "df = pd.DataFrame({'Expected Net Return':R_expected})\n",
    "df['t {}'.format(1)] = R_expected\n",
    "df"
   ]
  },
  {
   "cell_type": "code",
   "execution_count": 262,
   "id": "c2243db8",
   "metadata": {},
   "outputs": [],
   "source": [
    "R_expected = [50,70,90,100,110]\n",
    "p_value = [0.6,0.8,0.9,0.95]\n",
    "ARM_simreg_result = pd.DataFrame({'Expected Net Return':R_expected})\n",
    "terminated_rounds = []\n",
    "for p_v in p_value:\n",
    "    for r in R_expected:\n",
    "        test_result = selection_problem_ARM_method(Expacted_exit_value_per_company= r, p = p_v)\n",
    "        terminated_rounds.append(test_result.ARM_mini_investments_rounds())"
   ]
  },
  {
   "cell_type": "code",
   "execution_count": 263,
   "id": "2e8de57d",
   "metadata": {},
   "outputs": [],
   "source": [
    "ARM_simreg_result = pd.DataFrame({'Expected Net Return':np.tile(R_expected,len(p_value)),\n",
    "                                  'p-value':np.tile(p_value,len(R_expected)),\n",
    "                                 'Terminated Investment Round of the Fund':terminated_rounds})"
   ]
  },
  {
   "cell_type": "code",
   "execution_count": 267,
   "id": "3b8f3a25",
   "metadata": {},
   "outputs": [
    {
     "data": {
      "text/plain": [
       "<AxesSubplot:xlabel='Terminated Investment Round of the Fund', ylabel='Expected Net Return'>"
      ]
     },
     "execution_count": 267,
     "metadata": {},
     "output_type": "execute_result"
    },
    {
     "data": {
      "image/png": "[encoded data removed]",
      "text/plain": [
       "<Figure size 432x288 with 1 Axes>"
      ]
     },
     "metadata": {},
     "output_type": "display_data"
    }
   ],
   "source": [
    "sns.lineplot(data=ARM_simreg_result,y='Expected Net Return',x='Terminated Investment Round of the Fund',hue='p-value')"
   ]
  },
  {
   "cell_type": "markdown",
   "id": "2829b676",
   "metadata": {},
   "source": [
    "### Draft:Initial way of checking the investment and exit date simulating the data"
   ]
  },
  {
   "cell_type": "code",
   "execution_count": null,
   "id": "942764b3",
   "metadata": {},
   "outputs": [],
   "source": [
    "investment_date_check = []\n",
    "for index,row in Deal_df_select_ROF.iterrows():\n",
    "    Exit_row = Deal_df_select_exit[Deal_df_select_exit['Target/Issuer Name '] == row['Target/Issuer Name ']]\n",
    "    if Exit_row['Announced Date (dd/mm/yyyy)'].values[0] > row['Announced Date (dd/mm/yyyy)']:\n",
    "        investment_date_check.append(Exit_row['Announced Date (dd/mm/yyyy)'].values[0])\n",
    "    else:\n",
    "        investment_date_check.append('NaN')\n",
    "Deal_df_select_ROF['investment_date_check'] = pd.Series(investment_date_check)\n",
    "Deal_df_select_ROF.dropna(subset=['investment_date_check'],inplace = True)\n",
    "Deal_df_select_ROF['period_to_exit'] = Deal_df_select_ROF['investment_date_check'] - Deal_df_select_ROF['Announced Date (dd/mm/yyyy)']\n"
   ]
  },
  {
   "cell_type": "code",
   "execution_count": null,
   "id": "21240466",
   "metadata": {},
   "outputs": [],
   "source": [
    "investment_date_check = []\n",
    "exit_value = []\n",
    "for index,row in Deal_df_select_ROF.iterrows():\n",
    "    MA_row = Deal_df_select_MAWhole[Deal_df_select_MAWhole['Target/Issuer Name '] == row['Target/Issuer Name ']]\n",
    "    if MA_row['Announced Date (dd/mm/yyyy)'].values[0] > row['Announced Date (dd/mm/yyyy)']:\n",
    "        investment_date_check.append(MA_row['Announced Date (dd/mm/yyyy)'].values[0])\n",
    "        exit_value.append(MA_row['Total Transaction Value ($M)'].values[0])\n",
    "    else:\n",
    "        investment_date_check.append('NaN')\n",
    "        exit_value.append('NaN')\n",
    "Deal_df_select_ROF['investment_date_check'] = pd.Series(investment_date_check)\n",
    "Deal_df_select_ROF['Exit_value'] = pd.Series(exit_value)\n",
    "Deal_df_select_ROF.dropna(subset=['investment_date_check'],inplace = True)\n",
    "Deal_df_select_ROF['period_to_exit'] = ((Deal_df_select_ROF['investment_date_check'] - Deal_df_select_ROF['Announced Date (dd/mm/yyyy)'])/178).dt.days\n",
    "Deal_df_select_ROF.loc[0,'Exit_value']"
   ]
  },
  {
   "cell_type": "code",
   "execution_count": null,
   "id": "ec08cf55",
   "metadata": {
    "scrolled": true
   },
   "outputs": [],
   "source": [
    "# Example\n",
    "# Deal_US_ROF[Deal_US_ROF['Target/Issuer Name '] == US_compname[1]]\n",
    "# Deal_US_Exit[Deal_US_MAw['Target/Issuer Name '] == US_compname[1]]"
   ]
  },
  {
   "cell_type": "code",
   "execution_count": null,
   "id": "96c38e00",
   "metadata": {
    "id": "17f0be36",
    "outputId": "e3e43239-eb38-4dd5-ab83-5ef3b41f2c06"
   },
   "outputs": [],
   "source": [
    "counts = Deal_df['Target/Issuer Name '].value_counts()\n",
    "Deal_df_select = Deal_df[Deal_df['Target/Issuer Name '].isin(counts.index[counts > 1])]\n",
    "Deal_df_select.dropna(subset=['Total Transaction Value ($M)'],inplace=True)"
   ]
  },
  {
   "cell_type": "code",
   "execution_count": null,
   "id": "60959cef",
   "metadata": {
    "id": "9c56089c",
    "outputId": "5553992f-dbcb-4d46-a52b-985f5a581eea"
   },
   "outputs": [],
   "source": [
    "Deal_df_select_Groupby= Deal_df_select.groupby('Target/Issuer Name ')\n",
    "Deal_df_select['Select'] = Deal_df_select_Groupby['Transaction Type '].transform(lambda x: x.str.contains('ROF').any() & x.str.contains('M&A - Whole').any())"
   ]
  },
  {
   "cell_type": "code",
   "execution_count": null,
   "id": "5bd93ec0",
   "metadata": {
    "id": "7510766e",
    "outputId": "0f9e46ac-9ac1-4b22-ead4-21e2df3816f9"
   },
   "outputs": [],
   "source": [
    "Deal_df_select.drop(Deal_df_select[Deal_df_select['Select']== False].index,inplace =True)"
   ]
  },
  {
   "cell_type": "code",
   "execution_count": null,
   "id": "169ff33b",
   "metadata": {
    "id": "00d39f40"
   },
   "outputs": [],
   "source": [
    "Deal_df_select.index =  range(len(Deal_df_select.index))"
   ]
  },
  {
   "cell_type": "code",
   "execution_count": null,
   "id": "3ae32e89",
   "metadata": {
    "id": "41791475",
    "outputId": "a772a0de-c517-49bd-be1a-5bcdc1f65d36",
    "scrolled": true
   },
   "outputs": [],
   "source": [
    "Deal_df_select.head()"
   ]
  },
  {
   "cell_type": "markdown",
   "id": "63878810",
   "metadata": {},
   "source": [
    "##### Not used Studying the behavior of the investments "
   ]
  },
  {
   "cell_type": "markdown",
   "id": "db45c8c8",
   "metadata": {},
   "source": [
    "Note:\n",
    "1. Make sure the investment date is ealier than the exit date"
   ]
  },
  {
   "cell_type": "markdown",
   "id": "9d921a2e",
   "metadata": {},
   "source": [
    "What we hope to study: The average of\n",
    "1. Net investment for each company \n",
    "2. Investment times\n",
    "3. The investment period\n"
   ]
  },
  {
   "cell_type": "code",
   "execution_count": null,
   "id": "1fff61ed",
   "metadata": {
    "id": "17f45d9f"
   },
   "outputs": [],
   "source": [
    "Deal_df_select_ROF = Deal_df_select[Deal_df_select['Transaction Type '].str.contains('ROF')]"
   ]
  },
  {
   "cell_type": "code",
   "execution_count": null,
   "id": "c1e8e0f2",
   "metadata": {
    "id": "0458d03b",
    "outputId": "32c078cb-9674-4c3b-e5d1-3d46ff7c3134"
   },
   "outputs": [],
   "source": [
    "Deal_df_select_ROF.sort_values(by = 'Target/Issuer Name ')"
   ]
  },
  {
   "cell_type": "code",
   "execution_count": null,
   "id": "19dfb5e2",
   "metadata": {
    "id": "bd70ece9"
   },
   "outputs": [],
   "source": [
    "# Only keep the first \n",
    "Deal_df_select_MAWhole = Deal_df_select[Deal_df_select['Transaction Type '].str.contains('M&A - Whole')].drop_duplicates(subset=['Target/Issuer Name ']) "
   ]
  },
  {
   "cell_type": "markdown",
   "id": "1d8e3605",
   "metadata": {},
   "source": [
    "##### Not used : Check the ROF date and investment date"
   ]
  },
  {
   "cell_type": "code",
   "execution_count": null,
   "id": "f8e6b275",
   "metadata": {},
   "outputs": [],
   "source": [
    "MA_row = Deal_df_select_MAWhole[Deal_df_select_MAWhole['Target/Issuer Name '] == Deal_df_select_ROF.loc[1,'Target/Issuer Name ']]\n",
    "MA_row['Total Transaction Value ($M)'].values[0]"
   ]
  },
  {
   "cell_type": "code",
   "execution_count": null,
   "id": "0bc27292",
   "metadata": {},
   "outputs": [],
   "source": [
    "investment_date_check = []\n",
    "exit_value = []\n",
    "for index,row in Deal_df_select_ROF.iterrows():\n",
    "    MA_row = Deal_df_select_MAWhole[Deal_df_select_MAWhole['Target/Issuer Name '] == row['Target/Issuer Name ']]\n",
    "    if MA_row['Announced Date (dd/mm/yyyy)'].values[0] > row['Announced Date (dd/mm/yyyy)']:\n",
    "        investment_date_check.append(MA_row['Announced Date (dd/mm/yyyy)'].values[0])\n",
    "        exit_value.append(MA_row['Total Transaction Value ($M)'].values[0])\n",
    "    else:\n",
    "        investment_date_check.append('NaN')\n",
    "        exit_value.append('NaN')"
   ]
  },
  {
   "cell_type": "code",
   "execution_count": null,
   "id": "0695fd92",
   "metadata": {},
   "outputs": [],
   "source": [
    "Deal_df_select_ROF['investment_date_check'] = pd.Series(investment_date_check)\n",
    "Deal_df_select_ROF['Exit_value'] = pd.Series(exit_value)\n",
    "Deal_df_select_ROF.dropna(subset=['investment_date_check'],inplace = True)"
   ]
  },
  {
   "cell_type": "code",
   "execution_count": null,
   "id": "b9a3ca3b",
   "metadata": {},
   "outputs": [],
   "source": [
    "Deal_df_select_ROF['period_to_exit'] = ((Deal_df_select_ROF['investment_date_check'] - Deal_df_select_ROF['Announced Date (dd/mm/yyyy)'])/178).dt.days"
   ]
  },
  {
   "cell_type": "code",
   "execution_count": null,
   "id": "ad592dd0",
   "metadata": {},
   "outputs": [],
   "source": [
    "Deal_df_select_ROF.loc[0,'Exit_value']"
   ]
  },
  {
   "cell_type": "code",
   "execution_count": null,
   "id": "f4b05eae",
   "metadata": {
    "id": "ac5939c1"
   },
   "outputs": [],
   "source": [
    "unique_company_name = Deal_df_select_ROF['Target/Issuer Name '].unique()\n",
    "len(unique_company_name)"
   ]
  },
  {
   "cell_type": "markdown",
   "id": "f5417bec",
   "metadata": {
    "id": "7936fa35"
   },
   "source": [
    "##### Not used Simulate exit value for companies"
   ]
  },
  {
   "cell_type": "code",
   "execution_count": null,
   "id": "ee5499b7",
   "metadata": {
    "id": "55a7292b"
   },
   "outputs": [],
   "source": [
    "from distfit import distfit\n",
    "import scipy"
   ]
  },
  {
   "cell_type": "code",
   "execution_count": null,
   "id": "0aae6908",
   "metadata": {
    "id": "a33e8fb0",
    "outputId": "c503869f-2b60-4bce-a7b4-c4e4f6d3d368",
    "scrolled": true
   },
   "outputs": [],
   "source": [
    "dist = distfit(distr='lognorm',smooth = 10)        # Initialize \n",
    "result = dist.fit_transform(np.array(Exit_return_ratio_sample))\n",
    "params = dist.model['params']\n",
    "score = dist.model['score']\n",
    "dist.plot()"
   ]
  },
  {
   "cell_type": "code",
   "execution_count": null,
   "id": "e1828149",
   "metadata": {
    "id": "b0a23c44",
    "outputId": "4adfe8ed-f7a2-4d08-e391-ef244a9b99c7"
   },
   "outputs": [],
   "source": [
    "params"
   ]
  },
  {
   "cell_type": "markdown",
   "id": "4747f5d8",
   "metadata": {
    "id": "0781fa86"
   },
   "source": [
    "#####  Not used: Need to discuss the way we calculate the total investment (consider time period)"
   ]
  },
  {
   "cell_type": "code",
   "execution_count": null,
   "id": "0dd91bc6",
   "metadata": {
    "id": "dc74bf6a"
   },
   "outputs": [],
   "source": [
    "# Old version\n",
    "# def investment_func(comp_name,Deal_df_select_ROF,Deal_df_select_MAWhole):\n",
    "#     ROF_df = Deal_df_select_ROF[Deal_df_select_ROF['Target/Issuer Name '] == comp_name]\n",
    "#     ROF_df.index =  range(len(ROF_df.index))\n",
    "#     MA_df = Deal_df_select_MAWhole[Deal_df_select_MAWhole['Target/Issuer Name ']==comp_name]\n",
    "    \n",
    "#     period_month = []\n",
    "    \n",
    "#     for index,row in ROF_df.iterrows():\n",
    "        \n",
    "#         # !!! Period in half an year\n",
    "#         period = ((MA_df.iloc[0,2] - ROF_df.loc[index,'Announced Date (dd/mm/yyyy)'])/178).days\n",
    "#         period_month.append(period)\n",
    "            \n",
    "#     ROF_df['invest_to_exit_month'] = pd.Series(period_month)\n",
    "    \n",
    "#     # !!!! The way we calculate the sum of investment\n",
    "#     sum_of_invest = (ROF_df['Total Transaction Value ($M)']*np.power(1.05,ROF_df['invest_to_exit_month'])).sum()\n",
    "#     exit_value = MA_df.iloc[0,4]\n",
    "    \n",
    "#     return np.max(ROF_df['invest_to_exit_month']),len(ROF_df['invest_to_exit_month']),exit_value,exit_value/sum_of_invest"
   ]
  },
  {
   "cell_type": "code",
   "execution_count": null,
   "id": "51445090",
   "metadata": {
    "id": "17eedc80"
   },
   "outputs": [],
   "source": [
    "# Older version\n",
    "# Exit_return_ratio_sample=[]\n",
    "# period = []\n",
    "# investment_time = []\n",
    "# Exit_value = []\n",
    "# for company_name in unique_company_name:\n",
    "#     ROF_earlist_invest,inv_time,Exit_val,Exit_return_ratio = investment_func(company_name,Deal_df_select_ROF,Deal_df_select_MAWhole)\n",
    "#     if Exit_return_ratio > 0:\n",
    "#         Exit_return_ratio_sample.append(Exit_return_ratio)\n",
    "#     else:\n",
    "#         print('not correct',Exit_return_ratio)\n",
    "#     period.append(ROF_earlist_invest)\n",
    "#     investment_time.append(inv_time)\n",
    "#     Exit_value.append(Exit_val)"
   ]
  },
  {
   "cell_type": "code",
   "execution_count": null,
   "id": "dbdd7b0d",
   "metadata": {},
   "outputs": [],
   "source": [
    "def investment_statistics(comp_name,Deal_df_select_ROF):\n",
    "    ROF_df = Deal_df_select_ROF[Deal_df_select_ROF['Target/Issuer Name '] == comp_name]\n",
    "    ROF_df.index =  range(len(ROF_df.index))\n",
    "    \n",
    "    # !!!! The way we calculate the sum of investment\n",
    "    sum_of_invest = (ROF_df['period_to_exit']*np.power(1.05,ROF_df['Total Transaction Value ($M)'])).sum()\n",
    "    exit_value = ROF_df.loc[0,'Exit_value']\n",
    "    \n",
    "    return np.max(ROF_df['period_to_exit']),len(ROF_df),exit_value,exit_value/sum_of_invest"
   ]
  },
  {
   "cell_type": "code",
   "execution_count": null,
   "id": "faa3ed71",
   "metadata": {},
   "outputs": [],
   "source": [
    "Exit_return_ratio_sample=[]\n",
    "period = []\n",
    "investment_time = []\n",
    "Exit_value = []\n",
    "for company_name in unique_company_name:\n",
    "    ROF_earlist_invest,inv_time,Exit_val,Exit_return_ratio = investment_statistics(company_name,Deal_df_select_ROF)\n",
    "\n",
    "    Exit_return_ratio_sample.append(Exit_return_ratio)\n",
    "    period.append(ROF_earlist_invest)\n",
    "    investment_time.append(inv_time)\n",
    "    Exit_value.append(Exit_val)"
   ]
  },
  {
   "cell_type": "code",
   "execution_count": null,
   "id": "1888910a",
   "metadata": {
    "id": "16eff4cc",
    "outputId": "3d302c23-c911-4dae-f51b-6d283649b388"
   },
   "outputs": [],
   "source": [
    "# Mean of exit_value\n",
    "np.mean(Exit_value)"
   ]
  },
  {
   "cell_type": "code",
   "execution_count": null,
   "id": "2ef6ab6e",
   "metadata": {
    "id": "a76258b0",
    "outputId": "d979f35d-2e63-4a22-abd3-9da8432112f8"
   },
   "outputs": [],
   "source": [
    "# The average number of investment rounds\n",
    "np.mean(investment_time)"
   ]
  },
  {
   "cell_type": "code",
   "execution_count": null,
   "id": "48e2ace1",
   "metadata": {
    "id": "c57b60b3",
    "outputId": "61ee3e6f-205a-4a4b-a22b-446b08e49abd"
   },
   "outputs": [],
   "source": [
    "# Avg investment period from ealist growth investment to exit (unit half an year)\n",
    "np.mean(np.array(period))"
   ]
  },
  {
   "cell_type": "markdown",
   "id": "d6544462",
   "metadata": {},
   "source": [
    "Exit_return_ratio_sample = exit_value/sum_of_investment"
   ]
  },
  {
   "cell_type": "code",
   "execution_count": null,
   "id": "ab07df86",
   "metadata": {
    "id": "cbeae76e",
    "outputId": "e55d6133-9746-43bf-90c1-7ffa03cda0ad"
   },
   "outputs": [],
   "source": [
    "np.mean(Exit_return_ratio_sample)"
   ]
  },
  {
   "cell_type": "code",
   "execution_count": null,
   "id": "b9f43b3e",
   "metadata": {
    "id": "2b30cf30",
    "outputId": "0f3ef4a9-f6ee-4b02-cdc5-6957897f1776"
   },
   "outputs": [],
   "source": [
    "plt.hist(Exit_return_ratio_sample,bins=20)\n",
    "plt.title('Exit/investment ratio for UK companies backed by PE')\n",
    "plt.xlabel('Exit value / Adjusted investment amount though ROF')\n",
    "plt.ylabel('Counts')"
   ]
  },
  {
   "cell_type": "markdown",
   "id": "c9f84bc5",
   "metadata": {
    "id": "773979c2"
   },
   "source": [
    "#### Draft"
   ]
  },
  {
   "cell_type": "code",
   "execution_count": null,
   "id": "80322d6a",
   "metadata": {},
   "outputs": [],
   "source": [
    "def ARM_mini_investments_rounds(self,p):\n",
    "    \n",
    "    completion_time_Ktimes,sum_of_investment_Ktimes,exit_value_of_companies_Ktimes,sum_exit_return_list = self.simu_k_scenairos()\n",
    "    \n",
    "    for invest_rounds in range(self.Max_investment_length):\n",
    "    invest_each_round = np.power(1.05,invest_rounds)\n",
    "    beta = 0 # number of simulation when the sum of return > threshold\n",
    "    \n",
    "    for k in range(self.K):\n",
    "        for company_i in range(self.I):\n",
    "                # Complete = reach completion rounds\n",
    "            if invest_rounds >= completion_time_Ktimes[k][company_i]:\n",
    "                    # Only when net return>1 then we exit,or we terminate the investment in that company\n",
    "                if ((exit_value_of_companies_Ktimes[k][company_i] - sum_of_investment_Ktimes[k][company_i]) > 1) & (invest_rounds == completion_time_Ktimes[k][company_i]):\n",
    "                    sum_exit_return_list[k] = sum_exit_return_list[k] + exit_value_of_companies_Ktimes[k][company_i] \n",
    "            else:\n",
    "                sum_exit_return_list[k] = sum_exit_return_list[k] - invest_each_round\n",
    "            \n",
    "        if sum_exit_return_list[k] > self.Expacted_exit_value_per_company*self.I:\n",
    "            beta = beta + 1\n",
    "    if beta >= self.K*p:\n",
    "        break\n",
    "        \n",
    "    return invest_rounds"
   ]
  },
  {
   "cell_type": "markdown",
   "id": "2cec395a",
   "metadata": {},
   "source": [
    "##### simple simulation method"
   ]
  },
  {
   "cell_type": "code",
   "execution_count": null,
   "id": "3169007e",
   "metadata": {
    "id": "6b591579"
   },
   "outputs": [],
   "source": [
    "# Company name I\n",
    "I = 20\n",
    "Expacted_exit_value_per_company = 3 # net per investment\n",
    "Max_investment_length = 10\n",
    "K = 1000 #simulation time"
   ]
  },
  {
   "cell_type": "code",
   "execution_count": null,
   "id": "795323a4",
   "metadata": {},
   "outputs": [],
   "source": [
    "# Prove the equation is valid\n",
    "sum_test = 0\n",
    "for i in range(4):\n",
    "    sum_test = sum_test + np.power(1.05,i)\n",
    "sum_of_investment = (np.power(1.05,4) - 1)/0.05 \n",
    "print(sum_test,sum_of_investment)"
   ]
  },
  {
   "cell_type": "code",
   "execution_count": null,
   "id": "73dbff50",
   "metadata": {
    "id": "7f479566"
   },
   "outputs": [],
   "source": [
    "def sim_selection_result(I,Expacted_exit_value_per_company,Max_investment_length,params):\n",
    "    # Simulate completion time\n",
    "    elements = [4,5,6,7,8]\n",
    "    probabilities = [0.1,0.3,0.3,0.2,0.1]\n",
    "    completion_time = np.random.choice(elements, I, p=probabilities)\n",
    "    \n",
    "    rand_numbe_lognorm = scipy.stats.lognorm.rvs(params[0],loc=params[1],scale=params[2], size=I)\n",
    "    # simulation: rand_numbe_lognorm = exit_value/sum_of_investment\n",
    "    sum_of_investment = (np.power(1.05,completion_time-1) - 1)/0.05 \n",
    "    exit_value_of_companies = rand_numbe_lognorm*sum_of_investment\n",
    "\n",
    "    \n",
    "    sum_exit_return = 0\n",
    "    total_number_of_exit_companies = 0\n",
    "    for invest_rounds in range(Max_investment_length):\n",
    "        invest_each_round = np.power(1.05,invest_rounds)\n",
    "        for company_i in range(I):\n",
    "            # Complete = reach completion rounds\n",
    "            if invest_rounds >= completion_time[company_i]:\n",
    "                # Only when net return>1 then we exit,or we terminate the investment in that company\n",
    "                if ((exit_value_of_companies[company_i] - sum_of_investment[company_i]) > 1) & (invest_rounds == completion_time[company_i]):\n",
    "                    sum_exit_return = sum_exit_return + exit_value_of_companies[company_i] \n",
    "                    total_number_of_exit_companies = total_number_of_exit_companies + 1\n",
    "                    #print('Company',company_i,'Finish at rounds',completion_time[company_i],':',exit_value_of_companies[company_i])\n",
    "            # Not reaching completion rounds\n",
    "            else:\n",
    "                sum_exit_return = sum_exit_return - invest_each_round\n",
    "        if sum_exit_return > Expacted_exit_value_per_company*I:\n",
    "            break\n",
    "            \n",
    "    return invest_rounds,sum_exit_return,total_number_of_exit_companies"
   ]
  },
  {
   "cell_type": "code",
   "execution_count": null,
   "id": "369cdf51",
   "metadata": {},
   "outputs": [],
   "source": [
    "#Example for one simulation\n",
    "#sim_selection_result(I,Expacted_exit_value_per_company,Max_investment_length,params)"
   ]
  },
  {
   "cell_type": "code",
   "execution_count": null,
   "id": "e0cb74d4",
   "metadata": {
    "id": "34c3f66d"
   },
   "outputs": [],
   "source": [
    "investment_terminated_time = []\n",
    "sum_of_return = []\n",
    "n_comp = []\n",
    "for k in range(K):\n",
    "    t,r,n = sim_selection_result(I,Expacted_exit_value_per_company,Max_investment_length,params)\n",
    "    investment_terminated_time.append(t)\n",
    "    sum_of_return.append(r)\n",
    "    n_comp.append(n)"
   ]
  },
  {
   "cell_type": "code",
   "execution_count": null,
   "id": "6d1fc58b",
   "metadata": {},
   "outputs": [],
   "source": [
    "selection_result_df = pd.DataFrame({'terminal_round':investment_terminated_time,'sum_of_return':sum_of_return,'number_of_exit_companies':n_comp})"
   ]
  },
  {
   "cell_type": "code",
   "execution_count": null,
   "id": "e363d648",
   "metadata": {
    "id": "4c1e75f5",
    "outputId": "89242f8a-e55b-48ed-b3ef-3a5ec4aa1762"
   },
   "outputs": [],
   "source": [
    "plt.hist(investment_terminated_time)\n",
    "plt.title('The investment rounds when portfoilo reaches the expected return for PE in 500 simulation times')\n",
    "plt.xlabel('investment rounds')"
   ]
  },
  {
   "cell_type": "code",
   "execution_count": null,
   "id": "25ef838f",
   "metadata": {},
   "outputs": [],
   "source": [
    "selection_result_df['terminal_round'].value_counts()"
   ]
  },
  {
   "cell_type": "code",
   "execution_count": null,
   "id": "e8f5fbde",
   "metadata": {},
   "outputs": [],
   "source": [
    "selection_result_df.groupby('terminal_round').agg({'number_of_exit_companies':['mean', 'max', 'min','var']})"
   ]
  },
  {
   "cell_type": "code",
   "execution_count": null,
   "id": "92563c07",
   "metadata": {},
   "outputs": [],
   "source": [
    "selection_result_df.groupby('terminal_round').agg({'sum_of_return':['mean', 'max', 'min','var']})"
   ]
  },
  {
   "cell_type": "code",
   "execution_count": null,
   "id": "b6b399b1",
   "metadata": {},
   "outputs": [],
   "source": [
    "selection_result_df['sum_of_return'].hist(by=selection_result_df['terminal_round'],figsize =(10,8))"
   ]
  },
  {
   "cell_type": "markdown",
   "id": "0489dc3f",
   "metadata": {},
   "source": [
    "##### Consider p using ARM model"
   ]
  },
  {
   "cell_type": "markdown",
   "id": "5ef9ff86",
   "metadata": {},
   "source": [
    "Earlier, we simulate 1000 times and found the mini time for each one \\\n",
    "In this part, we simulate1000 different results and for each round check percentage"
   ]
  },
  {
   "cell_type": "code",
   "execution_count": null,
   "id": "06e49ceb",
   "metadata": {},
   "outputs": [],
   "source": [
    "K = 2000\n",
    "\n",
    "elements = [4,5,6,7,8]\n",
    "probabilities = [0.1,0.3,0.3,0.2,0.1]\n",
    "\n",
    "p = 0.95\n",
    "Max_investment_length = 10\n",
    "Expacted_exit_value_per_company = 3\n",
    "\n",
    "completion_time_Ktimes = []\n",
    "exit_value_of_companies_Ktimes = []\n",
    "sum_of_investment_Ktimes = []\n",
    "\n",
    "for k in range(K):\n",
    "    completion_time = np.random.choice(elements, I, p=probabilities)\n",
    "    completion_time_Ktimes.append(completion_time)\n",
    "    \n",
    "    rand_numbe_lognorm = scipy.stats.lognorm.rvs(params[0],loc=params[1],scale=params[2], size=I)\n",
    "    sum_of_investment = (np.power(1.05,completion_time-1) - 1)/0.05 \n",
    "    sum_of_investment_Ktimes.append(sum_of_investment)\n",
    "    \n",
    "    \n",
    "    exit_value_of_companies = rand_numbe_lognorm*sum_of_investment\n",
    "    exit_value_of_companies_Ktimes.append(exit_value_of_companies)"
   ]
  },
  {
   "cell_type": "code",
   "execution_count": null,
   "id": "1dc99343",
   "metadata": {},
   "outputs": [],
   "source": [
    "completion_time_Ktimes = np.array(completion_time_Ktimes)\n",
    "sum_of_investment_Ktimes = np.array(sum_of_investment_Ktimes)\n",
    "exit_value_of_companies_Ktimes = np.array(exit_value_of_companies_Ktimes)\n",
    "sum_exit_return_list = np.zeros(K)"
   ]
  },
  {
   "cell_type": "code",
   "execution_count": null,
   "id": "2fd4dc33",
   "metadata": {},
   "outputs": [],
   "source": [
    "exit_value_of_companies_Ktimes[6]"
   ]
  },
  {
   "cell_type": "code",
   "execution_count": null,
   "id": "82d263c8",
   "metadata": {},
   "outputs": [],
   "source": [
    "for invest_rounds in range(Max_investment_length):\n",
    "    invest_each_round = np.power(1.05,invest_rounds)\n",
    "    beta = 0 # number of simulation when the sum of return > threshold\n",
    "    \n",
    "    for k in range(K):\n",
    "        for company_i in range(I):\n",
    "                # Complete = reach completion rounds\n",
    "            if invest_rounds >= completion_time_Ktimes[k][company_i]:\n",
    "                    # Only when net return>1 then we exit,or we terminate the investment in that company\n",
    "                if ((exit_value_of_companies_Ktimes[k][company_i] - sum_of_investment_Ktimes[k][company_i]) > 1) & (invest_rounds == completion_time_Ktimes[k][company_i]):\n",
    "                    sum_exit_return_list[k] = sum_exit_return_list[k] + exit_value_of_companies_Ktimes[k][company_i] \n",
    "            else:\n",
    "                sum_exit_return_list[k] = sum_exit_return_list[k] - invest_each_round\n",
    "            \n",
    "        if sum_exit_return_list[k] > Expacted_exit_value_per_company*I:\n",
    "            beta = beta + 1\n",
    "    if beta >= K*p:\n",
    "        print(invest_rounds,beta)\n",
    "        break"
   ]
  },
  {
   "cell_type": "code",
   "execution_count": null,
   "id": "e8c77f5f",
   "metadata": {},
   "outputs": [],
   "source": [
    "invest_rounds"
   ]
  },
  {
   "cell_type": "code",
   "execution_count": null,
   "id": "e877c189",
   "metadata": {},
   "outputs": [],
   "source": [
    "def sim_selection_result_with_p(I,Max_investment_length,params,K,p):\n",
    "    elements = [4,5,6,7,8]\n",
    "    probabilities = [0.1,0.3,0.3,0.2,0.1]\n",
    "    final_terminated_round_05 = []\n",
    "    final_terminated_round_1 = []\n",
    "    final_terminated_round_2 = []\n",
    "        \n",
    "    for invest_rounds in range(Max_investment_length):\n",
    "        invest_each_round = np.power(1.05,invest_rounds)\n",
    "        beta_05 = 0\n",
    "        beta_1 = 0\n",
    "        beta_2 = 0\n",
    "    \n",
    "        for k in range(K):\n",
    "            sum_exit_return = 0\n",
    "            \n",
    "            completion_time = np.random.choice(elements, I, p=probabilities)\n",
    "            rand_numbe_lognorm = scipy.stats.lognorm.rvs(params[0],loc=params[1],scale=params[2], size=I)\n",
    "            # simulation: rand_numbe_lognorm = exit_value/sum_of_investment\n",
    "            sum_of_investment = (np.power(1.05,completion_time-1) - 1)/0.05 \n",
    "            exit_value_of_companies = rand_numbe_lognorm*sum_of_investment\n",
    "                \n",
    "            for company_i in range(I):\n",
    "                # Complete = reach completion rounds\n",
    "                if invest_rounds >= completion_time[company_i]:\n",
    "                    # Only when net return>1 then we exit,or we terminate the investment in that company\n",
    "                    if ((exit_value_of_companies[company_i] - sum_of_investment[company_i]) > 1) & (invest_rounds == completion_time[company_i]):\n",
    "                        sum_exit_return = sum_exit_return + exit_value_of_companies[company_i] \n",
    "    #                     total_number_of_exit_companies = total_number_of_exit_companies + 1\n",
    "                        #print('Company',company_i,'Finish at rounds',completion_time[company_i],':',exit_value_of_companies[company_i])\n",
    "                    # Not reaching completion rounds\n",
    "                else:\n",
    "                    sum_exit_return = sum_exit_return - invest_each_round\n",
    "\n",
    "                # Check if net return excess target R\n",
    "            if sum_exit_return > 0.5*I:\n",
    "                beta_05 = beta_05 + 1\n",
    "                #print('sum_exit_return=',sum_exit_return,'rounds =',invest_rounds)\n",
    "            \n",
    "            if sum_exit_return > I:\n",
    "                beta_1 = beta_1 + 1\n",
    "            \n",
    "            if sum_exit_return > 2*I:\n",
    "                beta_2 = beta_2 + 1   \n",
    "\n",
    "        if beta_05 >= K*p:\n",
    "            final_terminated_round_05.append(invest_rounds)\n",
    "        if beta_1 >= K*p:\n",
    "            final_terminated_round_1.append(invest_rounds)\n",
    "        if beta_2 >= K*p:\n",
    "            final_terminated_round_2.append(invest_rounds)\n",
    "            \n",
    "    return final_terminated_round_05,final_terminated_round_1,final_terminated_round_2"
   ]
  },
  {
   "cell_type": "code",
   "execution_count": null,
   "id": "9c405437",
   "metadata": {},
   "outputs": [],
   "source": [
    "sim_selection_result_with_p(I,15,params,500,0.8)"
   ]
  },
  {
   "cell_type": "code",
   "execution_count": null,
   "id": "c4f91dfc",
   "metadata": {},
   "outputs": [],
   "source": [
    "sim_selection_result_with_p(I,0.5,15,params,1000,0.90)"
   ]
  },
  {
   "cell_type": "code",
   "execution_count": null,
   "id": "fb5b3611",
   "metadata": {},
   "outputs": [],
   "source": [
    "sim_selection_result_with_p(I,1.0,15,params,1000,0.90)"
   ]
  },
  {
   "cell_type": "code",
   "execution_count": null,
   "id": "d4a365cb",
   "metadata": {},
   "outputs": [],
   "source": [
    "# Wrong! Simulate 1000 completion time\n",
    "def sim_selection_result_with_p(I,Expacted_exit_value_per_company,Max_investment_length,params,K,p):\n",
    "    # Simulate completion time\n",
    "    elements = [4,5,6,7,8]\n",
    "    probabilities = [0.1,0.3,0.3,0.2,0.1]\n",
    "        \n",
    "    for invest_rounds in range(Max_investment_length):\n",
    "        invest_each_round = np.power(1.05,invest_rounds)\n",
    "        for k in range(K):\n",
    "            beta = 0\n",
    "            sum_exit_return = 0\n",
    "#             total_number_of_exit_companies = 0\n",
    "\n",
    "#             investment_round = []\n",
    "#             sum_exit_return = []\n",
    "#             total_number_of_exit_companies = []\n",
    "            \n",
    "            completion_time = np.random.choice(elements, I, p=probabilities)\n",
    "            rand_numbe_lognorm = scipy.stats.lognorm.rvs(params[0],loc=params[1],scale=params[2], size=I)\n",
    "            # simulation: rand_numbe_lognorm = exit_value/sum_of_investment\n",
    "            sum_of_investment = (np.power(1.05,completion_time-1) - 1)/0.05 \n",
    "            exit_value_of_companies = rand_numbe_lognorm*sum_of_investment\n",
    "                \n",
    "            for company_i in range(I):\n",
    "                # Complete = reach completion rounds\n",
    "                if invest_rounds >= completion_time[company_i]:\n",
    "                    # Only when net return>1 then we exit,or we terminate the investment in that company\n",
    "                    if ((exit_value_of_companies[company_i] - sum_of_investment[company_i]) > 1) & (invest_rounds == completion_time[company_i]):\n",
    "                        sum_exit_return = sum_exit_return + exit_value_of_companies[company_i] \n",
    "#                     total_number_of_exit_companies = total_number_of_exit_companies + 1\n",
    "                    #print('Company',company_i,'Finish at rounds',completion_time[company_i],':',exit_value_of_companies[company_i])\n",
    "                # Not reaching completion rounds\n",
    "                else:\n",
    "                    sum_exit_return = sum_exit_return - invest_each_round\n",
    "            \n",
    "            # Check if net return excess target R\n",
    "            if sum_exit_return > Expacted_exit_value_per_company*I:\n",
    "                beta = beta + 1\n",
    "                \n",
    "        if beta >= K*p:\n",
    "            break\n",
    "                \n",
    "            \n",
    "    return invest_rounds"
   ]
  },
  {
   "cell_type": "code",
   "execution_count": null,
   "id": "c4854dfc",
   "metadata": {
    "id": "a4df12e1"
   },
   "outputs": [],
   "source": [
    "#Final decision \n",
    "investment_terminated_time"
   ]
  },
  {
   "cell_type": "code",
   "execution_count": null,
   "id": "30708bf6",
   "metadata": {},
   "outputs": [],
   "source": []
  },
  {
   "cell_type": "code",
   "execution_count": null,
   "id": "0f86a706",
   "metadata": {
    "id": "211f54dd"
   },
   "outputs": [],
   "source": [
    "# Simulate completion time\n",
    "elements = [6,7,8,9,10]\n",
    "probabilities = [0.1,0.3,0.3,0.2,0.1]\n",
    "completion_time = np.random.choice(elements, I, p=probabilities)"
   ]
  },
  {
   "cell_type": "code",
   "execution_count": null,
   "id": "08a90b6e",
   "metadata": {
    "id": "068c25f7"
   },
   "outputs": [],
   "source": [
    "rand_numbe_lognorm = scipy.stats.lognorm.rvs(params[0],loc=params[1],scale=params[2], size=I)"
   ]
  },
  {
   "cell_type": "code",
   "execution_count": null,
   "id": "eefa1ca7",
   "metadata": {
    "id": "3dcc1460",
    "outputId": "02477ae5-10c2-49fc-caed-488ee044da17"
   },
   "outputs": [],
   "source": [
    "# !!!! Number not correct\n",
    "exit_value_of_companies = rand_numbe_lognorm*np.power(1.2,completion_time)\n",
    "exit_value_of_companies"
   ]
  },
  {
   "cell_type": "code",
   "execution_count": null,
   "id": "1b2307e0",
   "metadata": {
    "id": "2243e568",
    "outputId": "8e681ed6-9e3c-42a0-a1ea-3c460e7d91b7"
   },
   "outputs": [],
   "source": [
    "sum_exit_return = 0\n",
    "for invest_rounds in range(Max_investment_length):\n",
    "    for company_i in range(I):\n",
    "        if invest_rounds > completion_time[company_i]:\n",
    "            if (exit_value_of_companies[company_i] - invest_rounds) > 1:\n",
    "                sum_exit_return = sum_exit_return + exit_value_of_companies[company_i] - invest_rounds\n",
    "    if sum_exit_return > Expacted_exit_value_per_company*I:\n",
    "        break\n",
    "print(invest_rounds,sum_exit_return)"
   ]
  },
  {
   "cell_type": "code",
   "execution_count": null,
   "id": "8a5b7ded",
   "metadata": {
    "id": "3c6656be"
   },
   "outputs": [],
   "source": [
    "Deal_df_select_exit[Deal_df_select_exit['Target/Issuer Name '].isin(muti_ma_company_name.index[muti_ma_company_name.get(2)])]"
   ]
  },
  {
   "cell_type": "code",
   "execution_count": null,
   "id": "1e2a66c4",
   "metadata": {
    "id": "1c351935"
   },
   "outputs": [],
   "source": [
    "sns.relplot(data=df, x='Announced Date (dd/mm/yyyy)', y='Total Transaction Value ($M)')\n",
    "plt.show()"
   ]
  },
  {
   "cell_type": "code",
   "execution_count": null,
   "id": "013bfbc8",
   "metadata": {
    "id": "a600f331",
    "outputId": "ae92d99f-3bf1-4391-9963-b24d9b87d0db"
   },
   "outputs": [],
   "source": [
    "df = Deal_df_select[Deal_df_select['Target/Issuer Name '] == unique_company_name[1]]\n",
    "sns.relplot(data=df, x='Announced Date (dd/mm/yyyy)', y='Total Transaction Value ($M)', hue='Transaction Type ',aspect=1.61)\n",
    "sns.relplot(data=df,  kind=\"line\", x='Announced Date (dd/mm/yyyy)', y='Total Transaction Value ($M)')\n",
    "plt.show()"
   ]
  },
  {
   "cell_type": "code",
   "execution_count": null,
   "id": "00989250",
   "metadata": {
    "id": "5856ecc9",
    "outputId": "004ffdca-6bae-44a7-9c00-385151f1eebd"
   },
   "outputs": [],
   "source": [
    "plt.rcParams['figure.figsize'] = [10, 8]\n",
    "df = Deal_df_select[Deal_df_select['Target/Issuer Name '] == unique_company_name[1]]\n",
    "plt.scatter(df['Announced Date (dd/mm/yyyy)'],df['Total Transaction Value ($M)'])\n",
    "plt.plot(df['Announced haoDate (dd/mm/yyyy)'],df['Total Transaction Value ($M)'])"
   ]
  },
  {
   "cell_type": "code",
   "execution_count": null,
   "id": "f864edfc",
   "metadata": {
    "id": "99d9a79b",
    "outputId": "143ea40b-309d-4b9f-fd93-bca5649b6cef"
   },
   "outputs": [],
   "source": [
    "for company in unique_company_name:\n",
    "    df = Deal_df_select[Deal_df_select['Target/Issuer Name '] == company]\n",
    "    plt.plot(df['Announced Date (dd/mm/yyyy)'],df['Total Transaction Value ($M)'])\n",
    "plt.show()"
   ]
  },
  {
   "cell_type": "code",
   "execution_count": null,
   "id": "43fe5e66",
   "metadata": {
    "id": "2336bffe"
   },
   "outputs": [],
   "source": []
  }
 ],
 "metadata": {
  "colab": {
   "provenance": []
  },
  "kernelspec": {
   "display_name": "Python 3 (ipykernel)",
   "language": "python",
   "name": "python3"
  },
  "language_info": {
   "codemirror_mode": {
    "name": "ipython",
    "version": 3
   },
   "file_extension": ".py",
   "mimetype": "text/x-python",
   "name": "python",
   "nbconvert_exporter": "python",
   "pygments_lexer": "ipython3",
   "version": "3.9.7"
  },
  "toc": {
   "base_numbering": 1,
   "nav_menu": {
    "height": "148px",
    "width": "252px"
   },
   "number_sections": true,
   "sideBar": true,
   "skip_h1_title": false,
   "title_cell": "Table of Contents",
   "title_sidebar": "Contents",
   "toc_cell": false,
   "toc_position": {
    "height": "calc(100% - 180px)",
    "left": "10px",
    "top": "150px",
    "width": "307.2px"
   },
   "toc_section_display": true,
   "toc_window_display": true
  }
 },
 "nbformat": 4,
 "nbformat_minor": 5
}
